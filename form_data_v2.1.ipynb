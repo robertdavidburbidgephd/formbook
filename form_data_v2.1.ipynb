{
 "cells": [
  {
   "cell_type": "markdown",
   "id": "1d76ea1d-4c2f-4ab3-95e4-647a7125fad9",
   "metadata": {},
   "source": [
    "# "
   ]
  },
  {
   "cell_type": "code",
   "execution_count": 2,
   "id": "32230358-99bc-4299-a362-74ddcdf32666",
   "metadata": {},
   "outputs": [],
   "source": [
    "import pandas as pd\n",
    "import numpy as np\n",
    "import datetime as dt\n",
    "import re"
   ]
  },
  {
   "cell_type": "code",
   "execution_count": 3,
   "id": "cd1d9653-5078-40be-97af-cbfa5453c56e",
   "metadata": {},
   "outputs": [],
   "source": [
    "# df utility\n",
    "def fColumns(df):\n",
    "    print(pd.DataFrame.from_dict({ 'column': df.columns.values, \n",
    "                            'dtype': df.dtypes.values,\n",
    "                            'nmissing': df.isna().apply(sum).values}))\n",
    "    return"
   ]
  },
  {
   "cell_type": "code",
   "execution_count": 4,
   "id": "8b7f36e0-0088-4a38-82da-235a1aa5c977",
   "metadata": {},
   "outputs": [],
   "source": [
    "## all yearly data\n",
    "# the raw csv have been converted to pipe-separated by csvtool for convenience\n",
    "files = [ 'SFF_2016-2019.psv', 'SFF_2020-2023.psv', 'SFF_2024.psv' ]\n",
    "fpath = 'data/prep/'"
   ]
  },
  {
   "cell_type": "code",
   "execution_count": 5,
   "id": "218319ba-903a-42ff-8309-d3a69d32b299",
   "metadata": {},
   "outputs": [],
   "source": [
    "## to read the input files\n",
    "def read_psv(f):\n",
    "    return pd.read_csv(f, sep='|', header=0\n",
    "        # , nrows=1000\n",
    "    , dtype={ 'Id': np.int32, 'Course': pd.StringDtype(), 'Race': pd.StringDtype()\n",
    "            , 'Type': pd.StringDtype(), 'AgeLimit': pd.StringDtype()\n",
    "            , 'Prize': np.float64, 'Ran': np.int8, 'Distance': pd.StringDtype(), 'Yards': np.int16\n",
    "            , 'Going': pd.StringDtype()\n",
    "        , 'WinTime': pd.StringDtype() # redundant CHECK\n",
    "        , 'Seconds': np.float64\n",
    "        , 'FPos': pd.StringDtype(), 'DstBtn': pd.StringDtype(), 'TotalBtn': pd.StringDtype()\n",
    "        # , 'CardNo': np.int8   # has NAs\n",
    "        , 'HorseName': pd.StringDtype()\n",
    "        # , 'Draw': np.int8   # has NAs\n",
    "        , 'Sp': np.float64, 'Age': np.int8\n",
    "        , 'Stone': np.int8, 'Lbs': np.int8\n",
    "        , 'WeightLBS': np.int16 # redundant CHECK\n",
    "        , 'Fav': pd.StringDtype(), 'Aid': pd.StringDtype()\n",
    "        , 'Trainer': pd.StringDtype(), 'Jockey': pd.StringDtype()\n",
    "        # , 'Allow': np.int8   # has NAs\n",
    "        , 'OR': pd.StringDtype() # np.int16 with NAs but throws \"mixed types\" warning if unspecified\n",
    "        , 'Comments': pd.StringDtype()\n",
    "        }\n",
    "    , parse_dates=[2, 3]    # works but throws a warning for RaceDate as 'd-Mon-yy'\n",
    "    , dayfirst=True         # owing to inconsistent formats\n",
    "    , thousands=',' # or null\n",
    "    , encoding='cp1252')"
   ]
  },
  {
   "cell_type": "code",
   "execution_count": 6,
   "id": "e762b100-4673-41d6-ae6d-6aeddea76904",
   "metadata": {},
   "outputs": [
    {
     "name": "stderr",
     "output_type": "stream",
     "text": [
      "/tmp/ipykernel_72994/2175177951.py:3: UserWarning: Could not infer format, so each element will be parsed individually, falling back to `dateutil`. To ensure parsing is consistent and as-expected, please specify a format.\n",
      "  return pd.read_csv(f, sep='|', header=0\n",
      "/tmp/ipykernel_72994/2175177951.py:3: UserWarning: Could not infer format, so each element will be parsed individually, falling back to `dateutil`. To ensure parsing is consistent and as-expected, please specify a format.\n",
      "  return pd.read_csv(f, sep='|', header=0\n",
      "/tmp/ipykernel_72994/2175177951.py:3: UserWarning: Could not infer format, so each element will be parsed individually, falling back to `dateutil`. To ensure parsing is consistent and as-expected, please specify a format.\n",
      "  return pd.read_csv(f, sep='|', header=0\n",
      "/tmp/ipykernel_72994/2175177951.py:3: UserWarning: Could not infer format, so each element will be parsed individually, falling back to `dateutil`. To ensure parsing is consistent and as-expected, please specify a format.\n",
      "  return pd.read_csv(f, sep='|', header=0\n",
      "/tmp/ipykernel_72994/2175177951.py:3: UserWarning: Could not infer format, so each element will be parsed individually, falling back to `dateutil`. To ensure parsing is consistent and as-expected, please specify a format.\n",
      "  return pd.read_csv(f, sep='|', header=0\n",
      "/tmp/ipykernel_72994/2175177951.py:3: UserWarning: Could not infer format, so each element will be parsed individually, falling back to `dateutil`. To ensure parsing is consistent and as-expected, please specify a format.\n",
      "  return pd.read_csv(f, sep='|', header=0\n"
     ]
    }
   ],
   "source": [
    "df = pd.concat([ read_psv(fpath + f) for f in files ]).reset_index(drop=True)"
   ]
  },
  {
   "cell_type": "code",
   "execution_count": 7,
   "id": "273c0a62-317d-4f93-8d13-0fba39d6fbc5",
   "metadata": {},
   "outputs": [],
   "source": [
    "## deal with each column in turn"
   ]
  },
  {
   "cell_type": "code",
   "execution_count": 8,
   "id": "ce63fd53-4821-4645-b81a-9bbd5634d8e7",
   "metadata": {},
   "outputs": [],
   "source": [
    "# ID -> RaceID ... as is\n",
    "df.rename({ 'Id': 'RaceId' }, axis=1, inplace=True)"
   ]
  },
  {
   "cell_type": "code",
   "execution_count": 9,
   "id": "a2978bc2-857a-47f9-abe3-01be097d026f",
   "metadata": {},
   "outputs": [],
   "source": [
    "# Course -> CourseName ...\n",
    "df.rename({ 'Course': 'CourseName' }, axis=1, inplace=True)"
   ]
  },
  {
   "cell_type": "code",
   "execution_count": 10,
   "id": "4c3173ac-fbaf-4816-a3bc-abcf3183d506",
   "metadata": {},
   "outputs": [],
   "source": [
    "def fTerritory(x):\n",
    "    y = re.search(r' \\(([A-Z]+)\\)', x)\n",
    "    return y.group(1) if y else 'GB'"
   ]
  },
  {
   "cell_type": "code",
   "execution_count": 11,
   "id": "444fa139-a2b0-4245-9b66-916722f26b4a",
   "metadata": {},
   "outputs": [],
   "source": [
    "# list(df.CourseName.unique())"
   ]
  },
  {
   "cell_type": "code",
   "execution_count": 12,
   "id": "f3871755-70d6-4ab6-b062-2e7843836dfd",
   "metadata": {},
   "outputs": [],
   "source": [
    "# list(df.CourseName.apply(fTerritory).unique())"
   ]
  },
  {
   "cell_type": "code",
   "execution_count": 13,
   "id": "9c9ac110-0e3c-4f80-8935-7c0f76c1393f",
   "metadata": {},
   "outputs": [],
   "source": [
    "df['Territory'] = df.CourseName.apply(fTerritory)\n",
    "df.loc[df.Territory=='NI', 'Territory'] = 'IRE' # n. NI prizes are quoted in euro\n",
    "# remove non-GB/IRE races [not in 2024 data]\n",
    "df = df[(df.Territory=='GB') | (df.Territory=='IRE')]\n",
    "# drop the suffix as this is now in Territory\n",
    "df['CourseName'] = df['CourseName'].apply(lambda x: x.removesuffix(' (NI)').removesuffix(' (IRE)'))"
   ]
  },
  {
   "cell_type": "code",
   "execution_count": 14,
   "id": "7578a7d6-152e-44ab-bda6-98418d208006",
   "metadata": {},
   "outputs": [],
   "source": [
    "# RaceDate ...\n",
    "# RaceTime ..."
   ]
  },
  {
   "cell_type": "code",
   "execution_count": 15,
   "id": "6ff9edb5-14ac-41eb-9dc3-a1f023287efb",
   "metadata": {},
   "outputs": [],
   "source": [
    "\"\"\" https://stackoverflow.com/questions/61330414/pandas-astype-with-date-or-datetime/75990548#75990548\n",
    "\"\"\"\n",
    "df['RaceDate'] = df['RaceDate'].dt.date\n",
    "df['RaceTime'] = df['RaceTime'].dt.time"
   ]
  },
  {
   "cell_type": "code",
   "execution_count": 16,
   "id": "761d86f6-fdcd-4158-9b92-f396395c81c1",
   "metadata": {},
   "outputs": [],
   "source": [
    "# Race ...\n",
    "df['Md'] = df.Race.str.contains('Maiden')\n",
    "df['Nv'] = df.Race.str.contains('Novice')\n",
    "# 'Restricted' ...\n",
    "df['Hc'] = df.Race.str.contains('Handicap')\n",
    "\n",
    "df['RT1'] = df.apply(lambda r: 'Md' if r.Md else\\\n",
    "                              'NvHc' if r.Nv & r.Hc else\\\n",
    "                              'Nv' if r.Nv else\\\n",
    "                              'Hc' if r.Hc else '', axis=1)"
   ]
  },
  {
   "cell_type": "code",
   "execution_count": 17,
   "id": "b70e8066-947f-4340-8fd9-d67d020fcab6",
   "metadata": {},
   "outputs": [],
   "source": [
    "# tidy up\n",
    "df.drop(['Md','Nv','Hc'], axis=1, inplace=True)"
   ]
  },
  {
   "cell_type": "code",
   "execution_count": 18,
   "id": "0f9bcea9-9954-43cf-8516-f47650118cf6",
   "metadata": {},
   "outputs": [],
   "source": [
    "df['F'] = df.Race.str.contains('Fillies')\n",
    "df['M'] = df.Race.str.contains('Mares')\n",
    "# df['CG'] = df.Race.str.contains('Colts & Geldings') | df.Race.str.contains('Colts And Geldings')\n",
    "# df['C'] = df.Race.str.contains('\\(Colts\\)')\n",
    "# df['CF'] = df.Race.str.contains('Colts & Fillies') | df.Race.str.contains('Colts And Fillies')\n",
    "# df['NG'] = df.Race.str.contains('No Geldings')\n",
    "\n",
    "df['RT2'] = df.apply(lambda r: 'M' if r.M else\\\n",
    "                              'F' if r.F else '', axis=1)"
   ]
  },
  {
   "cell_type": "code",
   "execution_count": 19,
   "id": "e927c601-02b3-4775-ae09-860694e452c8",
   "metadata": {},
   "outputs": [],
   "source": [
    "# tidy up\n",
    "df.drop(['F','M'], axis=1, inplace=True)"
   ]
  },
  {
   "cell_type": "code",
   "execution_count": 20,
   "id": "73c72f7c-3304-442c-93a1-26b1f14379b2",
   "metadata": {},
   "outputs": [],
   "source": [
    "# tidy up\n",
    "df.drop('Race', axis=1, inplace=True)"
   ]
  },
  {
   "cell_type": "code",
   "execution_count": 21,
   "id": "7d771848-7431-4021-ad16-6778eb3c472b",
   "metadata": {},
   "outputs": [],
   "source": [
    "# Type ..."
   ]
  },
  {
   "cell_type": "code",
   "execution_count": 22,
   "id": "53be248e-4da8-453b-9462-0df26e5e8fb4",
   "metadata": {},
   "outputs": [],
   "source": [
    "df['H'] = ~df.Type.isna() & (df.Type == 'h')\n",
    "df['Ch'] = ~df.Type.isna() & (df.Type == 'c')\n",
    "df['NHF'] = ~df.Type.isna() & (df.Type == 'b')\n",
    "# df['Flat'] = df.Type.isna()\n",
    "\n",
    "df['RT3'] = df.apply(lambda r: 'H' if r.H else\\\n",
    "                               'Ch' if r.Ch else\\\n",
    "                               'NHF' if r.NHF else '', axis=1)"
   ]
  },
  {
   "cell_type": "code",
   "execution_count": 23,
   "id": "890a8005-7a77-43ad-9b36-3682268a6ec8",
   "metadata": {},
   "outputs": [],
   "source": [
    "# tidy up\n",
    "df.drop(['H','Ch','NHF'], axis=1, inplace=True)"
   ]
  },
  {
   "cell_type": "code",
   "execution_count": 24,
   "id": "d49a13fe-0cee-48e4-8cf5-777f4bd5e81d",
   "metadata": {},
   "outputs": [],
   "source": [
    "# v2.0\n",
    "# tidy up\n",
    "# df.drop('Type', axis=1, inplace=True)"
   ]
  },
  {
   "cell_type": "code",
   "execution_count": 25,
   "id": "90762957-74b5-476a-a312-b1c1f0b809d5",
   "metadata": {},
   "outputs": [],
   "source": [
    "df['RT'] = df.apply(lambda r: r.RT1 + r.RT3 + r.RT2, axis=1)"
   ]
  },
  {
   "cell_type": "code",
   "execution_count": 26,
   "id": "90da7f82-e5a6-4929-b4b7-f576ad3cfba8",
   "metadata": {},
   "outputs": [],
   "source": [
    "# tidy up\n",
    "df.drop(['RT1','RT2','RT3'], axis=1, inplace=True)"
   ]
  },
  {
   "cell_type": "code",
   "execution_count": 27,
   "id": "a247f84e-7df4-46b3-8811-0da702900f05",
   "metadata": {},
   "outputs": [],
   "source": [
    "# key variable for categorising races\n",
    "# df.RT.value_counts()"
   ]
  },
  {
   "cell_type": "code",
   "execution_count": 28,
   "id": "7c911050-d208-4bc8-92af-c1293d92dea3",
   "metadata": {},
   "outputs": [],
   "source": [
    "# Class ..."
   ]
  },
  {
   "cell_type": "code",
   "execution_count": 29,
   "id": "3155bca1-ed42-4b49-b54f-692df60fc25c",
   "metadata": {},
   "outputs": [],
   "source": [
    "# Class 47 Dun 14/02/24 ... Class 50 Gal .. corrections\n",
    "df.loc[(df.Class==47)|(df.Class==50), 'Class'] = np.nan"
   ]
  },
  {
   "cell_type": "code",
   "execution_count": 30,
   "id": "9ffdfdef-815e-4060-8c77-3c6d65cec392",
   "metadata": {},
   "outputs": [],
   "source": [
    "# Agelimit ..."
   ]
  },
  {
   "cell_type": "code",
   "execution_count": 31,
   "id": "121d2780-b84d-4925-b7bd-4005c1f2a544",
   "metadata": {},
   "outputs": [],
   "source": [
    "# parse AgeLimit string to numeric min and max\n",
    "df['AgeMin'] = [ float(x[:x.find('Y')]) for x in df.AgeLimit ]\n",
    "df['AgeMax'] = [ float(x[:x.find('Y')]) if x.endswith('only') \n",
    "                else float(x[x.rfind('Y')-1]) if x.find('to') > 0    # < 10\n",
    "                else np.nan for x in df.AgeLimit ]"
   ]
  },
  {
   "cell_type": "code",
   "execution_count": 32,
   "id": "0ad9481e-4308-49d9-90ee-4ec7a84318e4",
   "metadata": {},
   "outputs": [],
   "source": [
    "# tidy up\n",
    "df.drop('AgeLimit', axis=1, inplace=True)"
   ]
  },
  {
   "cell_type": "code",
   "execution_count": 33,
   "id": "1f932c0d-3241-4570-b943-e27a3a4b8c9f",
   "metadata": {},
   "outputs": [],
   "source": [
    "# Prize ...\n",
    "# TODO parse to numeric"
   ]
  },
  {
   "cell_type": "code",
   "execution_count": 34,
   "id": "6ca558ed-6bfe-425b-998e-f25bb42c614b",
   "metadata": {},
   "outputs": [],
   "source": [
    "# Ran -> FieldSize ... as is\n",
    "df.rename({ 'Ran': 'FieldSize' }, axis=1, inplace=True)"
   ]
  },
  {
   "cell_type": "code",
   "execution_count": 35,
   "id": "c268bc07-a524-4753-9802-c201249592f4",
   "metadata": {},
   "outputs": [],
   "source": [
    "# Distance ... redundant\n",
    "df.drop('Distance', axis=1, inplace=True)"
   ]
  },
  {
   "cell_type": "code",
   "execution_count": 36,
   "id": "af249f9a-7260-4f99-bfbe-85543432ea51",
   "metadata": {},
   "outputs": [],
   "source": [
    "# Yards -> Distance ... as is\n",
    "df.rename({ 'Yards': 'Distance' }, axis=1, inplace=True)"
   ]
  },
  {
   "cell_type": "code",
   "execution_count": 37,
   "id": "8a3af7af-1490-4b76-b639-053f7cc48e12",
   "metadata": {},
   "outputs": [],
   "source": [
    "# Going ..."
   ]
  },
  {
   "cell_type": "code",
   "execution_count": 38,
   "id": "0c21c29f-0982-4b1a-83b7-0105e9ddc834",
   "metadata": {},
   "outputs": [],
   "source": [
    "# get AW from Going as not in Course\n",
    "# (could also get tapeta/polytrack/sand here but we use separate lookup instead)\n",
    "df['AW'] = df.Going.str.contains('AW')"
   ]
  },
  {
   "cell_type": "code",
   "execution_count": 39,
   "id": "f03ebff4-4730-45ce-aa25-41fbc86487e3",
   "metadata": {},
   "outputs": [],
   "source": [
    "# # parse the Going to primary and secondary ('in places', etc.)\n",
    "# def fGoing(x):\n",
    "#     return x.replace('AW','').lower().replace(' ','').replace('-','').replace('sand','').\\\n",
    "#                 replace('tapeta','').replace('polytrack','').\\\n",
    "#                 replace('standard/slow','goodtosoft').\\\n",
    "#                 replace('standard','good').\\\n",
    "#                 replace('watered','').replace('watering','').\\\n",
    "#                 replace('straight','').replace('home','').replace('back','').\\\n",
    "#                 replace('downhillsection','').replace('adjacenttolake','').replace('bend','').\\\n",
    "#                 replace('places','').replace('(str)','').replace('lastmile','').\\\n",
    "#                 replace('5fchute','').replace('last3f','').\\\n",
    "#                 replace('(','|').replace(',','|').replace(')','').\\\n",
    "#                 replace('goyieldingodtoyielding','yielding').\\\n",
    "#                 replace('goodtioyielding','goodtoyielding').\\\n",
    "#                 replace('goodtofim','goodtofirm').\\\n",
    "#                 replace('few','').replace('','').\\\n",
    "#                 replace('in','').replace('on','').replace('and','').replace('the','')"
   ]
  },
  {
   "cell_type": "code",
   "execution_count": 40,
   "id": "fb67e77b-4f88-45af-946a-ead37508b437",
   "metadata": {},
   "outputs": [],
   "source": [
    "# parse the Going to primary (as this is all that will be available after 31 mar 25, ie from RP not RF)\n",
    "def fGoing(x):\n",
    "    return x.replace('AW','').lower().replace('fibresand','').replace('sand','').\\\n",
    "            replace('tapeta','').replace('polytrack','').\\\n",
    "            replace('(','|').replace(',','|').\\\n",
    "            replace(' ','').\\\n",
    "            partition('|')[0].\\\n",
    "            replace('roundgood;straightgoodtoyielding','good').\\\n",
    "            replace('hurdle:good-yieldinginplaces;chase:yielding','yielding').\\\n",
    "            replace('hurdle:good-goodtoyieldinginplaces;chase:goodtoyielding','goodtoyielding').\\\n",
    "            partition('-')[0]"
   ]
  },
  {
   "cell_type": "code",
   "execution_count": 41,
   "id": "8663f493-f38f-4ca0-a772-151b70f56a6e",
   "metadata": {},
   "outputs": [],
   "source": [
    "df['Going1'] = df.Going.apply(fGoing)"
   ]
  },
  {
   "cell_type": "code",
   "execution_count": 42,
   "id": "280331ac-4995-4c79-a3c6-a9bd6c83445d",
   "metadata": {},
   "outputs": [],
   "source": [
    "GoingDict = {'firm': 1.0, 'goodtofirm': 2.0, 'standard/fast': 2.0, 'good': 3.0,\n",
    "             'standard': 3.0, 'goodtoyielding': 3.5, 'yielding': 4.0,\n",
    "             'goodtosoft': 4.0, 'standard/slow': 4.0, 'yieldingtosoft': 4.5,\n",
    "             'soft': 5.0, 'slow': 5.0, 'softtoheavy': 5.5, 'heavy': 6.0}"
   ]
  },
  {
   "cell_type": "code",
   "execution_count": 43,
   "id": "d0c90cef-5ed2-4fc1-a919-8b77f6b0b3ad",
   "metadata": {},
   "outputs": [],
   "source": [
    "df['Going1N'] = df.Going1.apply(lambda x: GoingDict[x])"
   ]
  },
  {
   "cell_type": "code",
   "execution_count": 44,
   "id": "c1c6fd44-ed20-40d9-8183-f3ad361f2c8a",
   "metadata": {},
   "outputs": [],
   "source": [
    "# # eyeball the results\n",
    "# a = pd.DataFrame({'Going': df.Going.unique()})\n",
    "# a['Going1'] = a.Going.apply(fGoing)\n",
    "# a['GoingN'] = a.Going1.apply(lambda x: GoingDict[x])\n",
    "# pd.set_option('display.max_rows', 500)\n",
    "# print(a)\n",
    "# pd.set_option('display.max_rows', 50)"
   ]
  },
  {
   "cell_type": "code",
   "execution_count": 45,
   "id": "2e636e75-bf22-4ff9-a8eb-5c336c2d6bc3",
   "metadata": {},
   "outputs": [],
   "source": [
    "# tidy up\n",
    "df.drop('Going', axis=1, inplace=True)"
   ]
  },
  {
   "cell_type": "code",
   "execution_count": 46,
   "id": "d30d2e33-1e30-4243-975b-6ad4d4374442",
   "metadata": {},
   "outputs": [],
   "source": [
    "# Limit ... not used\n",
    "df.drop('Limit', axis=1, inplace=True)"
   ]
  },
  {
   "cell_type": "code",
   "execution_count": 47,
   "id": "507311c5-866d-4338-92ef-642ecfb70024",
   "metadata": {},
   "outputs": [],
   "source": [
    "# WinTime ... redundant\n",
    "df.drop('WinTime', axis=1, inplace=True)"
   ]
  },
  {
   "cell_type": "code",
   "execution_count": 48,
   "id": "b5484b31-9aa9-4ebf-972b-be0437a533b1",
   "metadata": {},
   "outputs": [],
   "source": [
    "# Seconds -> RaceWinTime ... as is\n",
    "df.rename({ 'Seconds': 'RaceWinTime' }, axis=1, inplace=True)"
   ]
  },
  {
   "cell_type": "code",
   "execution_count": 49,
   "id": "803fb8f0-aec7-4a67-8b42-0e527d3e5d8a",
   "metadata": {},
   "outputs": [],
   "source": [
    "# FPos -> Posn ... \n",
    "df.rename({ 'FPos': 'Posn' }, axis=1, inplace=True)"
   ]
  },
  {
   "cell_type": "code",
   "execution_count": 50,
   "id": "fdab24c1-7dba-4ff1-9e82-c574c41b1aae",
   "metadata": {},
   "outputs": [],
   "source": [
    "# # Posn <NA> implies did not finish (6 rows)\n",
    "# df[df.Posn.isna()]['Comments'].values\n",
    "df.loc[df.Posn.isna(), 'Posn'] = '-'"
   ]
  },
  {
   "cell_type": "code",
   "execution_count": 51,
   "id": "4c5ad05e-bda2-4a14-a0da-7b50ff6c9452",
   "metadata": {},
   "outputs": [],
   "source": [
    "df['Won'] = (df.Posn=='1')"
   ]
  },
  {
   "cell_type": "code",
   "execution_count": 52,
   "id": "dbfcb43e-5f7b-4b41-b433-bb21e4512fe7",
   "metadata": {},
   "outputs": [],
   "source": [
    "# # not all races have winners (eg abandoned, no finishers)\n",
    "# df.Won.sum() - len(df.RaceId.unique())"
   ]
  },
  {
   "cell_type": "code",
   "execution_count": 53,
   "id": "1c941223-2c02-49ee-9ecb-96088d51a8b7",
   "metadata": {},
   "outputs": [],
   "source": [
    "# https://www.justbookies.com/betting-explained/place-terms-explained/\n",
    "#     1-4 runners: win only.\n",
    "#     5-7 runners: 1/4 odds a place for 1,2.\n",
    "#     8+ runners: 1/5 odds a place for 1,2,3.\n",
    "#     12-15 runners in handicaps only: 1/4 odds a place 1,2,3\n",
    "#     16+ runners in handicaps only: 1/4 odds a place 1,2,3,4.\n",
    "df['Placed'] = df.apply(lambda r: 0 if r.FieldSize < 5 else\\\n",
    "                                  1/4 if r.FieldSize < 8 and r.Posn in ['1','2'] else\\\n",
    "                                  1/5 if r.FieldSize < 12 and r.Posn in ['1','2','3'] else\\\n",
    "                                  1/5 if r.FieldSize >= 12 and r.Posn in ['1','2','3'] and r.RT.find('Hc')==-1 else\\\n",
    "                                  1/4 if r.FieldSize < 16 and r.Posn in ['1','2','3'] and r.RT.find('Hc')>-1 else\\\n",
    "                                  1/4 if r.FieldSize >= 16 and r.Posn in ['1','2','3','4'] and r.RT.find('Hc')>-1 else\\\n",
    "                                  0, axis=1)"
   ]
  },
  {
   "cell_type": "code",
   "execution_count": 54,
   "id": "447181f3-a32e-48f2-ab33-c4fd3a18c74e",
   "metadata": {},
   "outputs": [],
   "source": [
    "# DstBtn ... not used\n",
    "df.drop('DstBtn', axis=1, inplace=True)"
   ]
  },
  {
   "cell_type": "code",
   "execution_count": 55,
   "id": "7726f58d-11f4-497d-8229-1e31155c2390",
   "metadata": {},
   "outputs": [],
   "source": [
    "# TotalBtn ...\n",
    "df.loc[df.Posn=='1', 'TotalBtn'] = '0'  # some of these are originall 'Null'\n",
    "df.loc[df.TotalBtn=='Null', 'TotalBtn'] = pd.NA  # did not finish\n",
    "df['TotalBtn'] = df['TotalBtn'].astype('float32')"
   ]
  },
  {
   "cell_type": "code",
   "execution_count": 56,
   "id": "b4262e76-742a-4ec6-b077-20a5d3240b03",
   "metadata": {},
   "outputs": [],
   "source": [
    "# CardNo ... irrelevant\n",
    "df.drop('CardNo', axis=1, inplace=True)"
   ]
  },
  {
   "cell_type": "code",
   "execution_count": 57,
   "id": "dbc58e87-351f-4f87-a2d1-46ca2482d259",
   "metadata": {},
   "outputs": [],
   "source": [
    "# HorseName ...\n",
    "#\n",
    "# ... includes Territory ...\n",
    "# set(''.join(list(df.HorseName.unique())))\n",
    "# df.HorseName[df.HorseName.str.find('(')>-1]\n",
    "# df.HorseName.apply(fTerritory).unique()"
   ]
  },
  {
   "cell_type": "code",
   "execution_count": 58,
   "id": "f0c1ed34-2be5-432d-afc4-3376418c2dae",
   "metadata": {},
   "outputs": [],
   "source": [
    "# Draw ... as is"
   ]
  },
  {
   "cell_type": "code",
   "execution_count": 59,
   "id": "4218ac4b-5e51-42c5-a0e9-9a4b90963a07",
   "metadata": {},
   "outputs": [],
   "source": [
    "# Sp ...\n",
    "df['ReturnWin'] = df['Won'].astype(int) * (1 + df.Sp)\n",
    "df['ReturnPlace'] = (df['Placed']>0).astype(int) * (1 + df.Sp*df.Placed)"
   ]
  },
  {
   "cell_type": "code",
   "execution_count": 60,
   "id": "6603224f-1274-495c-bc03-31332ec86ed0",
   "metadata": {},
   "outputs": [],
   "source": [
    "# v2.0\n",
    "# tidy up\n",
    "# df.drop('Sp', axis=1, inplace=True)"
   ]
  },
  {
   "cell_type": "code",
   "execution_count": 61,
   "id": "3b2e541a-1228-4cfe-b447-c6e7182505b2",
   "metadata": {},
   "outputs": [],
   "source": [
    "# Age ... not used\n",
    "df.drop('Age', axis=1, inplace=True)"
   ]
  },
  {
   "cell_type": "code",
   "execution_count": 62,
   "id": "51ac20ad-1b3b-43da-b354-2d3e2556fb63",
   "metadata": {},
   "outputs": [],
   "source": [
    "# Stone, Lbs, WeightLBS ..."
   ]
  },
  {
   "cell_type": "code",
   "execution_count": 63,
   "id": "b75f2e16-d560-4a26-adf6-32fe631417f6",
   "metadata": {},
   "outputs": [],
   "source": [
    "df['WeightLBS'] = df.Stone.astype('int16')*14 + df.Lbs.astype('int16')"
   ]
  },
  {
   "cell_type": "code",
   "execution_count": 64,
   "id": "c178cad4-9354-42c7-acc3-7bf04bdad602",
   "metadata": {},
   "outputs": [],
   "source": [
    "# tidy up\n",
    "df.drop(['Stone','Lbs'], axis=1, inplace=True)"
   ]
  },
  {
   "cell_type": "code",
   "execution_count": 65,
   "id": "7b541f49-9c5a-4a19-9c17-0bf29c737c58",
   "metadata": {},
   "outputs": [],
   "source": [
    "# Favs ... not used\n",
    "df.drop('Favs', axis=1, inplace=True)"
   ]
  },
  {
   "cell_type": "code",
   "execution_count": 66,
   "id": "533a20a3-e06b-49e1-96e2-1316c5048b25",
   "metadata": {},
   "outputs": [],
   "source": [
    "# v2.0\n",
    "# Aid ... not used\n",
    "# df.drop('Aid', axis=1, inplace=True)"
   ]
  },
  {
   "cell_type": "code",
   "execution_count": 67,
   "id": "969327a9-78ba-493d-baeb-b35b4fdabf9a",
   "metadata": {},
   "outputs": [],
   "source": [
    "# Trainer ...\n",
    "df.loc[df.Trainer.isna(), 'Trainer'] = 'NK'"
   ]
  },
  {
   "cell_type": "code",
   "execution_count": 68,
   "id": "722c23c9-cf69-467d-a19b-f96c5ca7a3d1",
   "metadata": {},
   "outputs": [],
   "source": [
    "# Jockey ...\n",
    "df.loc[df.Jockey.isna(), 'Jockey'] = 'NK'"
   ]
  },
  {
   "cell_type": "code",
   "execution_count": 69,
   "id": "687810cc-f0e8-4b62-be83-2b11c0d1fc45",
   "metadata": {},
   "outputs": [],
   "source": [
    "# df[df.Jockey=='Miss Polly Gundry']"
   ]
  },
  {
   "cell_type": "code",
   "execution_count": 70,
   "id": "f1d8cd4a-c764-4219-932b-953ef262300e",
   "metadata": {},
   "outputs": [],
   "source": [
    "# Allow ...\n",
    "df.loc[df.Allow.isna(), 'Allow'] = 0\n",
    "df.Allow = df.Allow.astype(int)"
   ]
  },
  {
   "cell_type": "code",
   "execution_count": 71,
   "id": "826bdc54-262f-40a1-8d82-34882e5cd414",
   "metadata": {},
   "outputs": [],
   "source": [
    "# OR ..."
   ]
  },
  {
   "cell_type": "code",
   "execution_count": 72,
   "id": "93f17933-2b4e-41a7-ac65-2b40591af018",
   "metadata": {},
   "outputs": [],
   "source": [
    "df.loc[df.OR=='-', 'OR'] = pd.NA\n",
    "df.OR = df.OR.astype(float)"
   ]
  },
  {
   "cell_type": "code",
   "execution_count": 73,
   "id": "1c9586ad-bd35-4217-b706-722423c56a1f",
   "metadata": {},
   "outputs": [],
   "source": [
    "# Comments ... as is"
   ]
  },
  {
   "cell_type": "code",
   "execution_count": null,
   "id": "ce34693b-0f3c-4236-bdb9-4b4c492055ff",
   "metadata": {},
   "outputs": [],
   "source": []
  },
  {
   "cell_type": "code",
   "execution_count": 74,
   "id": "946ccbf1-ac57-4311-89da-723f865bc739",
   "metadata": {},
   "outputs": [
    {
     "name": "stdout",
     "output_type": "stream",
     "text": [
      "         column           dtype  nmissing\n",
      "0        RaceId           int32         0\n",
      "1    CourseName          object         0\n",
      "2      RaceDate          object         0\n",
      "3      RaceTime          object         0\n",
      "4          Type  string[python]    656127\n",
      "5         Class         float64    270942\n",
      "6         Prize         float64         0\n",
      "7     FieldSize            int8         0\n",
      "8      Distance           int16         0\n",
      "9   RaceWinTime         float64       164\n",
      "10         Posn  string[python]         0\n",
      "11     TotalBtn         float32     65378\n",
      "12    HorseName  string[python]         0\n",
      "13         Draw         float64    429890\n",
      "14           Sp         float64        22\n",
      "15    WeightLBS           int16         0\n",
      "16          Aid  string[python]    682621\n",
      "17      Trainer  string[python]         0\n",
      "18       Jockey  string[python]         0\n",
      "19        Allow           int64         0\n",
      "20           OR         float64    282022\n",
      "21     Comments  string[python]       494\n",
      "22    Territory          object         0\n",
      "23           RT          object         0\n",
      "24       AgeMin         float64         0\n",
      "25       AgeMax         float64    810369\n",
      "26           AW         boolean         0\n",
      "27       Going1          object         0\n",
      "28      Going1N         float64         0\n",
      "29          Won         boolean         0\n",
      "30       Placed         float64         0\n",
      "31    ReturnWin         float64        22\n",
      "32  ReturnPlace         float64        22\n"
     ]
    }
   ],
   "source": [
    "# CHECK columns which still have missing\n",
    "# and dtypes\n",
    "fColumns(df)\n",
    "# RaceId dtype: -> string\n",
    "# CourseName dtype: -> string\n",
    "# Allow dtype: int64 ??\n",
    "# OR etc dtype: float64 ??\n",
    "# Going1 dtype: -> string\n",
    "# ReturnWin, ReturnPlace NA <- Sp NA ??\n",
    "\n",
    "# beware implicit casts and overflow for int8, int16 columns"
   ]
  },
  {
   "cell_type": "code",
   "execution_count": null,
   "id": "19d91dc9-7d64-4607-a493-b2cc7f50ecb7",
   "metadata": {},
   "outputs": [],
   "source": []
  },
  {
   "cell_type": "code",
   "execution_count": 75,
   "id": "13b700b2-e5c2-4b79-abfa-90fd2e0bc21c",
   "metadata": {},
   "outputs": [],
   "source": [
    "# TODO\n",
    "# save to csv once rc1"
   ]
  },
  {
   "cell_type": "code",
   "execution_count": 76,
   "id": "ea449ac6-9b73-4095-9a26-eb079e05b4bb",
   "metadata": {},
   "outputs": [],
   "source": [
    "df.to_csv(fpath+'form_data_v2.0.csv',header=True,index=False)"
   ]
  }
 ],
 "metadata": {
  "kernelspec": {
   "display_name": "Python [conda env:base] *",
   "language": "python",
   "name": "conda-base-py"
  },
  "language_info": {
   "codemirror_mode": {
    "name": "ipython",
    "version": 3
   },
   "file_extension": ".py",
   "mimetype": "text/x-python",
   "name": "python",
   "nbconvert_exporter": "python",
   "pygments_lexer": "ipython3",
   "version": "3.12.7"
  }
 },
 "nbformat": 4,
 "nbformat_minor": 5
}
