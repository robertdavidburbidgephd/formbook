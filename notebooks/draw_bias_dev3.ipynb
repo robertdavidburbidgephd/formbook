{
 "cells": [
  {
   "cell_type": "code",
   "execution_count": 1,
   "id": "5d4ece2a-a076-4b74-adfe-bb86b6a5df5b",
   "metadata": {},
   "outputs": [],
   "source": [
    "import pandas as pd"
   ]
  },
  {
   "cell_type": "code",
   "execution_count": 3,
   "id": "42ccfd4b-93b3-45f9-8694-004bca49ea5e",
   "metadata": {},
   "outputs": [],
   "source": [
    "import seaborn as sns"
   ]
  },
  {
   "cell_type": "code",
   "execution_count": 4,
   "id": "cb2b0d6a-3be4-4eca-9bbd-9ca70ef27289",
   "metadata": {},
   "outputs": [],
   "source": [
    "import numpy as np"
   ]
  },
  {
   "cell_type": "code",
   "execution_count": 5,
   "id": "e7d6423b-bd04-47cf-a5f3-dce9f8770ef3",
   "metadata": {},
   "outputs": [],
   "source": [
    "fpath = 'data/prep/'\n",
    "dfile = 'form_data_v2.0.csv'"
   ]
  },
  {
   "cell_type": "code",
   "execution_count": 9,
   "id": "c6c5674c-0b0f-4342-9550-16d0dc46c5c3",
   "metadata": {},
   "outputs": [],
   "source": [
    "df = pd.read_csv( fpath + dfile, header=0, parse_dates=True )"
   ]
  },
  {
   "cell_type": "code",
   "execution_count": 10,
   "id": "fa959057-cfc6-4dfd-a551-f654f6e55eb2",
   "metadata": {},
   "outputs": [],
   "source": [
    "# flat races\n",
    "df = df[df.Type.isna()]"
   ]
  },
  {
   "cell_type": "code",
   "execution_count": 11,
   "id": "a2acf6aa-b7b9-454a-ab3f-1b6db2d9a7e6",
   "metadata": {},
   "outputs": [],
   "source": [
    "# remove entries with missing Draw - some of these could be imputed or manually entered\n",
    "# print(df.RaceId[df.Draw.isna()].unique())\n",
    "df = df[~df.Draw.isna()]"
   ]
  },
  {
   "cell_type": "code",
   "execution_count": 12,
   "id": "2decd80d-b7db-490d-977b-0ea7bc54c540",
   "metadata": {},
   "outputs": [],
   "source": [
    "# no. declared, ie FieldSize + RR + withdrawn\n",
    "DeclFieldSize = df[['RaceId', 'Draw']].groupby('RaceId').max().squeeze().rename('DeclFieldSize').astype(int)"
   ]
  },
  {
   "cell_type": "code",
   "execution_count": 13,
   "id": "7683c2bb-5427-40af-8859-d0d3aac5f25d",
   "metadata": {},
   "outputs": [],
   "source": [
    "df = df.join(DeclFieldSize, on='RaceId')"
   ]
  },
  {
   "cell_type": "code",
   "execution_count": 14,
   "id": "342f547c-5374-42da-894a-b5886790e65a",
   "metadata": {},
   "outputs": [],
   "source": [
    "# replace non-numeric Posn with last place and cast to int TODO\n",
    "# df[~df.Posn.str.isnumeric(), 'Posn'] = df[~df.Posn.str.isnumeric(), 'DeclFieldSize']\n",
    "df['Posn'] = df.apply(lambda r: int(r.Posn) if r.Posn.isnumeric() else r.DeclFieldSize, axis=1)"
   ]
  },
  {
   "cell_type": "code",
   "execution_count": null,
   "id": "f73fcffa-7fdd-458a-8087-140e74528b9c",
   "metadata": {},
   "outputs": [],
   "source": []
  },
  {
   "cell_type": "code",
   "execution_count": 16,
   "id": "b773e234-02a8-4e96-854d-54978824f4de",
   "metadata": {},
   "outputs": [],
   "source": [
    "new = df[df.CourseName=='Newmarket']\n",
    "# new"
   ]
  },
  {
   "cell_type": "code",
   "execution_count": 17,
   "id": "c33504f1-f90a-4d8f-8868-a7ee283d29bb",
   "metadata": {},
   "outputs": [],
   "source": [
    "yor = df[df.CourseName=='York']\n",
    "# yor"
   ]
  },
  {
   "cell_type": "code",
   "execution_count": 315,
   "id": "0d6df548-83e1-439a-a708-981a460fe248",
   "metadata": {},
   "outputs": [],
   "source": [
    "dat = new"
   ]
  },
  {
   "cell_type": "code",
   "execution_count": 391,
   "id": "053efabc-65e7-4bab-9801-0222ed154c55",
   "metadata": {},
   "outputs": [],
   "source": [
    "dat = yor"
   ]
  },
  {
   "cell_type": "code",
   "execution_count": 393,
   "id": "b5f071aa-27c9-4d95-bed9-a003d7db403a",
   "metadata": {},
   "outputs": [],
   "source": [
    "# def"
   ]
  },
  {
   "cell_type": "code",
   "execution_count": 395,
   "id": "410bc831-9329-49f8-bf65-307bf66b8229",
   "metadata": {},
   "outputs": [],
   "source": [
    "dat = pd.DataFrame({'FieldSize': dat.DeclFieldSize, \n",
    "                    'Draw': dat.Draw.apply(int), \n",
    "                    'Index': dat.ReturnPlace+dat.ReturnWin})"
   ]
  },
  {
   "cell_type": "code",
   "execution_count": 397,
   "id": "03227086-3b91-4c4b-999e-187bc94d3ef2",
   "metadata": {},
   "outputs": [],
   "source": [
    "g = dat[['FieldSize','Draw','Index']].groupby(['FieldSize','Draw'])\n",
    "dat_sum = g.sum()\n",
    "dat_n = g.count()"
   ]
  },
  {
   "cell_type": "code",
   "execution_count": 399,
   "id": "a6f42540-e494-4b2b-a217-934719a14916",
   "metadata": {
    "scrolled": true
   },
   "outputs": [],
   "source": [
    "dat_sum = dat_sum.reset_index().pivot_table(index='FieldSize',columns='Draw').fillna(0)\n",
    "dat_n = dat_n.reset_index().pivot_table(index='FieldSize',columns='Draw').fillna(0)"
   ]
  },
  {
   "cell_type": "code",
   "execution_count": 401,
   "id": "a90a739f-16fe-41cc-baff-95f4661d0d59",
   "metadata": {},
   "outputs": [],
   "source": [
    "dat_sum.columns = dat_sum.columns.droplevel(0)\n",
    "dat_n.columns = dat_n.columns.droplevel(0)"
   ]
  },
  {
   "cell_type": "code",
   "execution_count": 403,
   "id": "4e66162f-5758-432c-9043-cb4e127bec10",
   "metadata": {},
   "outputs": [],
   "source": [
    "# CHK DeclFieldSize is the max index with non-zero entries each row\n",
    "# (dat_n>0).apply(lambda r: np.max(r.index.values[r]), axis=1)"
   ]
  },
  {
   "cell_type": "code",
   "execution_count": 405,
   "id": "94aa2e4b-d6bc-431b-b85a-c45fb8384b43",
   "metadata": {},
   "outputs": [],
   "source": [
    "# aggregate to min ave support (default: 2)\n",
    "min_ave_supp = 3"
   ]
  },
  {
   "cell_type": "code",
   "execution_count": 407,
   "id": "365b2587-4391-4633-b846-e44db237d50a",
   "metadata": {},
   "outputs": [],
   "source": [
    "# TODO need to handle <min_ave_supp in general: beginning, middle, end  "
   ]
  },
  {
   "cell_type": "code",
   "execution_count": 409,
   "id": "1e906890-5c14-4845-9397-0e2052c476c8",
   "metadata": {},
   "outputs": [],
   "source": [
    "# start from row = max draw and work backwards\n",
    "# missing rows subbed by zeros beforehand"
   ]
  },
  {
   "cell_type": "code",
   "execution_count": 411,
   "id": "d8432618-9aad-4d10-9a19-c45f5d7ae905",
   "metadata": {},
   "outputs": [],
   "source": [
    "min_fieldsize = dat_n.index.values.min()"
   ]
  },
  {
   "cell_type": "code",
   "execution_count": 413,
   "id": "3e8a4528-23ad-4328-a948-be4f18224b87",
   "metadata": {},
   "outputs": [],
   "source": [
    "max_draw = dat_n.columns.values.max()"
   ]
  },
  {
   "cell_type": "code",
   "execution_count": 415,
   "id": "67ff3673-b8b5-4f78-9a65-1df899eafaaf",
   "metadata": {},
   "outputs": [],
   "source": [
    "dat_0 = pd.DataFrame(np.zeros([max_draw, max_draw]), index=np.arange(1,max_draw+1), columns=np.arange(1,max_draw+1))"
   ]
  },
  {
   "cell_type": "code",
   "execution_count": 417,
   "id": "3b66b712-ebbb-41be-ad1a-7ee2fa34e3ad",
   "metadata": {},
   "outputs": [],
   "source": [
    "dat_sum = (dat_sum + dat_0).fillna(0)\n",
    "dat_n = (dat_n  + dat_0).fillna(0) # NB. loses index name 'FieldSize'"
   ]
  },
  {
   "cell_type": "code",
   "execution_count": 419,
   "id": "546c1bbc-0897-4bd4-bb82-f9a4398804d3",
   "metadata": {},
   "outputs": [],
   "source": [
    "# while ~np.all(dat_n.loc[min_fieldsize:,:].sum(axis=1) / dat_n.loc[min_fieldsize:,:].index.values >= min_ave_supp):\n",
    "#     row_idx = dat_n.shape[0]\n",
    "#     vec1_n = dat_n.loc[row_idx,:].values\n",
    "#     vec1_sum = dat_sum.loc[row_idx,:].values\n",
    "#     downsample = 1 / (len(vec1_n)-1) * (np.concatenate([np.diag(np.arange(len(vec1_n)-1,0,-1)), np.zeros([len(vec1_n)-1,1])], axis=1) +\\\n",
    "# np.concatenate([np.zeros([len(vec1_n)-1,1]), np.diag(np.arange(1,len(vec1_n),1))], axis=1))\n",
    "#     vec2_n = np.matmul(downsample, vec1_n)\n",
    "#     vec2_sum = np.matmul(downsample, vec1_sum)\n",
    "#     dat_n.loc[row_idx-1,:row_idx-1] = dat_n.loc[row_idx-1,:row_idx-1] + vec2_n\n",
    "#     dat_sum.loc[row_idx-1,:row_idx-1] = dat_sum.loc[row_idx-1,:row_idx-1] + vec2_sum\n",
    "#     dat_n = dat_n.drop(row_idx, axis=0).drop(row_idx, axis=1)\n",
    "#     dat_sum = dat_sum.drop(row_idx, axis=0).drop(row_idx, axis=1)\n",
    "    "
   ]
  },
  {
   "cell_type": "code",
   "execution_count": 421,
   "id": "d84b3370-0ff7-48bb-963f-aee1f38f7654",
   "metadata": {},
   "outputs": [],
   "source": [
    "dat_n_0 = dat_n.copy()\n",
    "dat_sum_0 = dat_sum.copy()"
   ]
  },
  {
   "cell_type": "code",
   "execution_count": 423,
   "id": "9dba382f-f0cb-4e14-b72c-6a6c763d4dd6",
   "metadata": {},
   "outputs": [],
   "source": [
    "dat_n = dat_n_0.copy()\n",
    "dat_sum = dat_sum_0.copy()\n",
    "row_idx = 0\n",
    "\n",
    "# debugger\n",
    "while ~np.all(dat_n.sum(axis=1) / dat_n.index.values >= min_ave_supp):\n",
    "    # alternate between last and first row NEED A MORE INTELLIGENT DECISION HERE\n",
    "    # row_idx = -row_idx-1\n",
    "    a = dat_n.index[dat_n.sum(axis=1) / dat_n.index.values < min_ave_supp].values\n",
    "    row_idx = int(sum(a < len(dat_n)/2) > len(a)/2) - 1\n",
    "    # print(dat_n.sum(axis=1) / dat_n.index.values >= min_ave_supp)\n",
    "    # print(row_idx)\n",
    "    # print()\n",
    "    vec1_n = dat_n.iloc[row_idx,:dat_n.index[row_idx]].values\n",
    "    vec1_sum = dat_sum.iloc[row_idx,:dat_sum.index[row_idx]].values\n",
    "    if row_idx == -1:\n",
    "        # downsample last\n",
    "        sample_mat = 1 / (len(vec1_n)-1) * \\\n",
    "                        (np.concatenate( [np.diag(np.arange(len(vec1_n)-1,0,-1)), np.zeros([len(vec1_n)-1,1]) ], axis=1) + \\\n",
    "                        np.concatenate( [np.zeros([len(vec1_n)-1,1]), np.diag(np.arange(1,len(vec1_n),1)) ], axis=1))\n",
    "        vec2_n = np.matmul(sample_mat, vec1_n)\n",
    "        vec2_sum = np.matmul(sample_mat, vec1_sum)\n",
    "        # add to previous\n",
    "        dat_n.iloc[row_idx-1,:len(vec2_n)] = dat_n.iloc[row_idx-1,:len(vec2_n)] + vec2_n\n",
    "        dat_sum.iloc[row_idx-1,:len(vec2_sum)] = dat_sum.iloc[row_idx-1,:len(vec2_sum)] + vec2_sum\n",
    "        # drop last row and column\n",
    "        dat_n = dat_n.drop(index=dat_n.index[row_idx]).drop(columns=dat_n.columns[row_idx])\n",
    "        dat_sum = dat_sum.drop(index=dat_sum.index[row_idx]).drop(columns=dat_sum.columns[row_idx])\n",
    "    else:\n",
    "        # upsample first\n",
    "        sample_mat = 1 / (len(vec1_n)+1) * \\\n",
    "                        (np.concatenate( [np.diag(np.arange(len(vec1_n),0,-1)), np.zeros([1,len(vec1_n)]) ], axis=0) + \\\n",
    "                        np.concatenate( [np.zeros([1,len(vec1_n)]), np.diag(np.arange(1,len(vec1_n)+1,1)) ], axis=0))\n",
    "        vec2_n = np.matmul(sample_mat, vec1_n)\n",
    "        vec2_sum = np.matmul(sample_mat, vec1_sum)\n",
    "        # add to next\n",
    "        dat_n.iloc[row_idx+1,:len(vec2_n)] = dat_n.iloc[row_idx+1,:len(vec2_n)] + vec2_n\n",
    "        dat_sum.iloc[row_idx+1,:len(vec2_sum)] = dat_sum.iloc[row_idx+1,:len(vec2_sum)] + vec2_sum\n",
    "        # drop first row\n",
    "        dat_n = dat_n.drop(index=dat_n.index[row_idx])\n",
    "        dat_sum = dat_sum.drop(index=dat_sum.index[row_idx])\n"
   ]
  },
  {
   "cell_type": "code",
   "execution_count": 425,
   "id": "b1adccee-ae32-4912-abd1-702b16f0b9d6",
   "metadata": {},
   "outputs": [],
   "source": [
    "dat_ave_np = (dat_sum / dat_n).to_numpy()\n",
    "dat_n_np = dat_n.to_numpy()"
   ]
  },
  {
   "cell_type": "code",
   "execution_count": 427,
   "id": "036973c6-20ea-45fd-857e-a5583f94933c",
   "metadata": {},
   "outputs": [],
   "source": [
    "# log-scale support (n) for annot\n",
    "dat_n_np = np.round(np.log(dat_n_np+1))"
   ]
  },
  {
   "cell_type": "code",
   "execution_count": 429,
   "id": "b6a85c4d-4017-496b-a85e-467458859f9c",
   "metadata": {},
   "outputs": [],
   "source": [
    "n_draw = dat_n_np.shape[1]"
   ]
  },
  {
   "cell_type": "code",
   "execution_count": 431,
   "id": "01cf5a38-2c7a-4f6a-8cb5-b29e81ab27a4",
   "metadata": {},
   "outputs": [],
   "source": [
    "i2 = (dat_n_np!=0).sum(axis=1)\n",
    "i1 = (n_draw - i2)//2"
   ]
  },
  {
   "cell_type": "code",
   "execution_count": 433,
   "id": "8791dbd4-9dfd-430d-90e1-0f2974671d97",
   "metadata": {},
   "outputs": [],
   "source": [
    "hm_data = np.zeros(dat_ave_np.shape)\n",
    "hm_annot = np.empty(dat_n_np.shape, dtype=str)"
   ]
  },
  {
   "cell_type": "code",
   "execution_count": 435,
   "id": "37cfa658-075f-4703-90e6-db7c3f2a8394",
   "metadata": {},
   "outputs": [],
   "source": [
    "for i in range(hm_data.shape[0]):\n",
    "    hm_data[ i, i1[i]:(i1[i]+i2[i]) ] = dat_ave_np[ i, :i2[i]] \n",
    "    hm_annot[ i, i1[i]:(i1[i]+i2[i]) ] = dat_n_np[ i, :i2[i]] "
   ]
  },
  {
   "cell_type": "code",
   "execution_count": 437,
   "id": "0992981c-d87f-4ae0-9ef1-630828c87440",
   "metadata": {},
   "outputs": [
    {
     "data": {
      "text/plain": [
       "Text(0.5, 1.0, 'E/W Return Draw Bias, <York> (all races)')"
      ]
     },
     "execution_count": 437,
     "metadata": {},
     "output_type": "execute_result"
    }
   ],
   "source": [
    "%matplotlib inline\n",
    "from matplotlib import pyplot as plt\n",
    "plt.figure()\n",
    "plt.title('E/W Return Draw Bias, <York> (all races)')"
   ]
  },
  {
   "cell_type": "code",
   "execution_count": 439,
   "id": "8a6e13aa-2fa3-4709-88e5-b6918375b61a",
   "metadata": {},
   "outputs": [
    {
     "data": {
      "text/plain": [
       "<Axes: title={'center': 'E/W Return Draw Bias, <York> (all races)'}, xlabel='Draw (low to high, centered)', ylabel='FieldSize'>"
      ]
     },
     "execution_count": 439,
     "metadata": {},
     "output_type": "execute_result"
    }
   ],
   "source": [
    "sns.heatmap(pd.DataFrame(\n",
    "                hm_data,\n",
    "                index=dat_sum.index.rename('FieldSize'),\n",
    "                columns=dat_sum.columns.rename('Draw (low to high, centered)')),\n",
    "            cmap='gist_earth_r', robust=True,\n",
    "            annot=hm_annot, fmt='', annot_kws={'fontsize': 'xx-small'},\n",
    "            xticklabels=False, yticklabels=2)\n",
    "# plt.savefig('image.png')"
   ]
  },
  {
   "cell_type": "code",
   "execution_count": 441,
   "id": "fe33f049-5942-40fc-a5e6-d378f9957db6",
   "metadata": {},
   "outputs": [
    {
     "data": {
      "image/png": "[encoded data removed]",
      "text/plain": [
       "<Figure size 640x480 with 2 Axes>"
      ]
     },
     "metadata": {},
     "output_type": "display_data"
    }
   ],
   "source": [
    "plt.show()"
   ]
  },
  {
   "cell_type": "code",
   "execution_count": null,
   "id": "db336549-7e07-402f-aeb6-efb95036027e",
   "metadata": {},
   "outputs": [],
   "source": []
  }
 ],
 "metadata": {
  "kernelspec": {
   "display_name": "Python [conda env:base] *",
   "language": "python",
   "name": "conda-base-py"
  },
  "language_info": {
   "codemirror_mode": {
    "name": "ipython",
    "version": 3
   },
   "file_extension": ".py",
   "mimetype": "text/x-python",
   "name": "python",
   "nbconvert_exporter": "python",
   "pygments_lexer": "ipython3",
   "version": "3.12.7"
  }
 },
 "nbformat": 4,
 "nbformat_minor": 5
}
