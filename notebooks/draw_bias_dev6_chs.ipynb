{
 "cells": [
  {
   "cell_type": "code",
   "execution_count": 252,
   "id": "baf4622f-5a25-4352-a4dc-1714ae81e4a7",
   "metadata": {},
   "outputs": [],
   "source": [
    "# chs sample pack"
   ]
  },
  {
   "cell_type": "code",
   "execution_count": 254,
   "id": "5d4ece2a-a076-4b74-adfe-bb86b6a5df5b",
   "metadata": {},
   "outputs": [],
   "source": [
    "import pandas as pd\n",
    "import seaborn as sns\n",
    "import numpy as np\n",
    "from matplotlib import pyplot as plt"
   ]
  },
  {
   "cell_type": "code",
   "execution_count": 256,
   "id": "e7d6423b-bd04-47cf-a5f3-dce9f8770ef3",
   "metadata": {},
   "outputs": [],
   "source": [
    "fpath = 'data/prep/'\n",
    "dfile = 'form_data_v2.0.csv'"
   ]
  },
  {
   "cell_type": "code",
   "execution_count": 258,
   "id": "c6c5674c-0b0f-4342-9550-16d0dc46c5c3",
   "metadata": {},
   "outputs": [],
   "source": [
    "df = pd.read_csv( fpath + dfile, header=0, parse_dates=True )"
   ]
  },
  {
   "cell_type": "code",
   "execution_count": 259,
   "id": "fa959057-cfc6-4dfd-a551-f654f6e55eb2",
   "metadata": {},
   "outputs": [],
   "source": [
    "# flat races\n",
    "df = df[df.Type.isna()]"
   ]
  },
  {
   "cell_type": "code",
   "execution_count": 260,
   "id": "a2acf6aa-b7b9-454a-ab3f-1b6db2d9a7e6",
   "metadata": {},
   "outputs": [],
   "source": [
    "# remove entries with missing Draw - some of these could be imputed or manually entered\n",
    "# print(df.RaceId[df.Draw.isna()].unique())\n",
    "df = df[~df.Draw.isna()]"
   ]
  },
  {
   "cell_type": "code",
   "execution_count": 261,
   "id": "2decd80d-b7db-490d-977b-0ea7bc54c540",
   "metadata": {},
   "outputs": [],
   "source": [
    "# no. declared from max draw by race, ie FieldSize + RR + withdrawn\n",
    "DeclFieldSize = df[['RaceId', 'Draw']].groupby('RaceId').max().squeeze().rename('DeclFieldSize').astype(int)\n",
    "df = df.join(DeclFieldSize, on='RaceId')"
   ]
  },
  {
   "cell_type": "code",
   "execution_count": 262,
   "id": "8276813a-a1f1-46c2-ba45-cc311e899212",
   "metadata": {},
   "outputs": [],
   "source": [
    "# rank of draw by race\n",
    "df['DrawRank'] = df[['RaceId', 'Draw']].groupby('RaceId').rank('first').astype(int)"
   ]
  },
  {
   "cell_type": "code",
   "execution_count": 263,
   "id": "241ff9f2-7385-46b3-b2e5-1ac134a10ecf",
   "metadata": {},
   "outputs": [],
   "source": [
    "# no. stalls from max draw rank by race ( ==FieldSize ?? == grouby count ?? )\n",
    "N_Stalls = df[['RaceId', 'DrawRank']].groupby('RaceId').max().squeeze().rename('N_Stalls').astype(int)\n",
    "df = df.join(N_Stalls, on='RaceId')"
   ]
  },
  {
   "cell_type": "code",
   "execution_count": 264,
   "id": "da3fac78-89c8-4803-b485-3aad9eeee049",
   "metadata": {},
   "outputs": [],
   "source": [
    "# df[df.FieldSize != df.N_Stalls][['RaceId','FieldSize','DeclFieldSize','N_Stalls']]"
   ]
  },
  {
   "cell_type": "code",
   "execution_count": 265,
   "id": "342f547c-5374-42da-894a-b5886790e65a",
   "metadata": {},
   "outputs": [],
   "source": [
    "# replace non-numeric Posn with last place and cast to int\n",
    "df['Posn'] = df.apply(lambda r: int(r.Posn) if r.Posn.isnumeric() else r.DeclFieldSize, axis=1)"
   ]
  },
  {
   "cell_type": "code",
   "execution_count": 266,
   "id": "2a0c0d89-f1a0-43b0-b4d4-b9ac8e78eafb",
   "metadata": {},
   "outputs": [],
   "source": [
    "def xmast(data, course_name, dist=None, going=None, min_ave_supp=3):\n",
    "    if dist:\n",
    "        dist_mask = data.Distance.apply(lambda x: x in dist)\n",
    "    else:\n",
    "        dist_mask = True\n",
    "    if going:\n",
    "        going_mask = data.Going1.apply(lambda x: x in going)\n",
    "    else:\n",
    "        going_mask = True\n",
    "    dat = data[(data.CourseName==course_name) & dist_mask & going_mask]\n",
    "    dat = pd.DataFrame({'N_Stalls': dat.N_Stalls, \n",
    "                        'DrawRank': dat.DrawRank.apply(int),\n",
    "                        # TODO index options as argument\n",
    "                        'Index': dat.apply(lambda r: r.ReturnWin * 2 if r.Sp < 7.5 else r.ReturnWin+r.ReturnPlace, axis=1)\n",
    "                       })\n",
    "    # TODO add other indexes as (string) options\n",
    "    # create tables\n",
    "    g = dat[['N_Stalls','DrawRank','Index']].groupby(['N_Stalls','DrawRank'])\n",
    "    dat_sum = g.sum()\n",
    "    dat_n = g.count()\n",
    "    dat_sum = dat_sum.reset_index().pivot_table(index='N_Stalls',columns='DrawRank').fillna(0)\n",
    "    dat_n = dat_n.reset_index().pivot_table(index='N_Stalls',columns='DrawRank').fillna(0)\n",
    "    dat_sum.columns = dat_sum.columns.droplevel(0)\n",
    "    dat_n.columns = dat_n.columns.droplevel(0)\n",
    "    # aggregate to min_ave_supp\n",
    "    min_fieldsize = dat_n.index.values.min()\n",
    "    max_draw = dat_n.columns.values.max()\n",
    "    dat_0 = pd.DataFrame(np.zeros([max_draw, max_draw]), index=np.arange(1,max_draw+1), columns=np.arange(1,max_draw+1))    \n",
    "    dat_sum = (dat_sum + dat_0).fillna(0)\n",
    "    dat_n = (dat_n  + dat_0).fillna(0) # NB. loses index name 'N_Stalls'    \n",
    "    # # debugging\n",
    "    dat_n_0 = dat_n.copy()\n",
    "    dat_sum_0 = dat_sum.copy()\n",
    "    dat_n = dat_n_0.copy()\n",
    "    dat_sum = dat_sum_0.copy()\n",
    "    row_idx = 0\n",
    "    \n",
    "    while ~np.all(dat_n.sum(axis=1) / dat_n.index.values >= min_ave_supp):\n",
    "        # aggregate from top or bottom ?\n",
    "        a = dat_n.index[dat_n.sum(axis=1) / dat_n.index.values < min_ave_supp].values\n",
    "        row_idx = int(sum(a < len(dat_n)/2) > len(a)/2) - 1\n",
    "        # # debugging\n",
    "        # print(dat_n.sum(axis=1) / dat_n.index.values >= min_ave_supp)\n",
    "        # print(row_idx)\n",
    "        # print()\n",
    "        vec1_n = dat_n.iloc[row_idx,:dat_n.index[row_idx]].values\n",
    "        vec1_sum = dat_sum.iloc[row_idx,:dat_sum.index[row_idx]].values\n",
    "        if row_idx == -1:\n",
    "            # downsample last\n",
    "            sample_mat = 1 / (len(vec1_n)-1) * \\\n",
    "                            (np.concatenate( [np.diag(np.arange(len(vec1_n)-1,0,-1)), np.zeros([len(vec1_n)-1,1]) ], axis=1) + \\\n",
    "                            np.concatenate( [np.zeros([len(vec1_n)-1,1]), np.diag(np.arange(1,len(vec1_n),1)) ], axis=1))\n",
    "            vec2_n = np.matmul(sample_mat, vec1_n)\n",
    "            vec2_sum = np.matmul(sample_mat, vec1_sum)\n",
    "            # add to previous\n",
    "            dat_n.iloc[row_idx-1,:len(vec2_n)] = dat_n.iloc[row_idx-1,:len(vec2_n)] + vec2_n\n",
    "            dat_sum.iloc[row_idx-1,:len(vec2_sum)] = dat_sum.iloc[row_idx-1,:len(vec2_sum)] + vec2_sum\n",
    "            # drop last row and column\n",
    "            dat_n = dat_n.drop(index=dat_n.index[row_idx]).drop(columns=dat_n.columns[row_idx])\n",
    "            dat_sum = dat_sum.drop(index=dat_sum.index[row_idx]).drop(columns=dat_sum.columns[row_idx])\n",
    "        else:\n",
    "            # upsample first\n",
    "            sample_mat = 1 / (len(vec1_n)+1) * \\\n",
    "                            (np.concatenate( [np.diag(np.arange(len(vec1_n),0,-1)), np.zeros([1,len(vec1_n)]) ], axis=0) + \\\n",
    "                            np.concatenate( [np.zeros([1,len(vec1_n)]), np.diag(np.arange(1,len(vec1_n)+1,1)) ], axis=0))\n",
    "            vec2_n = np.matmul(sample_mat, vec1_n)\n",
    "            vec2_sum = np.matmul(sample_mat, vec1_sum)\n",
    "            # add to next\n",
    "            dat_n.iloc[row_idx+1,:len(vec2_n)] = dat_n.iloc[row_idx+1,:len(vec2_n)] + vec2_n\n",
    "            dat_sum.iloc[row_idx+1,:len(vec2_sum)] = dat_sum.iloc[row_idx+1,:len(vec2_sum)] + vec2_sum\n",
    "            # drop first row\n",
    "            dat_n = dat_n.drop(index=dat_n.index[row_idx])\n",
    "            dat_sum = dat_sum.drop(index=dat_sum.index[row_idx])\n",
    "    # center non-zero values for heatmap\n",
    "    # TODO option for 'inside' , 'centre', 'outside' stalls position\n",
    "    # TODO ordering of draw in stalls : low-to-high , high-to-low ?? ( & historical changes thereto )\n",
    "    i2 = dat_sum.index.values\n",
    "    n_draw = dat_sum.shape[1]\n",
    "    i1 = (n_draw - i2)//2\n",
    "\n",
    "    dat_sum_np = dat_sum.to_numpy()\n",
    "    dat_n_np = dat_n.to_numpy()\n",
    "    hm_dat_sum_np = np.zeros(dat_sum_np.shape)\n",
    "    hm_dat_n_np = np.zeros(dat_n_np.shape)\n",
    "\n",
    "    for i in range(hm_dat_sum_np.shape[0]):\n",
    "        hm_dat_sum_np[ i, i1[i]:(i1[i]+i2[i]) ] = dat_sum_np[ i, :i2[i]] \n",
    "        hm_dat_n_np[ i, i1[i]:(i1[i]+i2[i]) ] = dat_n_np[ i, :i2[i]]\n",
    "            \n",
    "    # mean of index by cell (ie, N_stalls x DrawRank) using protected division\n",
    "    hm_data = pd.DataFrame(np.divide(hm_dat_sum_np, hm_dat_n_np, where=hm_dat_n_np>0, out=np.zeros(hm_dat_sum_np.shape)),\n",
    "                            index=dat_sum.index.rename('N_Stalls'),\n",
    "                            columns=dat_sum.columns.rename('Draw Rank (low to high, centered)'))\n",
    "    # normalize the rows\n",
    "    hm_data = hm_data.apply(lambda r: r/sum(r)*r.name, axis=1)\n",
    "    # support\n",
    "    hm_supp = pd.DataFrame(hm_dat_n_np,\n",
    "                            index=dat_sum.index.rename('N_Stalls'),\n",
    "                            columns=dat_sum.columns.rename('Draw Rank (low to high, centered)'))\n",
    "    hm_data[hm_supp==0] = np.nan\n",
    "    # annotations\n",
    "    hm_annot_index = pd.DataFrame(np.where(\n",
    "                                            hm_data.isnull(), np.nan,\n",
    "                                            hm_data.map('{:.0f}'.format)\n",
    "                                            ),\n",
    "                            index=dat_sum.index.rename('N_Stalls'),\n",
    "                            columns=dat_sum.columns.rename('Draw Rank (low to high, centered)'))\n",
    "    hm_annot_supp = pd.DataFrame(np.round(np.log(hm_dat_n_np+1)).astype(int).astype(str),\n",
    "                            index=dat_sum.index.rename('N_Stalls'),\n",
    "                            columns=dat_sum.columns.rename('Draw Rank (low to high, centered)'))\n",
    "    hm_annot_supp[hm_supp==0] = np.nan\n",
    "\n",
    "    # return (hm_data, hm_annot)\n",
    "    return (hm_data, hm_supp, hm_annot_index, hm_annot_supp)\n"
   ]
  },
  {
   "cell_type": "code",
   "execution_count": 267,
   "id": "0e2b7f18-40e8-4126-8760-3190e2621aa3",
   "metadata": {},
   "outputs": [],
   "source": [
    "# Going1 distn for Chester\n",
    "df.Going1[df.CourseName=='Chester'].value_counts()\n",
    "goings = [ [ 'goodtofirm', 'good' ] , [ 'goodtosoft', 'soft', 'heavy' ] ]"
   ]
  },
  {
   "cell_type": "code",
   "execution_count": 268,
   "id": "2a5980dd-34da-4544-a35f-8c89042b2fc0",
   "metadata": {},
   "outputs": [],
   "source": [
    "# group dist by starting stalls posn\n",
    "dists = [ [ 5.5*220 ] , [ 13*220+89, 5*220+16 ] , [ 12*220+66 ] , [ 11*220+79 ] , \n",
    "         [ 10*220+75, 18*220+147 ] , [ 15*220+195, 7*220+122 ] , [ 7*220+2] ]"
   ]
  },
  {
   "cell_type": "code",
   "execution_count": null,
   "id": "6ff9e8cb-f092-48b5-b499-1dcd51965f40",
   "metadata": {},
   "outputs": [],
   "source": []
  },
  {
   "cell_type": "code",
   "execution_count": null,
   "id": "5bea4d19-a9dc-4656-8646-02802463bc6f",
   "metadata": {},
   "outputs": [],
   "source": [
    "## TODO need to fix hm_supp==0 when should be np.nan"
   ]
  },
  {
   "cell_type": "code",
   "execution_count": 218,
   "id": "0992981c-d87f-4ae0-9ef1-630828c87440",
   "metadata": {},
   "outputs": [
    {
     "ename": "ValueError",
     "evalue": "zero-size array to reduction operation minimum which has no identity",
     "output_type": "error",
     "traceback": [
      "\u001b[0;31m---------------------------------------------------------------------------\u001b[0m",
      "\u001b[0;31mValueError\u001b[0m                                Traceback (most recent call last)",
      "Cell \u001b[0;32mIn[218], line 12\u001b[0m\n\u001b[1;32m     10\u001b[0m plt\u001b[38;5;241m.\u001b[39mfigure()\n\u001b[1;32m     11\u001b[0m plt\u001b[38;5;241m.\u001b[39mtitle(\u001b[38;5;124m'\u001b[39m\u001b[38;5;124mDraw Bias (Return), \u001b[39m\u001b[38;5;124m'\u001b[39m \u001b[38;5;241m+\u001b[39m course_name \u001b[38;5;241m+\u001b[39m \u001b[38;5;124m'\u001b[39m\u001b[38;5;124m (\u001b[39m\u001b[38;5;124m'\u001b[39m \u001b[38;5;241m+\u001b[39m \u001b[38;5;28mstr\u001b[39m(dist) \u001b[38;5;241m+\u001b[39m \u001b[38;5;124m'\u001b[39m\u001b[38;5;124myards) \u001b[39m\u001b[38;5;124m'\u001b[39m \u001b[38;5;241m+\u001b[39m \u001b[38;5;28mstr\u001b[39m(going))\n\u001b[0;32m---> 12\u001b[0m hm_data, hm_supp, hm_annot_index, hm_annot_supp \u001b[38;5;241m=\u001b[39m xmast(df, course_name, dist\u001b[38;5;241m=\u001b[39mdist, going\u001b[38;5;241m=\u001b[39mgoing, min_ave_supp\u001b[38;5;241m=\u001b[39mmin_ave_supp)\n\u001b[1;32m     13\u001b[0m sns\u001b[38;5;241m.\u001b[39mheatmap(hm_data\u001b[38;5;241m.\u001b[39mdropna(axis\u001b[38;5;241m=\u001b[39m\u001b[38;5;241m0\u001b[39m, how\u001b[38;5;241m=\u001b[39m\u001b[38;5;124m'\u001b[39m\u001b[38;5;124mall\u001b[39m\u001b[38;5;124m'\u001b[39m),\n\u001b[1;32m     14\u001b[0m     cmap\u001b[38;5;241m=\u001b[39m\u001b[38;5;124m'\u001b[39m\u001b[38;5;124mgist_earth_r\u001b[39m\u001b[38;5;124m'\u001b[39m, robust\u001b[38;5;241m=\u001b[39m\u001b[38;5;28;01mTrue\u001b[39;00m,\n\u001b[1;32m     15\u001b[0m     annot\u001b[38;5;241m=\u001b[39mhm_annot_index\u001b[38;5;241m.\u001b[39mdropna(axis\u001b[38;5;241m=\u001b[39m\u001b[38;5;241m0\u001b[39m, how\u001b[38;5;241m=\u001b[39m\u001b[38;5;124m'\u001b[39m\u001b[38;5;124mall\u001b[39m\u001b[38;5;124m'\u001b[39m), \n\u001b[0;32m   (...)\u001b[0m\n\u001b[1;32m     18\u001b[0m     xticklabels\u001b[38;5;241m=\u001b[39m\u001b[38;5;28;01mFalse\u001b[39;00m, yticklabels\u001b[38;5;241m=\u001b[39m\u001b[38;5;241m2\u001b[39m\n\u001b[1;32m     19\u001b[0m     )\n\u001b[1;32m     20\u001b[0m \u001b[38;5;66;03m# plt.show()\u001b[39;00m\n",
      "Cell \u001b[0;32mIn[160], line 26\u001b[0m, in \u001b[0;36mxmast\u001b[0;34m(data, course_name, dist, going, min_ave_supp)\u001b[0m\n\u001b[1;32m     24\u001b[0m dat_n\u001b[38;5;241m.\u001b[39mcolumns \u001b[38;5;241m=\u001b[39m dat_n\u001b[38;5;241m.\u001b[39mcolumns\u001b[38;5;241m.\u001b[39mdroplevel(\u001b[38;5;241m0\u001b[39m)\n\u001b[1;32m     25\u001b[0m \u001b[38;5;66;03m# aggregate to min_ave_supp\u001b[39;00m\n\u001b[0;32m---> 26\u001b[0m min_fieldsize \u001b[38;5;241m=\u001b[39m dat_n\u001b[38;5;241m.\u001b[39mindex\u001b[38;5;241m.\u001b[39mvalues\u001b[38;5;241m.\u001b[39mmin()\n\u001b[1;32m     27\u001b[0m max_draw \u001b[38;5;241m=\u001b[39m dat_n\u001b[38;5;241m.\u001b[39mcolumns\u001b[38;5;241m.\u001b[39mvalues\u001b[38;5;241m.\u001b[39mmax()\n\u001b[1;32m     28\u001b[0m dat_0 \u001b[38;5;241m=\u001b[39m pd\u001b[38;5;241m.\u001b[39mDataFrame(np\u001b[38;5;241m.\u001b[39mzeros([max_draw, max_draw]), index\u001b[38;5;241m=\u001b[39mnp\u001b[38;5;241m.\u001b[39marange(\u001b[38;5;241m1\u001b[39m,max_draw\u001b[38;5;241m+\u001b[39m\u001b[38;5;241m1\u001b[39m), columns\u001b[38;5;241m=\u001b[39mnp\u001b[38;5;241m.\u001b[39marange(\u001b[38;5;241m1\u001b[39m,max_draw\u001b[38;5;241m+\u001b[39m\u001b[38;5;241m1\u001b[39m))    \n",
      "File \u001b[0;32m~/anaconda3/lib/python3.12/site-packages/numpy/core/_methods.py:45\u001b[0m, in \u001b[0;36m_amin\u001b[0;34m(a, axis, out, keepdims, initial, where)\u001b[0m\n\u001b[1;32m     43\u001b[0m \u001b[38;5;28;01mdef\u001b[39;00m \u001b[38;5;21m_amin\u001b[39m(a, axis\u001b[38;5;241m=\u001b[39m\u001b[38;5;28;01mNone\u001b[39;00m, out\u001b[38;5;241m=\u001b[39m\u001b[38;5;28;01mNone\u001b[39;00m, keepdims\u001b[38;5;241m=\u001b[39m\u001b[38;5;28;01mFalse\u001b[39;00m,\n\u001b[1;32m     44\u001b[0m           initial\u001b[38;5;241m=\u001b[39m_NoValue, where\u001b[38;5;241m=\u001b[39m\u001b[38;5;28;01mTrue\u001b[39;00m):\n\u001b[0;32m---> 45\u001b[0m     \u001b[38;5;28;01mreturn\u001b[39;00m umr_minimum(a, axis, \u001b[38;5;28;01mNone\u001b[39;00m, out, keepdims, initial, where)\n",
      "\u001b[0;31mValueError\u001b[0m: zero-size array to reduction operation minimum which has no identity"
     ]
    }
   ],
   "source": [
    "\n",
    "min_ave_supp = 0\n",
    "course_name = 'Chester'\n",
    "\n",
    "for dist in dists:\n",
    "    for going in goings:\n",
    "\n",
    "        plt.figure()\n",
    "        plt.title('Draw Bias (Return), ' + course_name + ' (' + str(dist) + 'yards) ' + str(going))\n",
    "        hm_data, hm_supp, hm_annot_index, hm_annot_supp = xmast(df, course_name, dist=dist, going=going, min_ave_supp=min_ave_supp)\n",
    "        sns.heatmap(hm_data.dropna(axis=0, how='all'),\n",
    "            cmap='gist_earth_r', robust=True,\n",
    "            annot=hm_annot_index.dropna(axis=0, how='all'), \n",
    "            # annot=hm_annot_supp.dropna(axis=0, how='all'),\n",
    "                    fmt='', annot_kws={'fontsize': 'xx-small'},\n",
    "            xticklabels=False, yticklabels=2\n",
    "            )\n",
    "        # plt.show()\n",
    "        plt.savefig('xmast_' + course_name + '_' + str(dist) + '_' + str(going) + '.png')\n",
    "        plt.close()"
   ]
  },
  {
   "cell_type": "code",
   "execution_count": null,
   "id": "56af3c2b-e88b-4bd1-b977-f7b965b641c5",
   "metadata": {},
   "outputs": [],
   "source": []
  },
  {
   "cell_type": "code",
   "execution_count": 287,
   "id": "30120d9c-d84f-45f2-87f1-8b700d0b751c",
   "metadata": {},
   "outputs": [
    {
     "data": {
      "image/png": "[encoded data removed]",
      "text/plain": [
       "<Figure size 640x480 with 2 Axes>"
      ]
     },
     "metadata": {},
     "output_type": "display_data"
    }
   ],
   "source": [
    "%matplotlib inline\n",
    "\n",
    "min_ave_supp = 0\n",
    "course_name = 'Chester'\n",
    "\n",
    "dist = dists[1]\n",
    "going = goings[0]\n",
    "\n",
    "\n",
    "plt.figure()\n",
    "plt.title('Draw Bias (Return), ' + course_name + ' (' + str(dist) + 'yards) ' + str(going))\n",
    "hm_data, hm_supp, hm_annot_index, hm_annot_supp = xmast(df, course_name, dist=dist, going=going, min_ave_supp=min_ave_supp)\n",
    "\n",
    "# TODO fix hm_data.index for correct y-axis (FieldSize) label and ticklabels\n",
    "sns.heatmap(hm_data.dropna(axis=0, how='all'),\n",
    "    cmap='gist_earth_r', robust=True,\n",
    "    # annot=hm_annot_index.dropna(axis=0, how='all'), \n",
    "    # annot=hm_annot_supp.dropna(axis=0, how='all'),\n",
    "            fmt='', annot_kws={'fontsize': 'xx-small'},\n",
    "    annot=(hm_annot_index + '\\n(' + hm_annot_supp + ')').dropna(axis=0, how='all'),\n",
    "            xticklabels=False, yticklabels=2\n",
    "    )\n",
    "plt.show()\n",
    "# plt.savefig('xmast_' + course_name + '.png')\n",
    "plt.close()"
   ]
  },
  {
   "cell_type": "code",
   "execution_count": 289,
   "id": "042b7a89-291f-42a8-ae1a-928de3bc87d8",
   "metadata": {},
   "outputs": [
    {
     "data": {
      "text/plain": [
       "145.0"
      ]
     },
     "execution_count": 289,
     "metadata": {},
     "output_type": "execute_result"
    }
   ],
   "source": [
    "hm_supp.sum().sum()"
   ]
  }
 ],
 "metadata": {
  "kernelspec": {
   "display_name": "Python [conda env:base] *",
   "language": "python",
   "name": "conda-base-py"
  },
  "language_info": {
   "codemirror_mode": {
    "name": "ipython",
    "version": 3
   },
   "file_extension": ".py",
   "mimetype": "text/x-python",
   "name": "python",
   "nbconvert_exporter": "python",
   "pygments_lexer": "ipython3",
   "version": "3.12.7"
  }
 },
 "nbformat": 4,
 "nbformat_minor": 5
}
