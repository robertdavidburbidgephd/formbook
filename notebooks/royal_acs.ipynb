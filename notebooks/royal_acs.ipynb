{
 "cells": [
  {
   "cell_type": "code",
   "execution_count": 1,
   "id": "5d4ece2a-a076-4b74-adfe-bb86b6a5df5b",
   "metadata": {},
   "outputs": [],
   "source": [
    "import pandas as pd\n",
    "import seaborn as sns\n",
    "import numpy as np\n",
    "from matplotlib import pyplot as plt"
   ]
  },
  {
   "cell_type": "code",
   "execution_count": 2,
   "id": "e7d6423b-bd04-47cf-a5f3-dce9f8770ef3",
   "metadata": {},
   "outputs": [],
   "source": [
    "fpath = 'data/prep/'\n",
    "dfile = 'form_data_v2.0.csv'"
   ]
  },
  {
   "cell_type": "code",
   "execution_count": 3,
   "id": "c6c5674c-0b0f-4342-9550-16d0dc46c5c3",
   "metadata": {},
   "outputs": [],
   "source": [
    "df = pd.read_csv( fpath + dfile, header=0, parse_dates=True )"
   ]
  },
  {
   "cell_type": "code",
   "execution_count": 7,
   "id": "fa959057-cfc6-4dfd-a551-f654f6e55eb2",
   "metadata": {},
   "outputs": [],
   "source": [
    "# flat races\n",
    "df = df[df.Type.isna()]"
   ]
  },
  {
   "cell_type": "code",
   "execution_count": 11,
   "id": "d4ff41e7-e19d-4df0-9ac8-15173c0c2943",
   "metadata": {},
   "outputs": [
    {
     "ename": "AttributeError",
     "evalue": "'DataFrame' object has no attribute 'RaceName'",
     "output_type": "error",
     "traceback": [
      "\u001b[0;31m---------------------------------------------------------------------------\u001b[0m",
      "\u001b[0;31mAttributeError\u001b[0m                            Traceback (most recent call last)",
      "\u001b[0;32m/tmp/ipykernel_86419/2935120520.py\u001b[0m in \u001b[0;36m?\u001b[0;34m()\u001b[0m\n\u001b[0;32m----> 1\u001b[0;31m \u001b[0mdf\u001b[0m \u001b[0;34m=\u001b[0m \u001b[0mdf\u001b[0m\u001b[0;34m[\u001b[0m\u001b[0mdf\u001b[0m\u001b[0;34m.\u001b[0m\u001b[0mRaceName\u001b[0m\u001b[0;34m.\u001b[0m\u001b[0mapply\u001b[0m\u001b[0;34m(\u001b[0m\u001b[0;32mlambda\u001b[0m \u001b[0mx\u001b[0m\u001b[0;34m:\u001b[0m \u001b[0;34m\"Queen's Vase\"\u001b[0m \u001b[0;32min\u001b[0m \u001b[0mx\u001b[0m\u001b[0;34m)\u001b[0m\u001b[0;34m]\u001b[0m\u001b[0;34m\u001b[0m\u001b[0;34m\u001b[0m\u001b[0m\n\u001b[0m",
      "\u001b[0;32m~/anaconda3/lib/python3.12/site-packages/pandas/core/generic.py\u001b[0m in \u001b[0;36m?\u001b[0;34m(self, name)\u001b[0m\n\u001b[1;32m   6295\u001b[0m             \u001b[0;32mand\u001b[0m \u001b[0mname\u001b[0m \u001b[0;32mnot\u001b[0m \u001b[0;32min\u001b[0m \u001b[0mself\u001b[0m\u001b[0;34m.\u001b[0m\u001b[0m_accessors\u001b[0m\u001b[0;34m\u001b[0m\u001b[0;34m\u001b[0m\u001b[0m\n\u001b[1;32m   6296\u001b[0m             \u001b[0;32mand\u001b[0m \u001b[0mself\u001b[0m\u001b[0;34m.\u001b[0m\u001b[0m_info_axis\u001b[0m\u001b[0;34m.\u001b[0m\u001b[0m_can_hold_identifiers_and_holds_name\u001b[0m\u001b[0;34m(\u001b[0m\u001b[0mname\u001b[0m\u001b[0;34m)\u001b[0m\u001b[0;34m\u001b[0m\u001b[0;34m\u001b[0m\u001b[0m\n\u001b[1;32m   6297\u001b[0m         \u001b[0;34m)\u001b[0m\u001b[0;34m:\u001b[0m\u001b[0;34m\u001b[0m\u001b[0;34m\u001b[0m\u001b[0m\n\u001b[1;32m   6298\u001b[0m             \u001b[0;32mreturn\u001b[0m \u001b[0mself\u001b[0m\u001b[0;34m[\u001b[0m\u001b[0mname\u001b[0m\u001b[0;34m]\u001b[0m\u001b[0;34m\u001b[0m\u001b[0;34m\u001b[0m\u001b[0m\n\u001b[0;32m-> 6299\u001b[0;31m         \u001b[0;32mreturn\u001b[0m \u001b[0mobject\u001b[0m\u001b[0;34m.\u001b[0m\u001b[0m__getattribute__\u001b[0m\u001b[0;34m(\u001b[0m\u001b[0mself\u001b[0m\u001b[0;34m,\u001b[0m \u001b[0mname\u001b[0m\u001b[0;34m)\u001b[0m\u001b[0;34m\u001b[0m\u001b[0;34m\u001b[0m\u001b[0m\n\u001b[0m",
      "\u001b[0;31mAttributeError\u001b[0m: 'DataFrame' object has no attribute 'RaceName'"
     ]
    }
   ],
   "source": [
    "df = df[df.RaceName.apply(lambda x: \"Queen's Vase\" in x)]"
   ]
  },
  {
   "cell_type": "code",
   "execution_count": 13,
   "id": "60df396c-413d-4bd1-ac81-0ac289989564",
   "metadata": {},
   "outputs": [
    {
     "data": {
      "text/plain": [
       "Index(['RaceId', 'CourseName', 'RaceDate', 'RaceTime', 'Type', 'Class',\n",
       "       'Prize', 'FieldSize', 'Distance', 'RaceWinTime', 'Posn', 'TotalBtn',\n",
       "       'HorseName', 'Draw', 'Sp', 'WeightLBS', 'Aid', 'Trainer', 'Jockey',\n",
       "       'Allow', 'OR', 'Comments', 'Territory', 'RT', 'AgeMin', 'AgeMax', 'AW',\n",
       "       'Going1', 'Going1N', 'Won', 'Placed', 'ReturnWin', 'ReturnPlace'],\n",
       "      dtype='object')"
      ]
     },
     "execution_count": 13,
     "metadata": {},
     "output_type": "execute_result"
    }
   ],
   "source": [
    "df.columns"
   ]
  },
  {
   "cell_type": "code",
   "execution_count": null,
   "id": "07f5eb13-6756-441e-8e1d-8cd478b45ac1",
   "metadata": {},
   "outputs": [],
   "source": []
  },
  {
   "cell_type": "code",
   "execution_count": null,
   "id": "b726a687-c249-4a21-b6a9-9a30ed636db9",
   "metadata": {},
   "outputs": [],
   "source": []
  },
  {
   "cell_type": "code",
   "execution_count": null,
   "id": "a984c345-8ccb-442c-b490-5ed90e33e9c0",
   "metadata": {},
   "outputs": [],
   "source": []
  },
  {
   "cell_type": "code",
   "execution_count": null,
   "id": "aec01142-c79e-4074-8352-47bde2219b3f",
   "metadata": {},
   "outputs": [],
   "source": []
  },
  {
   "cell_type": "code",
   "execution_count": null,
   "id": "cdd8a8d0-c00d-4abc-9c95-1660ec494d88",
   "metadata": {},
   "outputs": [],
   "source": []
  },
  {
   "cell_type": "code",
   "execution_count": null,
   "id": "ec40275b-81fa-46be-9490-242c5ede2f5e",
   "metadata": {},
   "outputs": [],
   "source": []
  },
  {
   "cell_type": "code",
   "execution_count": 33,
   "id": "a2acf6aa-b7b9-454a-ab3f-1b6db2d9a7e6",
   "metadata": {},
   "outputs": [],
   "source": [
    "# remove entries with missing Draw - some of these could be imputed or manually entered\n",
    "# print(df.RaceId[df.Draw.isna()].unique())\n",
    "df = df[~df.Draw.isna()]"
   ]
  },
  {
   "cell_type": "code",
   "execution_count": 34,
   "id": "2decd80d-b7db-490d-977b-0ea7bc54c540",
   "metadata": {},
   "outputs": [],
   "source": [
    "# no. declared from max draw by race, ie FieldSize + RR + withdrawn\n",
    "DeclFieldSize = df[['RaceId', 'Draw']].groupby('RaceId').max().squeeze().rename('DeclFieldSize').astype(int)\n",
    "df = df.join(DeclFieldSize, on='RaceId')"
   ]
  },
  {
   "cell_type": "code",
   "execution_count": 35,
   "id": "8276813a-a1f1-46c2-ba45-cc311e899212",
   "metadata": {},
   "outputs": [],
   "source": [
    "# rank of draw by race\n",
    "df['DrawRank'] = df[['RaceId', 'Draw']].groupby('RaceId').rank('first').astype(int)"
   ]
  },
  {
   "cell_type": "code",
   "execution_count": 36,
   "id": "241ff9f2-7385-46b3-b2e5-1ac134a10ecf",
   "metadata": {},
   "outputs": [],
   "source": [
    "# no. stalls from max draw rank by race ( ==FieldSize ?? == grouby count ?? )\n",
    "N_Stalls = df[['RaceId', 'DrawRank']].groupby('RaceId').max().squeeze().rename('N_Stalls').astype(int)\n",
    "df = df.join(N_Stalls, on='RaceId')"
   ]
  },
  {
   "cell_type": "code",
   "execution_count": 37,
   "id": "da3fac78-89c8-4803-b485-3aad9eeee049",
   "metadata": {},
   "outputs": [],
   "source": [
    "# df[df.FieldSize != df.N_Stalls][['RaceId','FieldSize','DeclFieldSize','N_Stalls']]"
   ]
  },
  {
   "cell_type": "code",
   "execution_count": 14,
   "id": "342f547c-5374-42da-894a-b5886790e65a",
   "metadata": {},
   "outputs": [],
   "source": [
    "# replace non-numeric Posn with last place and cast to int\n",
    "df['Posn'] = df.apply(lambda r: int(r.Posn) if r.Posn.isnumeric() else r.DeclFieldSize, axis=1)"
   ]
  },
  {
   "cell_type": "code",
   "execution_count": 141,
   "id": "2a0c0d89-f1a0-43b0-b4d4-b9ac8e78eafb",
   "metadata": {},
   "outputs": [],
   "source": [
    "def xmast(data, course_name, dist=None, going=None, stalls='inside', min_ave_supp=3):\n",
    "    if dist:\n",
    "        # round to nearest half-furlong\n",
    "        dist = list(np.round(np.array(dist) / 110) * 110)\n",
    "        dist_mask = data.Distance != data.Distance\n",
    "        for dist_ in dist:\n",
    "            dist_mask = dist_mask | data.Distance.apply(lambda x: (x>dist_-55) & (x<dist_+55))\n",
    "    else:\n",
    "        dist_mask = True\n",
    "    if going:\n",
    "        going_mask = data.Going1.apply(lambda x: x in going)\n",
    "    else:\n",
    "        going_mask = True\n",
    "    dat = data[(data.CourseName==course_name) & dist_mask & going_mask]\n",
    "    dat = pd.DataFrame({'N_Stalls': dat.N_Stalls, \n",
    "                        'DrawRank': dat.DrawRank.apply(int),\n",
    "                        # TODO index options as argument\n",
    "                        'Index': dat.apply(lambda r: r.ReturnWin * 2 if r.Sp < 7.5 else r.ReturnWin+r.ReturnPlace, axis=1)\n",
    "                       })\n",
    "    # TODO add other indexes as (string) options\n",
    "    # create tables\n",
    "    g = dat[['N_Stalls','DrawRank','Index']].groupby(['N_Stalls','DrawRank'])\n",
    "    dat_sum = g.sum()\n",
    "    dat_n = g.count()\n",
    "    dat_sum = dat_sum.reset_index().pivot_table(index='N_Stalls',columns='DrawRank').fillna(0)\n",
    "    dat_n = dat_n.reset_index().pivot_table(index='N_Stalls',columns='DrawRank').fillna(0)\n",
    "    dat_sum.columns = dat_sum.columns.droplevel(0)\n",
    "    dat_n.columns = dat_n.columns.droplevel(0)\n",
    "    # aggregate to min_ave_supp\n",
    "    min_fieldsize = dat_n.index.values.min()\n",
    "    max_draw = dat_n.columns.values.max()\n",
    "    dat_0 = pd.DataFrame(np.zeros([max_draw, max_draw]), index=np.arange(1,max_draw+1), columns=np.arange(1,max_draw+1))    \n",
    "    dat_sum = (dat_sum + dat_0).fillna(0)\n",
    "    dat_n = (dat_n  + dat_0).fillna(0) # NB. loses index name 'N_Stalls'    \n",
    "    # # debugging\n",
    "    dat_n_0 = dat_n.copy()\n",
    "    dat_sum_0 = dat_sum.copy()\n",
    "    dat_n = dat_n_0.copy()\n",
    "    dat_sum = dat_sum_0.copy()\n",
    "    row_idx = 0\n",
    "    \n",
    "    while ~np.all(dat_n.sum(axis=1) / dat_n.index.values >= min_ave_supp):\n",
    "        # aggregate from top or bottom ?\n",
    "        a = dat_n.index[dat_n.sum(axis=1) / dat_n.index.values < min_ave_supp].values\n",
    "        row_idx = int(sum(a < len(dat_n)/2) > len(a)/2) - 1\n",
    "        # # debugging\n",
    "        # print(dat_n.sum(axis=1) / dat_n.index.values >= min_ave_supp)\n",
    "        # print(row_idx)\n",
    "        # print()\n",
    "        vec1_n = dat_n.iloc[row_idx,:dat_n.index[row_idx]].values\n",
    "        vec1_sum = dat_sum.iloc[row_idx,:dat_sum.index[row_idx]].values\n",
    "        if row_idx == -1:\n",
    "            # downsample last\n",
    "            sample_mat = 1 / (len(vec1_n)-1) * \\\n",
    "                            (np.concatenate( [np.diag(np.arange(len(vec1_n)-1,0,-1)), np.zeros([len(vec1_n)-1,1]) ], axis=1) + \\\n",
    "                            np.concatenate( [np.zeros([len(vec1_n)-1,1]), np.diag(np.arange(1,len(vec1_n),1)) ], axis=1))\n",
    "            vec2_n = np.matmul(sample_mat, vec1_n)\n",
    "            vec2_sum = np.matmul(sample_mat, vec1_sum)\n",
    "            # add to previous\n",
    "            dat_n.iloc[row_idx-1,:len(vec2_n)] = dat_n.iloc[row_idx-1,:len(vec2_n)] + vec2_n\n",
    "            dat_sum.iloc[row_idx-1,:len(vec2_sum)] = dat_sum.iloc[row_idx-1,:len(vec2_sum)] + vec2_sum\n",
    "            # drop last row and column\n",
    "            dat_n = dat_n.drop(index=dat_n.index[row_idx]).drop(columns=dat_n.columns[row_idx])\n",
    "            dat_sum = dat_sum.drop(index=dat_sum.index[row_idx]).drop(columns=dat_sum.columns[row_idx])\n",
    "        else:\n",
    "            # upsample first\n",
    "            sample_mat = 1 / (len(vec1_n)+1) * \\\n",
    "                            (np.concatenate( [np.diag(np.arange(len(vec1_n),0,-1)), np.zeros([1,len(vec1_n)]) ], axis=0) + \\\n",
    "                            np.concatenate( [np.zeros([1,len(vec1_n)]), np.diag(np.arange(1,len(vec1_n)+1,1)) ], axis=0))\n",
    "            vec2_n = np.matmul(sample_mat, vec1_n)\n",
    "            vec2_sum = np.matmul(sample_mat, vec1_sum)\n",
    "            # add to next\n",
    "            dat_n.iloc[row_idx+1,:len(vec2_n)] = dat_n.iloc[row_idx+1,:len(vec2_n)] + vec2_n\n",
    "            dat_sum.iloc[row_idx+1,:len(vec2_sum)] = dat_sum.iloc[row_idx+1,:len(vec2_sum)] + vec2_sum\n",
    "            # drop first row\n",
    "            dat_n = dat_n.drop(index=dat_n.index[row_idx])\n",
    "            dat_sum = dat_sum.drop(index=dat_sum.index[row_idx])\n",
    "\n",
    "    # TODO ordering of draw in stalls : low-to-high , high-to-low ?? ( & historical changes thereto )\n",
    "    dat_sum_np = dat_sum.to_numpy()\n",
    "    dat_n_np = dat_n.to_numpy()\n",
    "    \n",
    "    # TODO switch\n",
    "    if stalls=='inside':\n",
    "        hm_dat_sum_np = dat_sum_np\n",
    "        hm_dat_n_np = dat_n_np\n",
    "    else:\n",
    "        if stalls=='centre' or stalls=='center':\n",
    "            # center non-zero values for heatmap\n",
    "            i2 = dat_sum.index.values\n",
    "            n_draw = dat_sum.shape[1]\n",
    "            i1 = (n_draw - i2)//2\n",
    "        \n",
    "            hm_dat_sum_np = np.zeros(dat_sum_np.shape)\n",
    "            hm_dat_n_np = np.zeros(dat_n_np.shape)\n",
    "        \n",
    "            for i in range(hm_dat_sum_np.shape[0]):\n",
    "                hm_dat_sum_np[ i, i1[i]:(i1[i]+i2[i]) ] = dat_sum_np[ i, :i2[i]] \n",
    "                hm_dat_n_np[ i, i1[i]:(i1[i]+i2[i]) ] = dat_n_np[ i, :i2[i]]\n",
    "        else:\n",
    "            if stalls=='outside' or stalls=='far side':\n",
    "                i2 = dat_sum.index.values\n",
    "                n_draw = dat_sum.shape[1]\n",
    "                i1 = (n_draw - i2) ##\n",
    "            \n",
    "                hm_dat_sum_np = np.zeros(dat_sum_np.shape)\n",
    "                hm_dat_n_np = np.zeros(dat_n_np.shape)\n",
    "            \n",
    "                for i in range(hm_dat_sum_np.shape[0]):\n",
    "                    hm_dat_sum_np[ i, i1[i]:(i1[i]+i2[i]) ] = dat_sum_np[ i, :i2[i]] \n",
    "                    hm_dat_n_np[ i, i1[i]:(i1[i]+i2[i]) ] = dat_n_np[ i, :i2[i]]\n",
    "            else:\n",
    "                print('Unimplemented')\n",
    "                pass\n",
    "        \n",
    "    # mean of index by cell (ie, N_stalls x DrawRank) using protected division\n",
    "    hm_data = pd.DataFrame(np.divide(hm_dat_sum_np, hm_dat_n_np, where=hm_dat_n_np>0, out=np.zeros(hm_dat_sum_np.shape)),\n",
    "                            index=dat_sum.index.rename('N_Stalls'),\n",
    "                            columns=dat_sum.columns.rename('Draw Rank (low to high, centered)'))\n",
    "    # normalize the rows\n",
    "    hm_data = hm_data.apply(lambda r: r/sum(r)*r.name, axis=1)\n",
    "    # support\n",
    "    hm_supp = pd.DataFrame(hm_dat_n_np,\n",
    "                            index=dat_sum.index.rename('N_Stalls'),\n",
    "                            columns=dat_sum.columns.rename('Draw Rank (low to high, centered)'))\n",
    "    hm_data[hm_supp==0] = np.nan\n",
    "    # annotations\n",
    "    hm_annot_index = pd.DataFrame(np.where(\n",
    "                                            hm_data.isnull(), np.nan,\n",
    "                                            hm_data.map('{:.1f}'.format)\n",
    "                                            ),\n",
    "                            index=dat_sum.index.rename('N_Stalls'),\n",
    "                            columns=dat_sum.columns.rename('Draw Rank (low to high, centered)'))\n",
    "    hm_annot_supp = pd.DataFrame(np.round(np.log(hm_dat_n_np+1)).astype(int).astype(str),\n",
    "                            index=dat_sum.index.rename('N_Stalls'),\n",
    "                            columns=dat_sum.columns.rename('Draw Rank (low to high, centered)'))\n",
    "    hm_annot_supp[hm_supp==0] = np.nan\n",
    "\n",
    "    # return (hm_data, hm_annot)\n",
    "    return (hm_data, hm_supp, hm_annot_index, hm_annot_supp)\n"
   ]
  },
  {
   "cell_type": "code",
   "execution_count": 143,
   "id": "0e2b7f18-40e8-4126-8760-3190e2621aa3",
   "metadata": {},
   "outputs": [],
   "source": [
    "# Going1 distn for Chester\n",
    "df.Going1[df.CourseName=='Chester'].value_counts()\n",
    "goings = [ [ 'goodtofirm', 'good' ] , [ 'goodtosoft', 'soft', 'heavy' ] ]"
   ]
  },
  {
   "cell_type": "code",
   "execution_count": 145,
   "id": "2a5980dd-34da-4544-a35f-8c89042b2fc0",
   "metadata": {},
   "outputs": [],
   "source": [
    "# group dist by starting stalls posn\n",
    "dists = [ [ 5.5*220 ] , [ 13*220+89, 5*220+16 ] , [ 12*220+66 ] , [ 11*220+79 ] , \n",
    "         [ 10*220+75, 18*220+147 ] , [ 15*220+195, 7*220+122 ] , [ 7*220+2] , [ 6*220+18] ]"
   ]
  },
  {
   "cell_type": "code",
   "execution_count": null,
   "id": "6ff9e8cb-f092-48b5-b499-1dcd51965f40",
   "metadata": {},
   "outputs": [],
   "source": []
  },
  {
   "cell_type": "code",
   "execution_count": 148,
   "id": "5bea4d19-a9dc-4656-8646-02802463bc6f",
   "metadata": {},
   "outputs": [],
   "source": [
    "## TODO need to fix hm_supp==0 when should be np.nan"
   ]
  },
  {
   "cell_type": "code",
   "execution_count": null,
   "id": "56af3c2b-e88b-4bd1-b977-f7b965b641c5",
   "metadata": {},
   "outputs": [],
   "source": []
  },
  {
   "cell_type": "code",
   "execution_count": 169,
   "id": "30120d9c-d84f-45f2-87f1-8b700d0b751c",
   "metadata": {},
   "outputs": [
    {
     "data": {
      "image/png": "[encoded data removed]",
      "text/plain": [
       "<Figure size 640x480 with 2 Axes>"
      ]
     },
     "metadata": {},
     "output_type": "display_data"
    }
   ],
   "source": [
    "%matplotlib inline\n",
    "\n",
    "min_ave_supp = 2\n",
    "course_name = 'Salisbury'\n",
    "\n",
    "dist = [ 12*220 ]\n",
    "going = [ 'goodtofirm', 'good' ]\n",
    "\n",
    "\n",
    "plt.figure()\n",
    "plt.title('Draw Bias (Return), ' + course_name + ' (' + str(dist) + 'yards) ' + str(going))\n",
    "hm_data, hm_supp, hm_annot_index, hm_annot_supp = xmast(df, course_name, dist=dist, going=going, \n",
    "                                                        stalls='far side', min_ave_supp=min_ave_supp)\n",
    "\n",
    "sns.heatmap(hm_data.dropna(axis=0, how='all'),\n",
    "    cmap='gist_earth_r', robust=True,\n",
    "    # annot=hm_annot_index.dropna(axis=0, how='all'), \n",
    "    # annot=hm_annot_supp.dropna(axis=0, how='all'),\n",
    "            fmt='', annot_kws={'fontsize': 'xx-small'},\n",
    "    annot=(hm_annot_index + '\\n(' + hm_annot_supp + ')').dropna(axis=0, how='all'),\n",
    "            xticklabels=False, yticklabels=2\n",
    "    )\n",
    "plt.show()\n",
    "# plt.savefig('xmast_' + course_name + '.png')\n",
    "plt.close()"
   ]
  },
  {
   "cell_type": "code",
   "execution_count": 115,
   "id": "0992981c-d87f-4ae0-9ef1-630828c87440",
   "metadata": {},
   "outputs": [],
   "source": [
    "\n",
    "min_ave_supp = 1\n",
    "course_name = 'Chester'\n",
    "\n",
    "for dist in dists:\n",
    "    for going in goings:\n",
    "\n",
    "        plt.figure()\n",
    "        plt.title('Draw Bias (Return), ' + course_name + ' (' + str(dist) + 'yards) ' + str(going))\n",
    "        hm_data, hm_supp, hm_annot_index, hm_annot_supp = xmast(df, course_name, dist=dist, going=going, \n",
    "                                                                stalls='inside', min_ave_supp=min_ave_supp)\n",
    "        sns.heatmap(hm_data.dropna(axis=0, how='all'),\n",
    "            cmap='gist_earth_r', robust=True,\n",
    "            # annot=hm_annot_index.dropna(axis=0, how='all'), \n",
    "            # annot=hm_annot_supp.dropna(axis=0, how='all'),\n",
    "                    fmt='', annot_kws={'fontsize': 'xx-small'},\n",
    "            annot=(hm_annot_index + '\\n(' + hm_annot_supp + ')').dropna(axis=0, how='all'),\n",
    "                    xticklabels=False, yticklabels=2\n",
    "            )\n",
    "        # plt.show()\n",
    "        plt.savefig('xmast_' + course_name + '_' + str(dist) + '_' + str(going) + '.png')\n",
    "        plt.close()"
   ]
  }
 ],
 "metadata": {
  "kernelspec": {
   "display_name": "Python [conda env:base] *",
   "language": "python",
   "name": "conda-base-py"
  },
  "language_info": {
   "codemirror_mode": {
    "name": "ipython",
    "version": 3
   },
   "file_extension": ".py",
   "mimetype": "text/x-python",
   "name": "python",
   "nbconvert_exporter": "python",
   "pygments_lexer": "ipython3",
   "version": "3.12.7"
  }
 },
 "nbformat": 4,
 "nbformat_minor": 5
}
