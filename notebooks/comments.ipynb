{
 "cells": [
  {
   "cell_type": "code",
   "execution_count": 1,
   "id": "5d4ece2a-a076-4b74-adfe-bb86b6a5df5b",
   "metadata": {},
   "outputs": [],
   "source": [
    "import pandas as pd"
   ]
  },
  {
   "cell_type": "code",
   "execution_count": 3,
   "id": "e7d6423b-bd04-47cf-a5f3-dce9f8770ef3",
   "metadata": {},
   "outputs": [],
   "source": [
    "fpath = 'data/prep/'\n",
    "dfile = 'form_data.csv'"
   ]
  },
  {
   "cell_type": "code",
   "execution_count": 726,
   "id": "c6c5674c-0b0f-4342-9550-16d0dc46c5c3",
   "metadata": {},
   "outputs": [],
   "source": [
    "df = pd.read_csv(fpath+dfile,header=0,parse_dates=True)"
   ]
  },
  {
   "cell_type": "code",
   "execution_count": 728,
   "id": "f4d265fe-0b8f-4733-9f51-2bb5dc3c920e",
   "metadata": {},
   "outputs": [
    {
     "data": {
      "text/html": [
       "<div>\n",
       "<style scoped>\n",
       "    .dataframe tbody tr th:only-of-type {\n",
       "        vertical-align: middle;\n",
       "    }\n",
       "\n",
       "    .dataframe tbody tr th {\n",
       "        vertical-align: top;\n",
       "    }\n",
       "\n",
       "    .dataframe thead th {\n",
       "        text-align: right;\n",
       "    }\n",
       "</style>\n",
       "<table border=\"1\" class=\"dataframe\">\n",
       "  <thead>\n",
       "    <tr style=\"text-align: right;\">\n",
       "      <th></th>\n",
       "      <th>RaceId</th>\n",
       "      <th>CourseName</th>\n",
       "      <th>RaceDate</th>\n",
       "      <th>RaceTime</th>\n",
       "      <th>Class</th>\n",
       "      <th>Prize</th>\n",
       "      <th>FieldSize</th>\n",
       "      <th>Distance</th>\n",
       "      <th>RaceWinTime</th>\n",
       "      <th>Posn</th>\n",
       "      <th>...</th>\n",
       "      <th>RT</th>\n",
       "      <th>AgeMin</th>\n",
       "      <th>AgeMax</th>\n",
       "      <th>AW</th>\n",
       "      <th>Going1</th>\n",
       "      <th>Going1N</th>\n",
       "      <th>Won</th>\n",
       "      <th>Placed</th>\n",
       "      <th>ReturnWin</th>\n",
       "      <th>ReturnPlace</th>\n",
       "    </tr>\n",
       "  </thead>\n",
       "  <tbody>\n",
       "    <tr>\n",
       "      <th>0</th>\n",
       "      <td>42370101</td>\n",
       "      <td>Catterick</td>\n",
       "      <td>2016-01-01</td>\n",
       "      <td>12:30:00</td>\n",
       "      <td>4.0</td>\n",
       "      <td>5198.0</td>\n",
       "      <td>12</td>\n",
       "      <td>4246</td>\n",
       "      <td>305.0</td>\n",
       "      <td>1</td>\n",
       "      <td>...</td>\n",
       "      <td>NvH</td>\n",
       "      <td>4.0</td>\n",
       "      <td>NaN</td>\n",
       "      <td>False</td>\n",
       "      <td>soft</td>\n",
       "      <td>5.0</td>\n",
       "      <td>True</td>\n",
       "      <td>0.2</td>\n",
       "      <td>5.5</td>\n",
       "      <td>1.90</td>\n",
       "    </tr>\n",
       "    <tr>\n",
       "      <th>1</th>\n",
       "      <td>42370101</td>\n",
       "      <td>Catterick</td>\n",
       "      <td>2016-01-01</td>\n",
       "      <td>12:30:00</td>\n",
       "      <td>4.0</td>\n",
       "      <td>5198.0</td>\n",
       "      <td>12</td>\n",
       "      <td>4246</td>\n",
       "      <td>305.0</td>\n",
       "      <td>2</td>\n",
       "      <td>...</td>\n",
       "      <td>NvH</td>\n",
       "      <td>4.0</td>\n",
       "      <td>NaN</td>\n",
       "      <td>False</td>\n",
       "      <td>soft</td>\n",
       "      <td>5.0</td>\n",
       "      <td>False</td>\n",
       "      <td>0.2</td>\n",
       "      <td>0.0</td>\n",
       "      <td>1.80</td>\n",
       "    </tr>\n",
       "    <tr>\n",
       "      <th>2</th>\n",
       "      <td>42370101</td>\n",
       "      <td>Catterick</td>\n",
       "      <td>2016-01-01</td>\n",
       "      <td>12:30:00</td>\n",
       "      <td>4.0</td>\n",
       "      <td>5198.0</td>\n",
       "      <td>12</td>\n",
       "      <td>4246</td>\n",
       "      <td>305.0</td>\n",
       "      <td>3</td>\n",
       "      <td>...</td>\n",
       "      <td>NvH</td>\n",
       "      <td>4.0</td>\n",
       "      <td>NaN</td>\n",
       "      <td>False</td>\n",
       "      <td>soft</td>\n",
       "      <td>5.0</td>\n",
       "      <td>False</td>\n",
       "      <td>0.2</td>\n",
       "      <td>0.0</td>\n",
       "      <td>1.22</td>\n",
       "    </tr>\n",
       "    <tr>\n",
       "      <th>3</th>\n",
       "      <td>42370101</td>\n",
       "      <td>Catterick</td>\n",
       "      <td>2016-01-01</td>\n",
       "      <td>12:30:00</td>\n",
       "      <td>4.0</td>\n",
       "      <td>5198.0</td>\n",
       "      <td>12</td>\n",
       "      <td>4246</td>\n",
       "      <td>305.0</td>\n",
       "      <td>4</td>\n",
       "      <td>...</td>\n",
       "      <td>NvH</td>\n",
       "      <td>4.0</td>\n",
       "      <td>NaN</td>\n",
       "      <td>False</td>\n",
       "      <td>soft</td>\n",
       "      <td>5.0</td>\n",
       "      <td>False</td>\n",
       "      <td>0.0</td>\n",
       "      <td>0.0</td>\n",
       "      <td>0.00</td>\n",
       "    </tr>\n",
       "    <tr>\n",
       "      <th>4</th>\n",
       "      <td>42370101</td>\n",
       "      <td>Catterick</td>\n",
       "      <td>2016-01-01</td>\n",
       "      <td>12:30:00</td>\n",
       "      <td>4.0</td>\n",
       "      <td>5198.0</td>\n",
       "      <td>12</td>\n",
       "      <td>4246</td>\n",
       "      <td>305.0</td>\n",
       "      <td>5</td>\n",
       "      <td>...</td>\n",
       "      <td>NvH</td>\n",
       "      <td>4.0</td>\n",
       "      <td>NaN</td>\n",
       "      <td>False</td>\n",
       "      <td>soft</td>\n",
       "      <td>5.0</td>\n",
       "      <td>False</td>\n",
       "      <td>0.0</td>\n",
       "      <td>0.0</td>\n",
       "      <td>0.00</td>\n",
       "    </tr>\n",
       "  </tbody>\n",
       "</table>\n",
       "<p>5 rows × 30 columns</p>\n",
       "</div>"
      ],
      "text/plain": [
       "     RaceId CourseName    RaceDate  RaceTime  Class   Prize  FieldSize  \\\n",
       "0  42370101  Catterick  2016-01-01  12:30:00    4.0  5198.0         12   \n",
       "1  42370101  Catterick  2016-01-01  12:30:00    4.0  5198.0         12   \n",
       "2  42370101  Catterick  2016-01-01  12:30:00    4.0  5198.0         12   \n",
       "3  42370101  Catterick  2016-01-01  12:30:00    4.0  5198.0         12   \n",
       "4  42370101  Catterick  2016-01-01  12:30:00    4.0  5198.0         12   \n",
       "\n",
       "   Distance  RaceWinTime Posn  ...   RT AgeMin  AgeMax     AW Going1 Going1N  \\\n",
       "0      4246        305.0    1  ...  NvH    4.0     NaN  False   soft     5.0   \n",
       "1      4246        305.0    2  ...  NvH    4.0     NaN  False   soft     5.0   \n",
       "2      4246        305.0    3  ...  NvH    4.0     NaN  False   soft     5.0   \n",
       "3      4246        305.0    4  ...  NvH    4.0     NaN  False   soft     5.0   \n",
       "4      4246        305.0    5  ...  NvH    4.0     NaN  False   soft     5.0   \n",
       "\n",
       "     Won  Placed ReturnWin ReturnPlace  \n",
       "0   True     0.2       5.5        1.90  \n",
       "1  False     0.2       0.0        1.80  \n",
       "2  False     0.2       0.0        1.22  \n",
       "3  False     0.0       0.0        0.00  \n",
       "4  False     0.0       0.0        0.00  \n",
       "\n",
       "[5 rows x 30 columns]"
      ]
     },
     "execution_count": 728,
     "metadata": {},
     "output_type": "execute_result"
    }
   ],
   "source": [
    "df.head()"
   ]
  },
  {
   "cell_type": "code",
   "execution_count": 30,
   "id": "171cb88f-86ed-4d4e-a021-0ed3dd4b4aa6",
   "metadata": {},
   "outputs": [],
   "source": [
    "dfH = df[df.RT.apply(lambda x: x in ('HcH','NvHcH','NvH','MdH','H'))]\\\n",
    "# add M(ares)\n",
    "    [['HorseName','WeightLBS','OR','Allow',\n",
    "      # 'Trainer','Jockey',\n",
    "      'RaceDate','Distance','Going1N','CourseName','FieldSize','Posn','Comments']]"
   ]
  },
  {
   "cell_type": "code",
   "execution_count": 32,
   "id": "a008e735-632e-409a-938e-a429f565d3e7",
   "metadata": {},
   "outputs": [
    {
     "data": {
      "text/html": [
       "<div>\n",
       "<style scoped>\n",
       "    .dataframe tbody tr th:only-of-type {\n",
       "        vertical-align: middle;\n",
       "    }\n",
       "\n",
       "    .dataframe tbody tr th {\n",
       "        vertical-align: top;\n",
       "    }\n",
       "\n",
       "    .dataframe thead th {\n",
       "        text-align: right;\n",
       "    }\n",
       "</style>\n",
       "<table border=\"1\" class=\"dataframe\">\n",
       "  <thead>\n",
       "    <tr style=\"text-align: right;\">\n",
       "      <th></th>\n",
       "      <th>HorseName</th>\n",
       "      <th>WeightLBS</th>\n",
       "      <th>OR</th>\n",
       "      <th>Allow</th>\n",
       "      <th>RaceDate</th>\n",
       "      <th>Distance</th>\n",
       "      <th>Going1N</th>\n",
       "      <th>CourseName</th>\n",
       "      <th>FieldSize</th>\n",
       "      <th>Posn</th>\n",
       "      <th>Comments</th>\n",
       "    </tr>\n",
       "  </thead>\n",
       "  <tbody>\n",
       "    <tr>\n",
       "      <th>0</th>\n",
       "      <td>Lady Yeats</td>\n",
       "      <td>153</td>\n",
       "      <td>120.0</td>\n",
       "      <td>3</td>\n",
       "      <td>2016-01-01</td>\n",
       "      <td>4246</td>\n",
       "      <td>5.0</td>\n",
       "      <td>Catterick</td>\n",
       "      <td>12</td>\n",
       "      <td>1</td>\n",
       "      <td>led headed narrowly 2 out ridden and every cha...</td>\n",
       "    </tr>\n",
       "    <tr>\n",
       "      <th>1</th>\n",
       "      <td>Nam Hai</td>\n",
       "      <td>153</td>\n",
       "      <td>NaN</td>\n",
       "      <td>3</td>\n",
       "      <td>2016-01-01</td>\n",
       "      <td>4246</td>\n",
       "      <td>5.0</td>\n",
       "      <td>Catterick</td>\n",
       "      <td>12</td>\n",
       "      <td>2</td>\n",
       "      <td>in touch effort 2 out driven and every chance ...</td>\n",
       "    </tr>\n",
       "    <tr>\n",
       "      <th>2</th>\n",
       "      <td>Fort Smith</td>\n",
       "      <td>149</td>\n",
       "      <td>124.0</td>\n",
       "      <td>7</td>\n",
       "      <td>2016-01-01</td>\n",
       "      <td>4246</td>\n",
       "      <td>5.0</td>\n",
       "      <td>Catterick</td>\n",
       "      <td>12</td>\n",
       "      <td>3</td>\n",
       "      <td>tracked winner led narrowly 2 out hung left be...</td>\n",
       "    </tr>\n",
       "    <tr>\n",
       "      <th>3</th>\n",
       "      <td>Lough Salt</td>\n",
       "      <td>151</td>\n",
       "      <td>NaN</td>\n",
       "      <td>5</td>\n",
       "      <td>2016-01-01</td>\n",
       "      <td>4246</td>\n",
       "      <td>5.0</td>\n",
       "      <td>Catterick</td>\n",
       "      <td>12</td>\n",
       "      <td>4</td>\n",
       "      <td>tracked leaders effort 2 out every chance when...</td>\n",
       "    </tr>\n",
       "    <tr>\n",
       "      <th>4</th>\n",
       "      <td>Cactus Valley</td>\n",
       "      <td>153</td>\n",
       "      <td>NaN</td>\n",
       "      <td>3</td>\n",
       "      <td>2016-01-01</td>\n",
       "      <td>4246</td>\n",
       "      <td>5.0</td>\n",
       "      <td>Catterick</td>\n",
       "      <td>12</td>\n",
       "      <td>5</td>\n",
       "      <td>held up behind pushed along 2 out stayed on ap...</td>\n",
       "    </tr>\n",
       "    <tr>\n",
       "      <th>...</th>\n",
       "      <td>...</td>\n",
       "      <td>...</td>\n",
       "      <td>...</td>\n",
       "      <td>...</td>\n",
       "      <td>...</td>\n",
       "      <td>...</td>\n",
       "      <td>...</td>\n",
       "      <td>...</td>\n",
       "      <td>...</td>\n",
       "      <td>...</td>\n",
       "      <td>...</td>\n",
       "    </tr>\n",
       "    <tr>\n",
       "      <th>1084539</th>\n",
       "      <td>Destivelle</td>\n",
       "      <td>161</td>\n",
       "      <td>84.0</td>\n",
       "      <td>0</td>\n",
       "      <td>2024-12-31</td>\n",
       "      <td>3609</td>\n",
       "      <td>5.0</td>\n",
       "      <td>Punchestown</td>\n",
       "      <td>18</td>\n",
       "      <td>14</td>\n",
       "      <td>towards rear, headway in 11th after 5th, lost ...</td>\n",
       "    </tr>\n",
       "    <tr>\n",
       "      <th>1084540</th>\n",
       "      <td>Shing Shilla</td>\n",
       "      <td>164</td>\n",
       "      <td>87.0</td>\n",
       "      <td>0</td>\n",
       "      <td>2024-12-31</td>\n",
       "      <td>3609</td>\n",
       "      <td>5.0</td>\n",
       "      <td>Punchestown</td>\n",
       "      <td>18</td>\n",
       "      <td>15</td>\n",
       "      <td>close up, 3rd after 4th, 4th before 4 out, los...</td>\n",
       "    </tr>\n",
       "    <tr>\n",
       "      <th>1084541</th>\n",
       "      <td>Petit Dejeuner</td>\n",
       "      <td>164</td>\n",
       "      <td>87.0</td>\n",
       "      <td>0</td>\n",
       "      <td>2024-12-31</td>\n",
       "      <td>3609</td>\n",
       "      <td>5.0</td>\n",
       "      <td>Punchestown</td>\n",
       "      <td>18</td>\n",
       "      <td>16</td>\n",
       "      <td>tracked leader, led at 1st, increased lead bef...</td>\n",
       "    </tr>\n",
       "    <tr>\n",
       "      <th>1084542</th>\n",
       "      <td>Carslake</td>\n",
       "      <td>159</td>\n",
       "      <td>82.0</td>\n",
       "      <td>0</td>\n",
       "      <td>2024-12-31</td>\n",
       "      <td>3609</td>\n",
       "      <td>5.0</td>\n",
       "      <td>Punchestown</td>\n",
       "      <td>18</td>\n",
       "      <td>17</td>\n",
       "      <td>tracked leader, under pressure in 5th after 4t...</td>\n",
       "    </tr>\n",
       "    <tr>\n",
       "      <th>1084543</th>\n",
       "      <td>Klassman</td>\n",
       "      <td>159</td>\n",
       "      <td>82.0</td>\n",
       "      <td>0</td>\n",
       "      <td>2024-12-31</td>\n",
       "      <td>3609</td>\n",
       "      <td>5.0</td>\n",
       "      <td>Punchestown</td>\n",
       "      <td>18</td>\n",
       "      <td>U</td>\n",
       "      <td>mid-division, headway in 7th before 5th, 6th b...</td>\n",
       "    </tr>\n",
       "  </tbody>\n",
       "</table>\n",
       "<p>228412 rows × 11 columns</p>\n",
       "</div>"
      ],
      "text/plain": [
       "              HorseName  WeightLBS     OR  Allow    RaceDate  Distance  \\\n",
       "0            Lady Yeats        153  120.0      3  2016-01-01      4246   \n",
       "1               Nam Hai        153    NaN      3  2016-01-01      4246   \n",
       "2            Fort Smith        149  124.0      7  2016-01-01      4246   \n",
       "3            Lough Salt        151    NaN      5  2016-01-01      4246   \n",
       "4         Cactus Valley        153    NaN      3  2016-01-01      4246   \n",
       "...                 ...        ...    ...    ...         ...       ...   \n",
       "1084539      Destivelle        161   84.0      0  2024-12-31      3609   \n",
       "1084540    Shing Shilla        164   87.0      0  2024-12-31      3609   \n",
       "1084541  Petit Dejeuner        164   87.0      0  2024-12-31      3609   \n",
       "1084542        Carslake        159   82.0      0  2024-12-31      3609   \n",
       "1084543        Klassman        159   82.0      0  2024-12-31      3609   \n",
       "\n",
       "         Going1N   CourseName  FieldSize Posn  \\\n",
       "0            5.0    Catterick         12    1   \n",
       "1            5.0    Catterick         12    2   \n",
       "2            5.0    Catterick         12    3   \n",
       "3            5.0    Catterick         12    4   \n",
       "4            5.0    Catterick         12    5   \n",
       "...          ...          ...        ...  ...   \n",
       "1084539      5.0  Punchestown         18   14   \n",
       "1084540      5.0  Punchestown         18   15   \n",
       "1084541      5.0  Punchestown         18   16   \n",
       "1084542      5.0  Punchestown         18   17   \n",
       "1084543      5.0  Punchestown         18    U   \n",
       "\n",
       "                                                  Comments  \n",
       "0        led headed narrowly 2 out ridden and every cha...  \n",
       "1        in touch effort 2 out driven and every chance ...  \n",
       "2        tracked winner led narrowly 2 out hung left be...  \n",
       "3        tracked leaders effort 2 out every chance when...  \n",
       "4        held up behind pushed along 2 out stayed on ap...  \n",
       "...                                                    ...  \n",
       "1084539  towards rear, headway in 11th after 5th, lost ...  \n",
       "1084540  close up, 3rd after 4th, 4th before 4 out, los...  \n",
       "1084541  tracked leader, led at 1st, increased lead bef...  \n",
       "1084542  tracked leader, under pressure in 5th after 4t...  \n",
       "1084543  mid-division, headway in 7th before 5th, 6th b...  \n",
       "\n",
       "[228412 rows x 11 columns]"
      ]
     },
     "execution_count": 32,
     "metadata": {},
     "output_type": "execute_result"
    }
   ],
   "source": [
    "dfH"
   ]
  },
  {
   "cell_type": "code",
   "execution_count": 114,
   "id": "be4788b5-d925-4831-9b9b-02d54163a7da",
   "metadata": {},
   "outputs": [],
   "source": [
    "dfCh = df[df.RT.apply(lambda x: x in ('HcCh','NvHcCh','NvCh','MdCh','Ch','HcChM','NvHcChM','NvChM','MdChM','ChM'))]\\\n",
    "    [['HorseName','WeightLBS','OR','Allow','RT','ReturnWin','ReturnPlace',\n",
    "      # 'Trainer','Jockey',\n",
    "      'RaceDate','Distance','Going1N','CourseName','FieldSize','Posn','Comments']]"
   ]
  },
  {
   "cell_type": "code",
   "execution_count": 42,
   "id": "2cef2518-7ed8-4083-b059-578138c3f540",
   "metadata": {},
   "outputs": [],
   "source": [
    "# dfCh.RT.value_counts()"
   ]
  },
  {
   "cell_type": "code",
   "execution_count": 166,
   "id": "cdb2f420-258e-468f-8d33-35fcb881a08a",
   "metadata": {},
   "outputs": [],
   "source": [
    "# previous comments for Crs Gng RT\n",
    "a = dfCh[(dfCh.CourseName=='Warwick') & (dfCh.Going1N==3.0) & (dfCh.RT=='NvHcCh')]\\\n",
    "            [['HorseName','RaceDate','ReturnWin','ReturnPlace']]\n",
    "b = a.merge(dfCh[['HorseName','RaceDate','Comments']],on='HorseName',how='left')\n",
    "c = b[b.RaceDate_y<b.RaceDate_x]\n",
    "comments = c['Comments'].reset_index(drop=True)\n",
    "# print(comments)\n",
    "# print(pd.Series(sorted([' '.join(x.split(' ')[:2])\\\n",
    "#           for x in list(comments)])).value_counts()) # first two words\n",
    "# a = pd.Series(sorted([x.split(' ')[0]\\\n",
    "#           for x in list(comments)])).value_counts() # first word\n",
    "# a/sum(a)"
   ]
  },
  {
   "cell_type": "code",
   "execution_count": 312,
   "id": "f9584246-1fc7-4a70-bc2b-ab78177825ef",
   "metadata": {},
   "outputs": [],
   "source": [
    "y = ((c.ReturnWin>1)|(c.ReturnPlace>2)).reset_index(drop=True)"
   ]
  },
  {
   "cell_type": "code",
   "execution_count": 347,
   "id": "32a0070c-a895-4cc6-88dc-4eaa2379e82d",
   "metadata": {},
   "outputs": [],
   "source": [
    "# bag-of-words\n",
    "# set(' '.join(list(comments)))\n",
    "bow1p = [ x.replace(',','').replace('(','').replace(')','').lower().split(' ') for x in comments[y] ]\n",
    "bow1n = [ x.replace(',','').replace('(','').replace(')','').lower().split(' ') for x in comments[~y] ]"
   ]
  },
  {
   "cell_type": "code",
   "execution_count": 349,
   "id": "8d75c0a5-5c95-41a4-b675-0fc0dca16886",
   "metadata": {},
   "outputs": [],
   "source": [
    "bow2p = [ x for xx in bow1p for x in xx  ]\n",
    "wdsp = set(bow2p)\n",
    "bow2n = [ x for xx in bow1n for x in xx  ]\n",
    "wdsn = set(bow2n)"
   ]
  },
  {
   "cell_type": "code",
   "execution_count": 351,
   "id": "f01217b5-e5c6-452f-b038-03ea0001553d",
   "metadata": {},
   "outputs": [],
   "source": [
    "wds_freqp = pd.Series(bow2p).value_counts().reset_index().rename({'index':'wd','count':'freq'},axis=1)\n",
    "wds_freqn = pd.Series(bow2n).value_counts().reset_index().rename({'index':'wd','count':'freq'},axis=1)"
   ]
  },
  {
   "cell_type": "code",
   "execution_count": 353,
   "id": "b813ae96-202b-45f5-bbf8-8f159ab3be92",
   "metadata": {},
   "outputs": [],
   "source": [
    "wds_freq1p = wds_freqp[wds_freqp.freq>1]\n",
    "wds_freq1n = wds_freqn[wds_freqn.freq>1]"
   ]
  },
  {
   "cell_type": "code",
   "execution_count": 355,
   "id": "c1d434b6-a64f-45df-9f56-8399726afea5",
   "metadata": {},
   "outputs": [],
   "source": [
    "DFp = [ sum([xx.find(x)>1 for xx in comments[y]]) for x in wds_freq1p.wd ]\n",
    "DFn = [ sum([xx.find(x)>1 for xx in comments[~y]]) for x in wds_freq1n.wd ]"
   ]
  },
  {
   "cell_type": "code",
   "execution_count": 357,
   "id": "45cc1afe-5d85-484b-85e8-0d2c232ca334",
   "metadata": {},
   "outputs": [],
   "source": [
    "wds_freq1p.insert(2,'DF',DFp)\n",
    "wds_freq1n.insert(2,'DF',DFn)"
   ]
  },
  {
   "cell_type": "code",
   "execution_count": 359,
   "id": "170a5ee0-d11d-48ed-b221-7b9d5c264b61",
   "metadata": {},
   "outputs": [],
   "source": [
    "wds_freq1p.insert(3,'TFIDF',wds_freq1p.freq/wds_freq1p.DF)\n",
    "wds_freq1n.insert(3,'TFIDF',wds_freq1n.freq/wds_freq1n.DF)"
   ]
  },
  {
   "cell_type": "code",
   "execution_count": 435,
   "id": "29d6185a-0834-46c0-b8f0-24c1a6b8f94d",
   "metadata": {},
   "outputs": [],
   "source": [
    "# pd.concat([wds_freq1p.head(40),wds_freq1n.head(40)],axis=1)\n",
    "d = wds_freq1p.merge(wds_freq1n,on='wd',how='left')\n",
    "d['rDF_x'] = d['DF_x']/sum(y)\n",
    "d['rDF_y'] = d['DF_y']/sum(~y)\n",
    "# d[['wd','rDF_x','rDF_y']]"
   ]
  },
  {
   "cell_type": "code",
   "execution_count": 447,
   "id": "a8b86173-edd1-4c34-93a9-3772338c4291",
   "metadata": {},
   "outputs": [],
   "source": [
    "d['r'] = d.rDF_x/d.rDF_y\n",
    "e = d[d.rDF_y.isna()|(d.r>1.5)]"
   ]
  },
  {
   "cell_type": "code",
   "execution_count": 465,
   "id": "8b4b35f6-7bcb-42a9-9723-075833eac8f7",
   "metadata": {},
   "outputs": [
    {
     "data": {
      "text/html": [
       "<div>\n",
       "<style scoped>\n",
       "    .dataframe tbody tr th:only-of-type {\n",
       "        vertical-align: middle;\n",
       "    }\n",
       "\n",
       "    .dataframe tbody tr th {\n",
       "        vertical-align: top;\n",
       "    }\n",
       "\n",
       "    .dataframe thead th {\n",
       "        text-align: right;\n",
       "    }\n",
       "</style>\n",
       "<table border=\"1\" class=\"dataframe\">\n",
       "  <thead>\n",
       "    <tr style=\"text-align: right;\">\n",
       "      <th></th>\n",
       "      <th>wd</th>\n",
       "      <th>freq_x</th>\n",
       "      <th>DF_x</th>\n",
       "      <th>TFIDF_x</th>\n",
       "      <th>freq_y</th>\n",
       "      <th>DF_y</th>\n",
       "      <th>TFIDF_y</th>\n",
       "      <th>rDF_x</th>\n",
       "      <th>rDF_y</th>\n",
       "      <th>r</th>\n",
       "    </tr>\n",
       "  </thead>\n",
       "  <tbody>\n",
       "    <tr>\n",
       "      <th>16</th>\n",
       "      <td>when</td>\n",
       "      <td>58</td>\n",
       "      <td>52</td>\n",
       "      <td>1.115385</td>\n",
       "      <td>77.0</td>\n",
       "      <td>73.0</td>\n",
       "      <td>1.054795</td>\n",
       "      <td>0.237443</td>\n",
       "      <td>0.148676</td>\n",
       "      <td>1.597048</td>\n",
       "    </tr>\n",
       "    <tr>\n",
       "      <th>90</th>\n",
       "      <td>all</td>\n",
       "      <td>11</td>\n",
       "      <td>38</td>\n",
       "      <td>0.289474</td>\n",
       "      <td>8.0</td>\n",
       "      <td>48.0</td>\n",
       "      <td>0.166667</td>\n",
       "      <td>0.173516</td>\n",
       "      <td>0.097760</td>\n",
       "      <td>1.774924</td>\n",
       "    </tr>\n",
       "    <tr>\n",
       "      <th>32</th>\n",
       "      <td>impression</td>\n",
       "      <td>33</td>\n",
       "      <td>33</td>\n",
       "      <td>1.000000</td>\n",
       "      <td>49.0</td>\n",
       "      <td>49.0</td>\n",
       "      <td>1.000000</td>\n",
       "      <td>0.150685</td>\n",
       "      <td>0.099796</td>\n",
       "      <td>1.509925</td>\n",
       "    </tr>\n",
       "    <tr>\n",
       "      <th>33</th>\n",
       "      <td>flat</td>\n",
       "      <td>33</td>\n",
       "      <td>33</td>\n",
       "      <td>1.000000</td>\n",
       "      <td>37.0</td>\n",
       "      <td>37.0</td>\n",
       "      <td>1.000000</td>\n",
       "      <td>0.150685</td>\n",
       "      <td>0.075356</td>\n",
       "      <td>1.999630</td>\n",
       "    </tr>\n",
       "    <tr>\n",
       "      <th>41</th>\n",
       "      <td>stayed</td>\n",
       "      <td>29</td>\n",
       "      <td>29</td>\n",
       "      <td>1.000000</td>\n",
       "      <td>41.0</td>\n",
       "      <td>41.0</td>\n",
       "      <td>1.000000</td>\n",
       "      <td>0.132420</td>\n",
       "      <td>0.083503</td>\n",
       "      <td>1.585811</td>\n",
       "    </tr>\n",
       "    <tr>\n",
       "      <th>47</th>\n",
       "      <td>clear</td>\n",
       "      <td>24</td>\n",
       "      <td>23</td>\n",
       "      <td>1.043478</td>\n",
       "      <td>34.0</td>\n",
       "      <td>31.0</td>\n",
       "      <td>1.096774</td>\n",
       "      <td>0.105023</td>\n",
       "      <td>0.063136</td>\n",
       "      <td>1.663426</td>\n",
       "    </tr>\n",
       "    <tr>\n",
       "      <th>51</th>\n",
       "      <td>extra</td>\n",
       "      <td>22</td>\n",
       "      <td>22</td>\n",
       "      <td>1.000000</td>\n",
       "      <td>30.0</td>\n",
       "      <td>29.0</td>\n",
       "      <td>1.034483</td>\n",
       "      <td>0.100457</td>\n",
       "      <td>0.059063</td>\n",
       "      <td>1.700835</td>\n",
       "    </tr>\n",
       "    <tr>\n",
       "      <th>54</th>\n",
       "      <td>run-in</td>\n",
       "      <td>19</td>\n",
       "      <td>19</td>\n",
       "      <td>1.000000</td>\n",
       "      <td>21.0</td>\n",
       "      <td>21.0</td>\n",
       "      <td>1.000000</td>\n",
       "      <td>0.086758</td>\n",
       "      <td>0.042770</td>\n",
       "      <td>2.028484</td>\n",
       "    </tr>\n",
       "    <tr>\n",
       "      <th>122</th>\n",
       "      <td>challenge</td>\n",
       "      <td>6</td>\n",
       "      <td>18</td>\n",
       "      <td>0.333333</td>\n",
       "      <td>11.0</td>\n",
       "      <td>21.0</td>\n",
       "      <td>0.523810</td>\n",
       "      <td>0.082192</td>\n",
       "      <td>0.042770</td>\n",
       "      <td>1.921722</td>\n",
       "    </tr>\n",
       "    <tr>\n",
       "      <th>59</th>\n",
       "      <td>same</td>\n",
       "      <td>17</td>\n",
       "      <td>17</td>\n",
       "      <td>1.000000</td>\n",
       "      <td>17.0</td>\n",
       "      <td>17.0</td>\n",
       "      <td>1.000000</td>\n",
       "      <td>0.077626</td>\n",
       "      <td>0.034623</td>\n",
       "      <td>2.242009</td>\n",
       "    </tr>\n",
       "    <tr>\n",
       "      <th>115</th>\n",
       "      <td>bad</td>\n",
       "      <td>7</td>\n",
       "      <td>17</td>\n",
       "      <td>0.411765</td>\n",
       "      <td>4.0</td>\n",
       "      <td>12.0</td>\n",
       "      <td>0.333333</td>\n",
       "      <td>0.077626</td>\n",
       "      <td>0.024440</td>\n",
       "      <td>3.176180</td>\n",
       "    </tr>\n",
       "    <tr>\n",
       "      <th>27</th>\n",
       "      <td>tracked</td>\n",
       "      <td>41</td>\n",
       "      <td>15</td>\n",
       "      <td>2.733333</td>\n",
       "      <td>60.0</td>\n",
       "      <td>13.0</td>\n",
       "      <td>4.615385</td>\n",
       "      <td>0.068493</td>\n",
       "      <td>0.026477</td>\n",
       "      <td>2.586934</td>\n",
       "    </tr>\n",
       "    <tr>\n",
       "      <th>97</th>\n",
       "      <td>challenged</td>\n",
       "      <td>10</td>\n",
       "      <td>12</td>\n",
       "      <td>0.833333</td>\n",
       "      <td>10.0</td>\n",
       "      <td>10.0</td>\n",
       "      <td>1.000000</td>\n",
       "      <td>0.054795</td>\n",
       "      <td>0.020367</td>\n",
       "      <td>2.690411</td>\n",
       "    </tr>\n",
       "    <tr>\n",
       "      <th>109</th>\n",
       "      <td>slight</td>\n",
       "      <td>8</td>\n",
       "      <td>11</td>\n",
       "      <td>0.727273</td>\n",
       "      <td>6.0</td>\n",
       "      <td>11.0</td>\n",
       "      <td>0.545455</td>\n",
       "      <td>0.050228</td>\n",
       "      <td>0.022403</td>\n",
       "      <td>2.242009</td>\n",
       "    </tr>\n",
       "    <tr>\n",
       "      <th>89</th>\n",
       "      <td>wide</td>\n",
       "      <td>11</td>\n",
       "      <td>11</td>\n",
       "      <td>1.000000</td>\n",
       "      <td>8.0</td>\n",
       "      <td>9.0</td>\n",
       "      <td>0.888889</td>\n",
       "      <td>0.050228</td>\n",
       "      <td>0.018330</td>\n",
       "      <td>2.740233</td>\n",
       "    </tr>\n",
       "    <tr>\n",
       "      <th>85</th>\n",
       "      <td>lengths</td>\n",
       "      <td>11</td>\n",
       "      <td>10</td>\n",
       "      <td>1.100000</td>\n",
       "      <td>10.0</td>\n",
       "      <td>8.0</td>\n",
       "      <td>1.250000</td>\n",
       "      <td>0.045662</td>\n",
       "      <td>0.016293</td>\n",
       "      <td>2.802511</td>\n",
       "    </tr>\n",
       "    <tr>\n",
       "      <th>81</th>\n",
       "      <td>badly</td>\n",
       "      <td>12</td>\n",
       "      <td>10</td>\n",
       "      <td>1.200000</td>\n",
       "      <td>10.0</td>\n",
       "      <td>8.0</td>\n",
       "      <td>1.250000</td>\n",
       "      <td>0.045662</td>\n",
       "      <td>0.016293</td>\n",
       "      <td>2.802511</td>\n",
       "    </tr>\n",
       "    <tr>\n",
       "      <th>95</th>\n",
       "      <td>into</td>\n",
       "      <td>10</td>\n",
       "      <td>9</td>\n",
       "      <td>1.111111</td>\n",
       "      <td>10.0</td>\n",
       "      <td>10.0</td>\n",
       "      <td>1.000000</td>\n",
       "      <td>0.041096</td>\n",
       "      <td>0.020367</td>\n",
       "      <td>2.017808</td>\n",
       "    </tr>\n",
       "    <tr>\n",
       "      <th>103</th>\n",
       "      <td>final</td>\n",
       "      <td>9</td>\n",
       "      <td>9</td>\n",
       "      <td>1.000000</td>\n",
       "      <td>13.0</td>\n",
       "      <td>12.0</td>\n",
       "      <td>1.083333</td>\n",
       "      <td>0.041096</td>\n",
       "      <td>0.024440</td>\n",
       "      <td>1.681507</td>\n",
       "    </tr>\n",
       "    <tr>\n",
       "      <th>107</th>\n",
       "      <td>modest</td>\n",
       "      <td>9</td>\n",
       "      <td>9</td>\n",
       "      <td>1.000000</td>\n",
       "      <td>11.0</td>\n",
       "      <td>11.0</td>\n",
       "      <td>1.000000</td>\n",
       "      <td>0.041096</td>\n",
       "      <td>0.022403</td>\n",
       "      <td>1.834371</td>\n",
       "    </tr>\n",
       "  </tbody>\n",
       "</table>\n",
       "</div>"
      ],
      "text/plain": [
       "             wd  freq_x  DF_x   TFIDF_x  freq_y  DF_y   TFIDF_y     rDF_x  \\\n",
       "16         when      58    52  1.115385    77.0  73.0  1.054795  0.237443   \n",
       "90          all      11    38  0.289474     8.0  48.0  0.166667  0.173516   \n",
       "32   impression      33    33  1.000000    49.0  49.0  1.000000  0.150685   \n",
       "33         flat      33    33  1.000000    37.0  37.0  1.000000  0.150685   \n",
       "41       stayed      29    29  1.000000    41.0  41.0  1.000000  0.132420   \n",
       "47        clear      24    23  1.043478    34.0  31.0  1.096774  0.105023   \n",
       "51        extra      22    22  1.000000    30.0  29.0  1.034483  0.100457   \n",
       "54       run-in      19    19  1.000000    21.0  21.0  1.000000  0.086758   \n",
       "122   challenge       6    18  0.333333    11.0  21.0  0.523810  0.082192   \n",
       "59         same      17    17  1.000000    17.0  17.0  1.000000  0.077626   \n",
       "115         bad       7    17  0.411765     4.0  12.0  0.333333  0.077626   \n",
       "27      tracked      41    15  2.733333    60.0  13.0  4.615385  0.068493   \n",
       "97   challenged      10    12  0.833333    10.0  10.0  1.000000  0.054795   \n",
       "109      slight       8    11  0.727273     6.0  11.0  0.545455  0.050228   \n",
       "89         wide      11    11  1.000000     8.0   9.0  0.888889  0.050228   \n",
       "85      lengths      11    10  1.100000    10.0   8.0  1.250000  0.045662   \n",
       "81        badly      12    10  1.200000    10.0   8.0  1.250000  0.045662   \n",
       "95         into      10     9  1.111111    10.0  10.0  1.000000  0.041096   \n",
       "103       final       9     9  1.000000    13.0  12.0  1.083333  0.041096   \n",
       "107      modest       9     9  1.000000    11.0  11.0  1.000000  0.041096   \n",
       "\n",
       "        rDF_y         r  \n",
       "16   0.148676  1.597048  \n",
       "90   0.097760  1.774924  \n",
       "32   0.099796  1.509925  \n",
       "33   0.075356  1.999630  \n",
       "41   0.083503  1.585811  \n",
       "47   0.063136  1.663426  \n",
       "51   0.059063  1.700835  \n",
       "54   0.042770  2.028484  \n",
       "122  0.042770  1.921722  \n",
       "59   0.034623  2.242009  \n",
       "115  0.024440  3.176180  \n",
       "27   0.026477  2.586934  \n",
       "97   0.020367  2.690411  \n",
       "109  0.022403  2.242009  \n",
       "89   0.018330  2.740233  \n",
       "85   0.016293  2.802511  \n",
       "81   0.016293  2.802511  \n",
       "95   0.020367  2.017808  \n",
       "103  0.024440  1.681507  \n",
       "107  0.022403  1.834371  "
      ]
     },
     "execution_count": 465,
     "metadata": {},
     "output_type": "execute_result"
    }
   ],
   "source": [
    "e.sort_values('DF_x',ascending=False).head(20)"
   ]
  },
  {
   "cell_type": "code",
   "execution_count": 391,
   "id": "bd8888bb-52d5-4d57-a333-06dbc3234430",
   "metadata": {},
   "outputs": [],
   "source": [
    "X = [ len(set(x.split(' ')).intersection(set(['tracked','impression','stayed','clear','extra']))) for x in comments ]"
   ]
  },
  {
   "cell_type": "code",
   "execution_count": 421,
   "id": "3f95d75b-cd39-4bda-a273-5576230e328a",
   "metadata": {},
   "outputs": [],
   "source": [
    "cc = c.reset_index(drop=True)\n",
    "cc.insert(6,'X',X)\n",
    "cc.insert(7,'y',y)"
   ]
  },
  {
   "cell_type": "code",
   "execution_count": 425,
   "id": "79987e85-f997-44e7-afb8-1351c313464a",
   "metadata": {},
   "outputs": [],
   "source": [
    "# c.drop(['X','y'],inplace=True,axis=1)"
   ]
  },
  {
   "cell_type": "code",
   "execution_count": 429,
   "id": "cbc686b7-4d7d-418f-98dc-556de217f637",
   "metadata": {},
   "outputs": [],
   "source": [
    "dd = cc[['HorseName','X','y']].groupby('HorseName').sum()"
   ]
  },
  {
   "cell_type": "code",
   "execution_count": 431,
   "id": "6843a172-b74f-49f1-aab8-9a0f1d2b09ef",
   "metadata": {},
   "outputs": [
    {
     "data": {
      "text/html": [
       "<div>\n",
       "<style scoped>\n",
       "    .dataframe tbody tr th:only-of-type {\n",
       "        vertical-align: middle;\n",
       "    }\n",
       "\n",
       "    .dataframe tbody tr th {\n",
       "        vertical-align: top;\n",
       "    }\n",
       "\n",
       "    .dataframe thead th {\n",
       "        text-align: right;\n",
       "    }\n",
       "</style>\n",
       "<table border=\"1\" class=\"dataframe\">\n",
       "  <thead>\n",
       "    <tr style=\"text-align: right;\">\n",
       "      <th></th>\n",
       "      <th>X</th>\n",
       "      <th>y</th>\n",
       "    </tr>\n",
       "    <tr>\n",
       "      <th>HorseName</th>\n",
       "      <th></th>\n",
       "      <th></th>\n",
       "    </tr>\n",
       "  </thead>\n",
       "  <tbody>\n",
       "    <tr>\n",
       "      <th>Abidjan (FR)</th>\n",
       "      <td>3</td>\n",
       "      <td>5</td>\n",
       "    </tr>\n",
       "    <tr>\n",
       "      <th>Barrakhov</th>\n",
       "      <td>0</td>\n",
       "      <td>5</td>\n",
       "    </tr>\n",
       "    <tr>\n",
       "      <th>Bells Of Stamford</th>\n",
       "      <td>1</td>\n",
       "      <td>2</td>\n",
       "    </tr>\n",
       "    <tr>\n",
       "      <th>Bempton Cliffs</th>\n",
       "      <td>2</td>\n",
       "      <td>3</td>\n",
       "    </tr>\n",
       "    <tr>\n",
       "      <th>Beyond The Clouds</th>\n",
       "      <td>10</td>\n",
       "      <td>10</td>\n",
       "    </tr>\n",
       "    <tr>\n",
       "      <th>Boughtbeforelunch</th>\n",
       "      <td>3</td>\n",
       "      <td>5</td>\n",
       "    </tr>\n",
       "    <tr>\n",
       "      <th>By Rail</th>\n",
       "      <td>0</td>\n",
       "      <td>1</td>\n",
       "    </tr>\n",
       "    <tr>\n",
       "      <th>Coopers Square</th>\n",
       "      <td>10</td>\n",
       "      <td>4</td>\n",
       "    </tr>\n",
       "    <tr>\n",
       "      <th>Danseur Du Large (FR)</th>\n",
       "      <td>5</td>\n",
       "      <td>5</td>\n",
       "    </tr>\n",
       "    <tr>\n",
       "      <th>Djin Conti (FR)</th>\n",
       "      <td>2</td>\n",
       "      <td>3</td>\n",
       "    </tr>\n",
       "    <tr>\n",
       "      <th>Doitforthevillage</th>\n",
       "      <td>9</td>\n",
       "      <td>11</td>\n",
       "    </tr>\n",
       "    <tr>\n",
       "      <th>Dorado Dollar</th>\n",
       "      <td>3</td>\n",
       "      <td>16</td>\n",
       "    </tr>\n",
       "    <tr>\n",
       "      <th>Eaton Miller</th>\n",
       "      <td>2</td>\n",
       "      <td>5</td>\n",
       "    </tr>\n",
       "    <tr>\n",
       "      <th>Epic Warrior</th>\n",
       "      <td>0</td>\n",
       "      <td>2</td>\n",
       "    </tr>\n",
       "    <tr>\n",
       "      <th>Eros (FR)</th>\n",
       "      <td>7</td>\n",
       "      <td>11</td>\n",
       "    </tr>\n",
       "    <tr>\n",
       "      <th>Fiston De Becon (FR)</th>\n",
       "      <td>1</td>\n",
       "      <td>5</td>\n",
       "    </tr>\n",
       "    <tr>\n",
       "      <th>Genois (FR)</th>\n",
       "      <td>16</td>\n",
       "      <td>14</td>\n",
       "    </tr>\n",
       "    <tr>\n",
       "      <th>Geromino (FR)</th>\n",
       "      <td>8</td>\n",
       "      <td>8</td>\n",
       "    </tr>\n",
       "    <tr>\n",
       "      <th>Going Mobile</th>\n",
       "      <td>7</td>\n",
       "      <td>11</td>\n",
       "    </tr>\n",
       "    <tr>\n",
       "      <th>Great Dange (FR)</th>\n",
       "      <td>0</td>\n",
       "      <td>1</td>\n",
       "    </tr>\n",
       "    <tr>\n",
       "      <th>Hargam (FR)</th>\n",
       "      <td>3</td>\n",
       "      <td>5</td>\n",
       "    </tr>\n",
       "    <tr>\n",
       "      <th>Hawthorn Cottage</th>\n",
       "      <td>0</td>\n",
       "      <td>1</td>\n",
       "    </tr>\n",
       "    <tr>\n",
       "      <th>Heroes Or Ghosts</th>\n",
       "      <td>1</td>\n",
       "      <td>1</td>\n",
       "    </tr>\n",
       "    <tr>\n",
       "      <th>Hollywoodien (FR)</th>\n",
       "      <td>4</td>\n",
       "      <td>2</td>\n",
       "    </tr>\n",
       "    <tr>\n",
       "      <th>Hurlerontheditch</th>\n",
       "      <td>3</td>\n",
       "      <td>5</td>\n",
       "    </tr>\n",
       "    <tr>\n",
       "      <th>Jaboticaba (FR)</th>\n",
       "      <td>2</td>\n",
       "      <td>5</td>\n",
       "    </tr>\n",
       "    <tr>\n",
       "      <th>Jarlath</th>\n",
       "      <td>6</td>\n",
       "      <td>5</td>\n",
       "    </tr>\n",
       "    <tr>\n",
       "      <th>Kilcara</th>\n",
       "      <td>1</td>\n",
       "      <td>2</td>\n",
       "    </tr>\n",
       "    <tr>\n",
       "      <th>Kittys Light</th>\n",
       "      <td>2</td>\n",
       "      <td>2</td>\n",
       "    </tr>\n",
       "    <tr>\n",
       "      <th>Magistrato (FR)</th>\n",
       "      <td>0</td>\n",
       "      <td>1</td>\n",
       "    </tr>\n",
       "    <tr>\n",
       "      <th>Midnight Cowboy</th>\n",
       "      <td>3</td>\n",
       "      <td>2</td>\n",
       "    </tr>\n",
       "    <tr>\n",
       "      <th>My Bad Lucy</th>\n",
       "      <td>3</td>\n",
       "      <td>5</td>\n",
       "    </tr>\n",
       "    <tr>\n",
       "      <th>My Rockstar</th>\n",
       "      <td>0</td>\n",
       "      <td>3</td>\n",
       "    </tr>\n",
       "    <tr>\n",
       "      <th>No No Maestro</th>\n",
       "      <td>0</td>\n",
       "      <td>1</td>\n",
       "    </tr>\n",
       "    <tr>\n",
       "      <th>One More Fleurie</th>\n",
       "      <td>4</td>\n",
       "      <td>5</td>\n",
       "    </tr>\n",
       "    <tr>\n",
       "      <th>Phoenix Rock</th>\n",
       "      <td>0</td>\n",
       "      <td>3</td>\n",
       "    </tr>\n",
       "    <tr>\n",
       "      <th>Pure Poteen</th>\n",
       "      <td>0</td>\n",
       "      <td>2</td>\n",
       "    </tr>\n",
       "    <tr>\n",
       "      <th>Red Hanrahan</th>\n",
       "      <td>3</td>\n",
       "      <td>1</td>\n",
       "    </tr>\n",
       "    <tr>\n",
       "      <th>Rosserk Abbey</th>\n",
       "      <td>2</td>\n",
       "      <td>2</td>\n",
       "    </tr>\n",
       "    <tr>\n",
       "      <th>Sail Away (FR)</th>\n",
       "      <td>3</td>\n",
       "      <td>4</td>\n",
       "    </tr>\n",
       "    <tr>\n",
       "      <th>Sir Tivo (FR)</th>\n",
       "      <td>6</td>\n",
       "      <td>10</td>\n",
       "    </tr>\n",
       "    <tr>\n",
       "      <th>Sister Sibyl</th>\n",
       "      <td>6</td>\n",
       "      <td>6</td>\n",
       "    </tr>\n",
       "    <tr>\n",
       "      <th>The Manuscript</th>\n",
       "      <td>0</td>\n",
       "      <td>1</td>\n",
       "    </tr>\n",
       "    <tr>\n",
       "      <th>The Newest One</th>\n",
       "      <td>0</td>\n",
       "      <td>1</td>\n",
       "    </tr>\n",
       "    <tr>\n",
       "      <th>Twig</th>\n",
       "      <td>2</td>\n",
       "      <td>3</td>\n",
       "    </tr>\n",
       "    <tr>\n",
       "      <th>Unai</th>\n",
       "      <td>1</td>\n",
       "      <td>3</td>\n",
       "    </tr>\n",
       "    <tr>\n",
       "      <th>Valentino Dancer</th>\n",
       "      <td>2</td>\n",
       "      <td>3</td>\n",
       "    </tr>\n",
       "    <tr>\n",
       "      <th>Village Master</th>\n",
       "      <td>1</td>\n",
       "      <td>1</td>\n",
       "    </tr>\n",
       "    <tr>\n",
       "      <th>Wells De Lune (FR)</th>\n",
       "      <td>1</td>\n",
       "      <td>1</td>\n",
       "    </tr>\n",
       "    <tr>\n",
       "      <th>William Ewart</th>\n",
       "      <td>3</td>\n",
       "      <td>6</td>\n",
       "    </tr>\n",
       "  </tbody>\n",
       "</table>\n",
       "</div>"
      ],
      "text/plain": [
       "                        X   y\n",
       "HorseName                    \n",
       "Abidjan (FR)            3   5\n",
       "Barrakhov               0   5\n",
       "Bells Of Stamford       1   2\n",
       "Bempton Cliffs          2   3\n",
       "Beyond The Clouds      10  10\n",
       "Boughtbeforelunch       3   5\n",
       "By Rail                 0   1\n",
       "Coopers Square         10   4\n",
       "Danseur Du Large (FR)   5   5\n",
       "Djin Conti (FR)         2   3\n",
       "Doitforthevillage       9  11\n",
       "Dorado Dollar           3  16\n",
       "Eaton Miller            2   5\n",
       "Epic Warrior            0   2\n",
       "Eros (FR)               7  11\n",
       "Fiston De Becon (FR)    1   5\n",
       "Genois (FR)            16  14\n",
       "Geromino (FR)           8   8\n",
       "Going Mobile            7  11\n",
       "Great Dange (FR)        0   1\n",
       "Hargam (FR)             3   5\n",
       "Hawthorn Cottage        0   1\n",
       "Heroes Or Ghosts        1   1\n",
       "Hollywoodien (FR)       4   2\n",
       "Hurlerontheditch        3   5\n",
       "Jaboticaba (FR)         2   5\n",
       "Jarlath                 6   5\n",
       "Kilcara                 1   2\n",
       "Kittys Light            2   2\n",
       "Magistrato (FR)         0   1\n",
       "Midnight Cowboy         3   2\n",
       "My Bad Lucy             3   5\n",
       "My Rockstar             0   3\n",
       "No No Maestro           0   1\n",
       "One More Fleurie        4   5\n",
       "Phoenix Rock            0   3\n",
       "Pure Poteen             0   2\n",
       "Red Hanrahan            3   1\n",
       "Rosserk Abbey           2   2\n",
       "Sail Away (FR)          3   4\n",
       "Sir Tivo (FR)           6  10\n",
       "Sister Sibyl            6   6\n",
       "The Manuscript          0   1\n",
       "The Newest One          0   1\n",
       "Twig                    2   3\n",
       "Unai                    1   3\n",
       "Valentino Dancer        2   3\n",
       "Village Master          1   1\n",
       "Wells De Lune (FR)      1   1\n",
       "William Ewart           3   6"
      ]
     },
     "execution_count": 431,
     "metadata": {},
     "output_type": "execute_result"
    }
   ],
   "source": [
    "dd[dd.y>0]"
   ]
  },
  {
   "cell_type": "markdown",
   "id": "4b68314b-3fed-4e31-877b-3fe8baf07191",
   "metadata": {},
   "source": [
    "Snippet 3 below shows how you can train your own doc2Vec models on a custom corpus:"
   ]
  },
  {
   "cell_type": "markdown",
   "id": "5698ad88-05ad-49e0-83bf-a5aef8dae0ad",
   "metadata": {},
   "source": [
    "Le, Q. V., Mikolov, T., 2014, Distributed representations of sentences and documents. ArXiv, abs/1405.4053.\n",
    "Available at: https://arxiv.org/abs/1405.4053."
   ]
  },
  {
   "cell_type": "code",
   "execution_count": 469,
   "id": "b005df15-5e96-4c06-aed4-8d8c8897cae4",
   "metadata": {},
   "outputs": [],
   "source": [
    "!pip install -U -q \"gensim\""
   ]
  },
  {
   "cell_type": "code",
   "execution_count": 1240,
   "id": "f4084286-0826-4fed-aa7f-dafd10c91cc3",
   "metadata": {},
   "outputs": [
    {
     "data": {
      "text/plain": [
       "'4.3.3'"
      ]
     },
     "execution_count": 1240,
     "metadata": {},
     "output_type": "execute_result"
    }
   ],
   "source": [
    "import gensim\n",
    "gensim.__version__"
   ]
  },
  {
   "cell_type": "code",
   "execution_count": 475,
   "id": "4a3ae017-3d92-4975-8e89-2cd5b4de4306",
   "metadata": {},
   "outputs": [],
   "source": [
    "from gensim.test.utils import common_texts\n",
    "from gensim.models.doc2vec import Doc2Vec, TaggedDocument\n",
    "from gensim.test.utils import get_tmpfile"
   ]
  },
  {
   "cell_type": "code",
   "execution_count": 477,
   "id": "3d24819e-e875-4858-9b19-37b8a3c709cc",
   "metadata": {},
   "outputs": [],
   "source": [
    "#train model on a sequence of documents tagged with their IDs\n",
    "documents = [TaggedDocument(doc, [i]) for i, doc in enumerate(common_texts)]\n",
    "model = Doc2Vec(documents, vector_size=8, window=3, min_count=1, workers=6)"
   ]
  },
  {
   "cell_type": "code",
   "execution_count": 479,
   "id": "3999cfc7-872d-465c-807d-71a713eecf0b",
   "metadata": {},
   "outputs": [
    {
     "data": {
      "text/plain": [
       "array([ 0.00528195, -0.03031922, -0.03935448, -0.00905369,  0.05565676,\n",
       "       -0.00111594, -0.0201578 ,  0.04316783], dtype=float32)"
      ]
     },
     "execution_count": 479,
     "metadata": {},
     "output_type": "execute_result"
    }
   ],
   "source": [
    "# persist model to disk, and load it to infer on new documents\n",
    "model_file = get_tmpfile(\"Doc2Vec_v1\")\n",
    "model.save(model_file)\n",
    "model = Doc2Vec.load(model_file)\n",
    "model.infer_vector([\"human\", \"interface\"])"
   ]
  },
  {
   "cell_type": "markdown",
   "id": "a0b7efb5-2306-4139-8c90-8517258ec415",
   "metadata": {},
   "source": [
    "## Comments Doc2Vec embedding and similarity scores"
   ]
  },
  {
   "cell_type": "code",
   "execution_count": 591,
   "id": "6ca63085-32f5-475a-8e25-6be99ae37bdb",
   "metadata": {},
   "outputs": [],
   "source": [
    "# get all chars in Comments\n",
    "# set(''.join([str(c) for c in list(dfH.Comments.values)]))"
   ]
  },
  {
   "cell_type": "code",
   "execution_count": 1082,
   "id": "1f6e04b0-0fd7-4124-9c37-649065677b62",
   "metadata": {},
   "outputs": [],
   "source": [
    "# https://stackoverflow.com/questions/265960/best-way-to-strip-punctuation-from-a-string\n",
    "import string\n",
    "df['comments'] = df.Comments.apply(lambda x: str(x).translate(str.maketrans('','',string.punctuation)))"
   ]
  },
  {
   "cell_type": "code",
   "execution_count": 1084,
   "id": "e08a5b34-23a4-4e7e-a68b-8a8866dd63eb",
   "metadata": {},
   "outputs": [],
   "source": [
    "texts = [ str(c).split() for c in list(df.comments.values) ]"
   ]
  },
  {
   "cell_type": "code",
   "execution_count": 1188,
   "id": "5a709bd2-0312-4354-8368-66099319e678",
   "metadata": {},
   "outputs": [],
   "source": [
    "#train model on a sequence of documents tagged with their IDs\n",
    "# https://arxiv.org/pdf/1405.4053\n",
    "documents = [TaggedDocument(doc, [i]) for i, doc in enumerate(texts)]\n",
    "# model = Doc2Vec(documents, vector_size=8, window=3, min_count=1, workers=6)\n",
    "# model = Doc2Vec(documents, workers=7)\n",
    "# https://radimrehurek.com/gensim/models/doc2vec.html\n",
    "model = Doc2Vec(documents, dm=1, vector_size=50, window=2, min_count=3, sample=1e-5, hs=1, workers=7)"
   ]
  },
  {
   "cell_type": "code",
   "execution_count": 1190,
   "id": "2bab068e-8d2e-4eac-bdc1-6c33f257fa45",
   "metadata": {},
   "outputs": [],
   "source": [
    "# persist model to disk, and load it to infer on new documents\n",
    "model_file = get_tmpfile(\"Doc2Vec_v4\")\n",
    "model.save(model_file)"
   ]
  },
  {
   "cell_type": "code",
   "execution_count": 1192,
   "id": "d59ab510-b2ab-41ce-babe-0aec9c9d69df",
   "metadata": {},
   "outputs": [
    {
     "data": {
      "text/plain": [
       "array([ 0.1345618 , -0.0728581 , -0.05810495,  0.13027653, -0.12507442,\n",
       "       -0.1602849 ,  0.03158674,  0.23542508, -0.4111657 ,  0.08480563,\n",
       "        0.01208495,  0.07843297,  0.22090654,  0.17435308, -0.07564621,\n",
       "       -0.10051873, -0.05551881,  0.07778135,  0.14151902, -0.04161229,\n",
       "       -0.40912604, -0.16981234,  0.2483861 ,  0.1041811 ,  0.2107344 ,\n",
       "        0.04211685, -0.07242022,  0.11495306, -0.21734267, -0.03360191,\n",
       "       -0.08185735,  0.18868686,  0.18814795,  0.19736478, -0.20631649,\n",
       "       -0.07998107, -0.00814012,  0.20116162,  0.17469625,  0.03922555,\n",
       "        0.0478582 ,  0.14959729,  0.11733712, -0.13404277,  0.06600966,\n",
       "       -0.14339781, -0.0667136 ,  0.10617378, -0.03536946,  0.28450716],\n",
       "      dtype=float32)"
      ]
     },
     "execution_count": 1192,
     "metadata": {},
     "output_type": "execute_result"
    }
   ],
   "source": [
    "# persist model to disk, and load it to infer on new documents\n",
    "model = Doc2Vec.load(model_file)\n",
    "model.infer_vector(dfCh.Comments.values[0].split())"
   ]
  },
  {
   "cell_type": "code",
   "execution_count": 1194,
   "id": "d6e7cfb0-b955-4202-981a-c17b33c1d510",
   "metadata": {},
   "outputs": [],
   "source": [
    "# embeddings for runners in 7apr25 2.15 Kel 22.5f HcH Cl4 Gd\n",
    "runners = ['High Dancer','Diamond Dealer','Kilbrainy','Dollar Collar',\n",
    "           'Shoeshine Boy','Balcomie Breeze (FR)','Half Track',\n",
    "           'Evenwood Sonofagun','Wearelongterm']"
   ]
  },
  {
   "cell_type": "code",
   "execution_count": 1200,
   "id": "74b3fa6e-03ad-4ba5-aae1-ad42ad0f480f",
   "metadata": {},
   "outputs": [],
   "source": [
    "# for each runner get a list of comments, could subset this on RT, etc.\n",
    "a = df[(df.RT=='HcH') & (df.HorseName.apply(lambda x: x in runners))][['HorseName','comments']]"
   ]
  },
  {
   "cell_type": "code",
   "execution_count": 1100,
   "id": "59e5fb96-da3f-4ee4-a9f6-d164921a8b1e",
   "metadata": {},
   "outputs": [],
   "source": [
    "# a.HorseName.unique()"
   ]
  },
  {
   "cell_type": "code",
   "execution_count": 1102,
   "id": "756f2999-c2b0-4de6-8f62-80d231288d45",
   "metadata": {},
   "outputs": [],
   "source": [
    "# b = a.groupby('HorseName').aggregate(list)"
   ]
  },
  {
   "cell_type": "code",
   "execution_count": 637,
   "id": "ddcc547b-2f52-4816-a914-bfb5264254c9",
   "metadata": {},
   "outputs": [],
   "source": [
    "# b.Comments.values[0]"
   ]
  },
  {
   "cell_type": "code",
   "execution_count": 1104,
   "id": "11c228de-7aca-430a-bad5-78c41b098549",
   "metadata": {},
   "outputs": [],
   "source": [
    "# # list<str> to list<list>\n",
    "# b['texts'] = b.comments.apply(lambda x: [str(c).split() for c in list(x) ])"
   ]
  },
  {
   "cell_type": "code",
   "execution_count": 1202,
   "id": "fa5909c5-1ba6-45f0-b2d3-50e89df743a5",
   "metadata": {},
   "outputs": [],
   "source": [
    "# str to list\n",
    "a['text'] = a.comments.apply(lambda x: x.split())"
   ]
  },
  {
   "cell_type": "code",
   "execution_count": 1110,
   "id": "13e0379e-a3ea-4d46-a93d-11526b8d1005",
   "metadata": {},
   "outputs": [],
   "source": [
    "# # list<list> to list, ie collapse all previous comments b-o-w to single b-o-w\n",
    "# b['text'] = b.texts.apply(lambda x: [ ll for l in x for ll in l ])"
   ]
  },
  {
   "cell_type": "code",
   "execution_count": 1112,
   "id": "fc4c3b03-9805-4fbd-b612-7f055da8ff55",
   "metadata": {},
   "outputs": [],
   "source": [
    "# # get embeddings for each runner as array\n",
    "# b['embedding'] = b.text.apply(model.infer_vector)"
   ]
  },
  {
   "cell_type": "code",
   "execution_count": 1204,
   "id": "c00a5a18-9886-4970-abbd-1b7a53baebe6",
   "metadata": {},
   "outputs": [],
   "source": [
    "# get embeddings for each runner as array\n",
    "a['embedding'] = a.text.apply(model.infer_vector)"
   ]
  },
  {
   "cell_type": "code",
   "execution_count": null,
   "id": "9fdd1673-2ff1-407b-9057-7fd8ac9aebc3",
   "metadata": {},
   "outputs": [],
   "source": [
    "import numpy as np"
   ]
  },
  {
   "cell_type": "code",
   "execution_count": 1116,
   "id": "634179ff-2d94-4bb9-898b-80e6e9ae78ee",
   "metadata": {},
   "outputs": [],
   "source": [
    "# # normalize embeddings\n",
    "# b['embed_norm'] = b.embedding.apply(lambda x: x/np.linalg.norm(x))"
   ]
  },
  {
   "cell_type": "code",
   "execution_count": 1206,
   "id": "0acfb9a1-e6a6-4bb6-97de-b837ce3cdd63",
   "metadata": {},
   "outputs": [],
   "source": [
    "# normalize embeddings\n",
    "a['embed_norm'] = a.embedding.apply(lambda x: x/np.linalg.norm(x))"
   ]
  },
  {
   "cell_type": "code",
   "execution_count": 1120,
   "id": "5794bb47-ea78-4b08-a2ca-e089b37bae50",
   "metadata": {},
   "outputs": [],
   "source": [
    "# # convert embed_norm to list\n",
    "# b['embed_norml'] = b.embed_norm.apply(lambda x: x.tolist())"
   ]
  },
  {
   "cell_type": "code",
   "execution_count": 1208,
   "id": "9a3c2060-764a-4197-a934-f439b4633e9b",
   "metadata": {},
   "outputs": [],
   "source": [
    "# convert embed_norm to list\n",
    "a['embed_norml'] = a.embed_norm.apply(lambda x: x.tolist())"
   ]
  },
  {
   "cell_type": "code",
   "execution_count": 1124,
   "id": "1ac95280-39f3-404b-858e-4def6811788c",
   "metadata": {},
   "outputs": [],
   "source": [
    "# # runners single b-o-w x-sim\n",
    "# # Set up the embeddings in a dataframe.\n",
    "# dfe = pd.DataFrame(list(b.embed_norml.values), index=b.index.values)\n",
    "# # Perform the similarity calculation\n",
    "# sim_bb = dfe @ dfe.T"
   ]
  },
  {
   "cell_type": "code",
   "execution_count": 1210,
   "id": "6cfcffd5-4f41-4056-b8fa-1a21f2302273",
   "metadata": {},
   "outputs": [],
   "source": [
    "a = a.sort_values('HorseName')"
   ]
  },
  {
   "cell_type": "code",
   "execution_count": 1212,
   "id": "216aec44-916a-4b39-9c37-e815af54fd8e",
   "metadata": {},
   "outputs": [],
   "source": [
    "# runners+races b-o-w x-sim\n",
    "# Set up the embeddings in a dataframe.\n",
    "dfe = pd.DataFrame(list(a.embed_norml.values), index=a.HorseName)\n",
    "# Perform the similarity calculation\n",
    "sim_aa = dfe @ dfe.T"
   ]
  },
  {
   "cell_type": "code",
   "execution_count": null,
   "id": "fb7e571e-25a6-44db-9380-dafccb9b4198",
   "metadata": {},
   "outputs": [],
   "source": [
    "import seaborn as sns"
   ]
  },
  {
   "cell_type": "code",
   "execution_count": 1132,
   "id": "eb4a8a74-e781-47d9-a414-d159e06caf3e",
   "metadata": {},
   "outputs": [],
   "source": [
    "# sim_aa"
   ]
  },
  {
   "cell_type": "code",
   "execution_count": 1136,
   "id": "c36132ea-beab-4ad4-b236-0d1b7eb910cc",
   "metadata": {},
   "outputs": [],
   "source": [
    "# # heatmap\n",
    "# sns.heatmap(sim_aa, vmin=-1, vmax=1, cmap=\"Greens\")"
   ]
  },
  {
   "cell_type": "code",
   "execution_count": 720,
   "id": "2e870ef7-eb17-4ba7-b5ca-844ea72b3ef9",
   "metadata": {},
   "outputs": [],
   "source": [
    "# for previous winners/value of this race, get comments\n",
    "# 4/4/24\n",
    "# 17/4/23\n",
    "# 4/4/22\n",
    "# 11/4/21\n",
    "# 8/4/19\n",
    "# 16/4/18\n",
    "# 13/4/15 Divs"
   ]
  },
  {
   "cell_type": "code",
   "execution_count": 1138,
   "id": "085d5b82-83d0-453b-9f13-3f2ba1527377",
   "metadata": {},
   "outputs": [],
   "source": [
    "# df.RaceDate.values[0]=='2016-01-01'"
   ]
  },
  {
   "cell_type": "code",
   "execution_count": 1140,
   "id": "e4cdf87f-071a-44fa-800d-b074646f573c",
   "metadata": {},
   "outputs": [],
   "source": [
    "# w1 = df[ (df.CourseName=='Kelso') & (df.RT=='HcH') & (df.Class==4.0) & (df.Distance==4991) &\n",
    "#      df.RaceDate.apply(lambda x: x in ['2024-04-15','2023-04-17','2022-04-04','2021-04-11',\n",
    "#                                       '2019-04-08','2018-04-16']) ]"
   ]
  },
  {
   "cell_type": "code",
   "execution_count": 1214,
   "id": "06b9c65a-006b-4ced-8c63-96ed4468af59",
   "metadata": {},
   "outputs": [],
   "source": [
    "w2 = df[ (df.CourseName=='Kelso') & (df.RT=='HcH') & (df.Class==4.0) & (df.Distance==4991) &\n",
    "     ((df.Going1N==3)|(df.Going1N==4)) ]"
   ]
  },
  {
   "cell_type": "code",
   "execution_count": 1144,
   "id": "ee0292de-010b-4a7b-a064-ea91af73c62a",
   "metadata": {},
   "outputs": [],
   "source": [
    "# w1.RaceId.unique()"
   ]
  },
  {
   "cell_type": "code",
   "execution_count": 1216,
   "id": "6ef28915-99f9-4bc4-8c9e-c559dcabff8e",
   "metadata": {},
   "outputs": [
    {
     "data": {
      "text/plain": [
       "array([42471105, 42733114, 42835101, 42865131, 43036121, 43036122,\n",
       "       43229124, 43463114, 43563102, 43593117, 44297102, 44321115,\n",
       "       44655102, 44685116, 45033102, 45056116, 45420115])"
      ]
     },
     "execution_count": 1216,
     "metadata": {},
     "output_type": "execute_result"
    }
   ],
   "source": [
    "w2.RaceId.unique()"
   ]
  },
  {
   "cell_type": "code",
   "execution_count": 1148,
   "id": "f30ec51e-e4f5-4e36-abda-cd85a3819deb",
   "metadata": {},
   "outputs": [],
   "source": [
    "# v1 = w1[w1.Posn=='1'][['HorseName','Comments']]"
   ]
  },
  {
   "cell_type": "code",
   "execution_count": 1218,
   "id": "8ad40e3e-7c23-4bab-9297-db152f9650b4",
   "metadata": {},
   "outputs": [],
   "source": [
    "v2 = w2[w2.Posn=='1'][['HorseName','Comments']]"
   ]
  },
  {
   "cell_type": "code",
   "execution_count": 1152,
   "id": "67840f39-368d-4b02-bf73-261b2b75308e",
   "metadata": {},
   "outputs": [],
   "source": [
    "# v1['comments'] = v1.Comments.apply(lambda x: str(x).translate(str.maketrans('','',string.punctuation)))"
   ]
  },
  {
   "cell_type": "code",
   "execution_count": 1220,
   "id": "bd1f985f-1552-4d31-800e-7863b9308942",
   "metadata": {},
   "outputs": [],
   "source": [
    "v2['comments'] = v2.Comments.apply(lambda x: str(x).translate(str.maketrans('','',string.punctuation)))"
   ]
  },
  {
   "cell_type": "code",
   "execution_count": 1156,
   "id": "5c7cf47d-1305-43c4-bf6d-f679c6de586c",
   "metadata": {},
   "outputs": [],
   "source": [
    "# # get embeddings for each winner as array\n",
    "# v1['text'] = v1.comments.apply(lambda x: str(x).split())"
   ]
  },
  {
   "cell_type": "code",
   "execution_count": 1222,
   "id": "5d71f741-4e01-4b87-8457-18e9c03bf7db",
   "metadata": {},
   "outputs": [],
   "source": [
    "# get embeddings for each winner as array\n",
    "v2['text'] = v2.comments.apply(lambda x: str(x).split())"
   ]
  },
  {
   "cell_type": "code",
   "execution_count": 1160,
   "id": "23062ffc-41f3-4246-b09b-5828f1bac38d",
   "metadata": {},
   "outputs": [],
   "source": [
    "# v1['embedding'] = v1.text.apply(model.infer_vector)"
   ]
  },
  {
   "cell_type": "code",
   "execution_count": 1224,
   "id": "2f56eedf-6f5b-4d99-87bc-72453ed54237",
   "metadata": {},
   "outputs": [],
   "source": [
    "v2['embedding'] = v2.text.apply(model.infer_vector)"
   ]
  },
  {
   "cell_type": "code",
   "execution_count": 1164,
   "id": "993ba6f8-c626-449e-89e9-4bcb14b0215f",
   "metadata": {},
   "outputs": [],
   "source": [
    "# # normalize embeddings\n",
    "# v1['embed_norm'] = v1.embedding.apply(lambda x: x/np.linalg.norm(x))\n",
    "# v1['embed_norml'] = v1.embed_norm.apply(lambda x: x.tolist())"
   ]
  },
  {
   "cell_type": "code",
   "execution_count": 1226,
   "id": "d4adb6b0-1233-4945-a138-4633e60007cf",
   "metadata": {},
   "outputs": [],
   "source": [
    "# normalize embeddings\n",
    "v2['embed_norm'] = v2.embedding.apply(lambda x: x/np.linalg.norm(x))\n",
    "v2['embed_norml'] = v2.embed_norm.apply(lambda x: x.tolist())"
   ]
  },
  {
   "cell_type": "code",
   "execution_count": 1168,
   "id": "e58ec565-bdaf-467b-a252-7c8b30bb6dd8",
   "metadata": {},
   "outputs": [],
   "source": [
    "# # runners single b-o-w vs winners sim\n",
    "# # Set up the embeddings in a dataframe.\n",
    "# dfw1 = pd.DataFrame(list(v1.embed_norml.values), index=v1.index.values)\n",
    "# # Perform the similarity calculation\n",
    "# sim_aa_w1 = dfe @ dfw1.T"
   ]
  },
  {
   "cell_type": "code",
   "execution_count": 1228,
   "id": "c92f9440-d862-45a1-a151-87535fd56e52",
   "metadata": {},
   "outputs": [],
   "source": [
    "# runners single b-o-w vs winners sim\n",
    "# Set up the embeddings in a dataframe.\n",
    "dfw2 = pd.DataFrame(list(v2.embed_norml.values), index=v2.index.values)\n",
    "# Perform the similarity calculation\n",
    "sim_aa_w2 = dfe @ dfw2.T"
   ]
  },
  {
   "cell_type": "code",
   "execution_count": 1174,
   "id": "3d19508b-11f3-402e-948b-23fb1bce5a6d",
   "metadata": {},
   "outputs": [],
   "source": [
    "# sns.heatmap(sim_aa_w2, vmin=-1, vmax=1, cmap=\"Greens\");"
   ]
  },
  {
   "cell_type": "code",
   "execution_count": 1176,
   "id": "5567a26a-189f-4832-b6b6-6c22303ad33d",
   "metadata": {},
   "outputs": [],
   "source": [
    "# sim_aa_w1_m = pd.melt(sim_aa_w1.reset_index(), 'HorseName', var_name='RaceId')"
   ]
  },
  {
   "cell_type": "code",
   "execution_count": 1230,
   "id": "d11d41af-849a-4a2c-9b23-3d8c8bf3a5d9",
   "metadata": {},
   "outputs": [],
   "source": [
    "sim_aa_w2_m = pd.melt(sim_aa_w2.reset_index(), 'HorseName', var_name='RaceId')"
   ]
  },
  {
   "cell_type": "code",
   "execution_count": 1180,
   "id": "b58e0554-bec9-4c84-9c4b-b71626dd1814",
   "metadata": {},
   "outputs": [],
   "source": [
    "# sim_ord1=sim_aa_w1_m[['HorseName','value']].groupby('HorseName').median().sort_values('value',ascending=False).index.values.tolist()"
   ]
  },
  {
   "cell_type": "code",
   "execution_count": 1182,
   "id": "38fbad48-7dad-4c2c-9522-90780daada62",
   "metadata": {},
   "outputs": [],
   "source": [
    "# sns.boxplot(sim_aa_w1_m, x='value', y='HorseName',order=sim_ord1)"
   ]
  },
  {
   "cell_type": "code",
   "execution_count": 1232,
   "id": "8268804d-b488-4007-9e04-0f3dfc090dce",
   "metadata": {},
   "outputs": [],
   "source": [
    "sim_ord2=sim_aa_w2_m[['HorseName','value']].groupby('HorseName').mean().sort_values('value',ascending=False).index.values.tolist()"
   ]
  },
  {
   "cell_type": "code",
   "execution_count": 1234,
   "id": "80e2a9c0-f0e8-4f08-86c6-9acd2fc4c3ac",
   "metadata": {},
   "outputs": [
    {
     "data": {
      "text/plain": [
       "<Axes: xlabel='value', ylabel='HorseName'>"
      ]
     },
     "execution_count": 1234,
     "metadata": {},
     "output_type": "execute_result"
    },
    {
     "data": {
      "image/png": "[encoded data removed]",
      "text/plain": [
       "<Figure size 640x480 with 1 Axes>"
      ]
     },
     "metadata": {},
     "output_type": "display_data"
    }
   ],
   "source": [
    "sns.boxplot(sim_aa_w2_m, x='value', y='HorseName',order=sim_ord2)"
   ]
  },
  {
   "cell_type": "code",
   "execution_count": null,
   "id": "6e95c93e-0cdf-4d7f-9c83-3e28ead31cd9",
   "metadata": {},
   "outputs": [],
   "source": []
  }
 ],
 "metadata": {
  "kernelspec": {
   "display_name": "Python [conda env:base] *",
   "language": "python",
   "name": "conda-base-py"
  },
  "language_info": {
   "codemirror_mode": {
    "name": "ipython",
    "version": 3
   },
   "file_extension": ".py",
   "mimetype": "text/x-python",
   "name": "python",
   "nbconvert_exporter": "python",
   "pygments_lexer": "ipython3",
   "version": "3.12.7"
  }
 },
 "nbformat": 4,
 "nbformat_minor": 5
}
