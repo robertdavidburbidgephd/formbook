{
 "cells": [
  {
   "cell_type": "code",
   "execution_count": 31,
   "id": "5d4ece2a-a076-4b74-adfe-bb86b6a5df5b",
   "metadata": {},
   "outputs": [],
   "source": [
    "import pandas as pd"
   ]
  },
  {
   "cell_type": "code",
   "execution_count": 449,
   "id": "42ccfd4b-93b3-45f9-8694-004bca49ea5e",
   "metadata": {},
   "outputs": [],
   "source": [
    "import seaborn as sns"
   ]
  },
  {
   "cell_type": "code",
   "execution_count": 461,
   "id": "cb2b0d6a-3be4-4eca-9bbd-9ca70ef27289",
   "metadata": {},
   "outputs": [],
   "source": [
    "import numpy as np"
   ]
  },
  {
   "cell_type": "code",
   "execution_count": 41,
   "id": "e7d6423b-bd04-47cf-a5f3-dce9f8770ef3",
   "metadata": {},
   "outputs": [],
   "source": [
    "fpath = 'data/prep/'\n",
    "dfile = 'form_data_v2.0.csv'"
   ]
  },
  {
   "cell_type": "code",
   "execution_count": 43,
   "id": "c6c5674c-0b0f-4342-9550-16d0dc46c5c3",
   "metadata": {},
   "outputs": [],
   "source": [
    "df = pd.read_csv( fpath + dfile, header=0, parse_dates=True )"
   ]
  },
  {
   "cell_type": "code",
   "execution_count": 8,
   "id": "b773e234-02a8-4e96-854d-54978824f4de",
   "metadata": {},
   "outputs": [
    {
     "data": {
      "text/html": [
       "<div>\n",
       "<style scoped>\n",
       "    .dataframe tbody tr th:only-of-type {\n",
       "        vertical-align: middle;\n",
       "    }\n",
       "\n",
       "    .dataframe tbody tr th {\n",
       "        vertical-align: top;\n",
       "    }\n",
       "\n",
       "    .dataframe thead th {\n",
       "        text-align: right;\n",
       "    }\n",
       "</style>\n",
       "<table border=\"1\" class=\"dataframe\">\n",
       "  <thead>\n",
       "    <tr style=\"text-align: right;\">\n",
       "      <th></th>\n",
       "      <th>RaceId</th>\n",
       "      <th>CourseName</th>\n",
       "      <th>RaceDate</th>\n",
       "      <th>RaceTime</th>\n",
       "      <th>Class</th>\n",
       "      <th>Prize</th>\n",
       "      <th>FieldSize</th>\n",
       "      <th>Distance</th>\n",
       "      <th>RaceWinTime</th>\n",
       "      <th>Posn</th>\n",
       "      <th>...</th>\n",
       "      <th>RT</th>\n",
       "      <th>AgeMin</th>\n",
       "      <th>AgeMax</th>\n",
       "      <th>AW</th>\n",
       "      <th>Going1</th>\n",
       "      <th>Going1N</th>\n",
       "      <th>Won</th>\n",
       "      <th>Placed</th>\n",
       "      <th>ReturnWin</th>\n",
       "      <th>ReturnPlace</th>\n",
       "    </tr>\n",
       "  </thead>\n",
       "  <tbody>\n",
       "    <tr>\n",
       "      <th>23718</th>\n",
       "      <td>42472109</td>\n",
       "      <td>Newmarket</td>\n",
       "      <td>2016-04-12</td>\n",
       "      <td>14:10:00</td>\n",
       "      <td>4.0</td>\n",
       "      <td>5499.0</td>\n",
       "      <td>14</td>\n",
       "      <td>1760</td>\n",
       "      <td>102.09</td>\n",
       "      <td>1</td>\n",
       "      <td>...</td>\n",
       "      <td>MdF</td>\n",
       "      <td>3.0</td>\n",
       "      <td>3.0</td>\n",
       "      <td>False</td>\n",
       "      <td>goodtosoft</td>\n",
       "      <td>4.0</td>\n",
       "      <td>True</td>\n",
       "      <td>0.2</td>\n",
       "      <td>2.75</td>\n",
       "      <td>1.35</td>\n",
       "    </tr>\n",
       "    <tr>\n",
       "      <th>23719</th>\n",
       "      <td>42472109</td>\n",
       "      <td>Newmarket</td>\n",
       "      <td>2016-04-12</td>\n",
       "      <td>14:10:00</td>\n",
       "      <td>4.0</td>\n",
       "      <td>5499.0</td>\n",
       "      <td>14</td>\n",
       "      <td>1760</td>\n",
       "      <td>102.09</td>\n",
       "      <td>2</td>\n",
       "      <td>...</td>\n",
       "      <td>MdF</td>\n",
       "      <td>3.0</td>\n",
       "      <td>3.0</td>\n",
       "      <td>False</td>\n",
       "      <td>goodtosoft</td>\n",
       "      <td>4.0</td>\n",
       "      <td>False</td>\n",
       "      <td>0.2</td>\n",
       "      <td>0.00</td>\n",
       "      <td>2.10</td>\n",
       "    </tr>\n",
       "    <tr>\n",
       "      <th>23720</th>\n",
       "      <td>42472109</td>\n",
       "      <td>Newmarket</td>\n",
       "      <td>2016-04-12</td>\n",
       "      <td>14:10:00</td>\n",
       "      <td>4.0</td>\n",
       "      <td>5499.0</td>\n",
       "      <td>14</td>\n",
       "      <td>1760</td>\n",
       "      <td>102.09</td>\n",
       "      <td>3</td>\n",
       "      <td>...</td>\n",
       "      <td>MdF</td>\n",
       "      <td>3.0</td>\n",
       "      <td>3.0</td>\n",
       "      <td>False</td>\n",
       "      <td>goodtosoft</td>\n",
       "      <td>4.0</td>\n",
       "      <td>False</td>\n",
       "      <td>0.2</td>\n",
       "      <td>0.00</td>\n",
       "      <td>3.20</td>\n",
       "    </tr>\n",
       "    <tr>\n",
       "      <th>23721</th>\n",
       "      <td>42472109</td>\n",
       "      <td>Newmarket</td>\n",
       "      <td>2016-04-12</td>\n",
       "      <td>14:10:00</td>\n",
       "      <td>4.0</td>\n",
       "      <td>5499.0</td>\n",
       "      <td>14</td>\n",
       "      <td>1760</td>\n",
       "      <td>102.09</td>\n",
       "      <td>4</td>\n",
       "      <td>...</td>\n",
       "      <td>MdF</td>\n",
       "      <td>3.0</td>\n",
       "      <td>3.0</td>\n",
       "      <td>False</td>\n",
       "      <td>goodtosoft</td>\n",
       "      <td>4.0</td>\n",
       "      <td>False</td>\n",
       "      <td>0.0</td>\n",
       "      <td>0.00</td>\n",
       "      <td>0.00</td>\n",
       "    </tr>\n",
       "    <tr>\n",
       "      <th>23722</th>\n",
       "      <td>42472109</td>\n",
       "      <td>Newmarket</td>\n",
       "      <td>2016-04-12</td>\n",
       "      <td>14:10:00</td>\n",
       "      <td>4.0</td>\n",
       "      <td>5499.0</td>\n",
       "      <td>14</td>\n",
       "      <td>1760</td>\n",
       "      <td>102.09</td>\n",
       "      <td>5</td>\n",
       "      <td>...</td>\n",
       "      <td>MdF</td>\n",
       "      <td>3.0</td>\n",
       "      <td>3.0</td>\n",
       "      <td>False</td>\n",
       "      <td>goodtosoft</td>\n",
       "      <td>4.0</td>\n",
       "      <td>False</td>\n",
       "      <td>0.0</td>\n",
       "      <td>0.00</td>\n",
       "      <td>0.00</td>\n",
       "    </tr>\n",
       "    <tr>\n",
       "      <th>...</th>\n",
       "      <td>...</td>\n",
       "      <td>...</td>\n",
       "      <td>...</td>\n",
       "      <td>...</td>\n",
       "      <td>...</td>\n",
       "      <td>...</td>\n",
       "      <td>...</td>\n",
       "      <td>...</td>\n",
       "      <td>...</td>\n",
       "      <td>...</td>\n",
       "      <td>...</td>\n",
       "      <td>...</td>\n",
       "      <td>...</td>\n",
       "      <td>...</td>\n",
       "      <td>...</td>\n",
       "      <td>...</td>\n",
       "      <td>...</td>\n",
       "      <td>...</td>\n",
       "      <td>...</td>\n",
       "      <td>...</td>\n",
       "      <td>...</td>\n",
       "    </tr>\n",
       "    <tr>\n",
       "      <th>1066786</th>\n",
       "      <td>45598121</td>\n",
       "      <td>Newmarket</td>\n",
       "      <td>2024-11-02</td>\n",
       "      <td>16:00:00</td>\n",
       "      <td>4.0</td>\n",
       "      <td>6185.0</td>\n",
       "      <td>9</td>\n",
       "      <td>1540</td>\n",
       "      <td>88.89</td>\n",
       "      <td>5</td>\n",
       "      <td>...</td>\n",
       "      <td>Hc</td>\n",
       "      <td>3.0</td>\n",
       "      <td>NaN</td>\n",
       "      <td>False</td>\n",
       "      <td>soft</td>\n",
       "      <td>5.0</td>\n",
       "      <td>False</td>\n",
       "      <td>0.0</td>\n",
       "      <td>0.00</td>\n",
       "      <td>0.00</td>\n",
       "    </tr>\n",
       "    <tr>\n",
       "      <th>1066787</th>\n",
       "      <td>45598121</td>\n",
       "      <td>Newmarket</td>\n",
       "      <td>2024-11-02</td>\n",
       "      <td>16:00:00</td>\n",
       "      <td>4.0</td>\n",
       "      <td>6185.0</td>\n",
       "      <td>9</td>\n",
       "      <td>1540</td>\n",
       "      <td>88.89</td>\n",
       "      <td>6</td>\n",
       "      <td>...</td>\n",
       "      <td>Hc</td>\n",
       "      <td>3.0</td>\n",
       "      <td>NaN</td>\n",
       "      <td>False</td>\n",
       "      <td>soft</td>\n",
       "      <td>5.0</td>\n",
       "      <td>False</td>\n",
       "      <td>0.0</td>\n",
       "      <td>0.00</td>\n",
       "      <td>0.00</td>\n",
       "    </tr>\n",
       "    <tr>\n",
       "      <th>1066788</th>\n",
       "      <td>45598121</td>\n",
       "      <td>Newmarket</td>\n",
       "      <td>2024-11-02</td>\n",
       "      <td>16:00:00</td>\n",
       "      <td>4.0</td>\n",
       "      <td>6185.0</td>\n",
       "      <td>9</td>\n",
       "      <td>1540</td>\n",
       "      <td>88.89</td>\n",
       "      <td>7</td>\n",
       "      <td>...</td>\n",
       "      <td>Hc</td>\n",
       "      <td>3.0</td>\n",
       "      <td>NaN</td>\n",
       "      <td>False</td>\n",
       "      <td>soft</td>\n",
       "      <td>5.0</td>\n",
       "      <td>False</td>\n",
       "      <td>0.0</td>\n",
       "      <td>0.00</td>\n",
       "      <td>0.00</td>\n",
       "    </tr>\n",
       "    <tr>\n",
       "      <th>1066789</th>\n",
       "      <td>45598121</td>\n",
       "      <td>Newmarket</td>\n",
       "      <td>2024-11-02</td>\n",
       "      <td>16:00:00</td>\n",
       "      <td>4.0</td>\n",
       "      <td>6185.0</td>\n",
       "      <td>9</td>\n",
       "      <td>1540</td>\n",
       "      <td>88.89</td>\n",
       "      <td>8</td>\n",
       "      <td>...</td>\n",
       "      <td>Hc</td>\n",
       "      <td>3.0</td>\n",
       "      <td>NaN</td>\n",
       "      <td>False</td>\n",
       "      <td>soft</td>\n",
       "      <td>5.0</td>\n",
       "      <td>False</td>\n",
       "      <td>0.0</td>\n",
       "      <td>0.00</td>\n",
       "      <td>0.00</td>\n",
       "    </tr>\n",
       "    <tr>\n",
       "      <th>1066790</th>\n",
       "      <td>45598121</td>\n",
       "      <td>Newmarket</td>\n",
       "      <td>2024-11-02</td>\n",
       "      <td>16:00:00</td>\n",
       "      <td>4.0</td>\n",
       "      <td>6185.0</td>\n",
       "      <td>9</td>\n",
       "      <td>1540</td>\n",
       "      <td>88.89</td>\n",
       "      <td>9</td>\n",
       "      <td>...</td>\n",
       "      <td>Hc</td>\n",
       "      <td>3.0</td>\n",
       "      <td>NaN</td>\n",
       "      <td>False</td>\n",
       "      <td>soft</td>\n",
       "      <td>5.0</td>\n",
       "      <td>False</td>\n",
       "      <td>0.0</td>\n",
       "      <td>0.00</td>\n",
       "      <td>0.00</td>\n",
       "    </tr>\n",
       "  </tbody>\n",
       "</table>\n",
       "<p>21971 rows × 30 columns</p>\n",
       "</div>"
      ],
      "text/plain": [
       "           RaceId CourseName    RaceDate  RaceTime  Class   Prize  FieldSize  \\\n",
       "23718    42472109  Newmarket  2016-04-12  14:10:00    4.0  5499.0         14   \n",
       "23719    42472109  Newmarket  2016-04-12  14:10:00    4.0  5499.0         14   \n",
       "23720    42472109  Newmarket  2016-04-12  14:10:00    4.0  5499.0         14   \n",
       "23721    42472109  Newmarket  2016-04-12  14:10:00    4.0  5499.0         14   \n",
       "23722    42472109  Newmarket  2016-04-12  14:10:00    4.0  5499.0         14   \n",
       "...           ...        ...         ...       ...    ...     ...        ...   \n",
       "1066786  45598121  Newmarket  2024-11-02  16:00:00    4.0  6185.0          9   \n",
       "1066787  45598121  Newmarket  2024-11-02  16:00:00    4.0  6185.0          9   \n",
       "1066788  45598121  Newmarket  2024-11-02  16:00:00    4.0  6185.0          9   \n",
       "1066789  45598121  Newmarket  2024-11-02  16:00:00    4.0  6185.0          9   \n",
       "1066790  45598121  Newmarket  2024-11-02  16:00:00    4.0  6185.0          9   \n",
       "\n",
       "         Distance  RaceWinTime Posn  ...   RT AgeMin  AgeMax     AW  \\\n",
       "23718        1760       102.09    1  ...  MdF    3.0     3.0  False   \n",
       "23719        1760       102.09    2  ...  MdF    3.0     3.0  False   \n",
       "23720        1760       102.09    3  ...  MdF    3.0     3.0  False   \n",
       "23721        1760       102.09    4  ...  MdF    3.0     3.0  False   \n",
       "23722        1760       102.09    5  ...  MdF    3.0     3.0  False   \n",
       "...           ...          ...  ...  ...  ...    ...     ...    ...   \n",
       "1066786      1540        88.89    5  ...   Hc    3.0     NaN  False   \n",
       "1066787      1540        88.89    6  ...   Hc    3.0     NaN  False   \n",
       "1066788      1540        88.89    7  ...   Hc    3.0     NaN  False   \n",
       "1066789      1540        88.89    8  ...   Hc    3.0     NaN  False   \n",
       "1066790      1540        88.89    9  ...   Hc    3.0     NaN  False   \n",
       "\n",
       "             Going1 Going1N    Won  Placed ReturnWin ReturnPlace  \n",
       "23718    goodtosoft     4.0   True     0.2      2.75        1.35  \n",
       "23719    goodtosoft     4.0  False     0.2      0.00        2.10  \n",
       "23720    goodtosoft     4.0  False     0.2      0.00        3.20  \n",
       "23721    goodtosoft     4.0  False     0.0      0.00        0.00  \n",
       "23722    goodtosoft     4.0  False     0.0      0.00        0.00  \n",
       "...             ...     ...    ...     ...       ...         ...  \n",
       "1066786        soft     5.0  False     0.0      0.00        0.00  \n",
       "1066787        soft     5.0  False     0.0      0.00        0.00  \n",
       "1066788        soft     5.0  False     0.0      0.00        0.00  \n",
       "1066789        soft     5.0  False     0.0      0.00        0.00  \n",
       "1066790        soft     5.0  False     0.0      0.00        0.00  \n",
       "\n",
       "[21971 rows x 30 columns]"
      ]
     },
     "execution_count": 8,
     "metadata": {},
     "output_type": "execute_result"
    }
   ],
   "source": [
    "new = df[df.CourseName=='Newmarket']\n",
    "new"
   ]
  },
  {
   "cell_type": "code",
   "execution_count": null,
   "id": "7ad9b788-6191-4aac-a97e-2504924d7373",
   "metadata": {},
   "outputs": [],
   "source": []
  },
  {
   "cell_type": "code",
   "execution_count": 29,
   "id": "bed48b3b-f450-4dd6-b710-ae90556237f3",
   "metadata": {},
   "outputs": [
    {
     "data": {
      "text/plain": [
       "CourseName\n",
       "Salisbury      0.929504\n",
       "Laytown        0.867782\n",
       "Tipperary      0.843513\n",
       "Pontefract     0.842370\n",
       "Epsom Downs    0.837759\n",
       "Tramore        0.835891\n",
       "Nottingham     0.828969\n",
       "Leicester      0.828961\n",
       "Yarmouth       0.821730\n",
       "Carlisle       0.819402\n",
       "Bath           0.818955\n",
       "Ripon          0.815687\n",
       "Brighton       0.815218\n",
       "Sandown        0.813121\n",
       "Goodwood       0.811497\n",
       "Thurles        0.803646\n",
       "Haydock        0.803314\n",
       "Hamilton       0.800430\n",
       "Thirsk         0.799466\n",
       "Ballinrobe     0.799431\n",
       "Name: ReturnWin, dtype: float64"
      ]
     },
     "execution_count": 29,
     "metadata": {},
     "output_type": "execute_result"
    }
   ],
   "source": [
    "df[df.RT=='Hc'][['CourseName', 'ReturnWin']].groupby('CourseName').mean().squeeze().nlargest(20)"
   ]
  },
  {
   "cell_type": "code",
   "execution_count": null,
   "id": "027821df-72f5-45d8-b9a8-d6073c108037",
   "metadata": {},
   "outputs": [],
   "source": []
  },
  {
   "cell_type": "code",
   "execution_count": 597,
   "id": "c33504f1-f90a-4d8f-8868-a7ee283d29bb",
   "metadata": {},
   "outputs": [],
   "source": [
    "yor = df[df.CourseName=='York']\n",
    "# yor"
   ]
  },
  {
   "cell_type": "code",
   "execution_count": 599,
   "id": "6fdc9944-1584-4e43-a565-4ad272d41d69",
   "metadata": {},
   "outputs": [],
   "source": [
    "yor1 = yor[['FieldSize','Draw','Sp','Posn','TotalBtn','ReturnPlace','ReturnWin']]"
   ]
  },
  {
   "cell_type": "code",
   "execution_count": 601,
   "id": "62a327cf-9ced-4244-a30a-5154f26a28c4",
   "metadata": {},
   "outputs": [
    {
     "name": "stdout",
     "output_type": "stream",
     "text": [
      "<class 'pandas.core.frame.DataFrame'>\n",
      "Index: 12771 entries, 35084 to 1058781\n",
      "Data columns (total 7 columns):\n",
      " #   Column       Non-Null Count  Dtype  \n",
      "---  ------       --------------  -----  \n",
      " 0   FieldSize    12771 non-null  int64  \n",
      " 1   Draw         12771 non-null  float64\n",
      " 2   Sp           12771 non-null  float64\n",
      " 3   Posn         12771 non-null  object \n",
      " 4   TotalBtn     12734 non-null  float64\n",
      " 5   ReturnPlace  12771 non-null  float64\n",
      " 6   ReturnWin    12771 non-null  float64\n",
      "dtypes: float64(5), int64(1), object(1)\n",
      "memory usage: 798.2+ KB\n"
     ]
    }
   ],
   "source": [
    "yor1.info()"
   ]
  },
  {
   "cell_type": "code",
   "execution_count": 603,
   "id": "c32030e7-6acd-4668-b913-9cf6d8e4bb46",
   "metadata": {},
   "outputs": [
    {
     "data": {
      "text/plain": [
       "array(['1', '2', '3', '4', '5', '6', '7', '8', '9', '10', '11', '12',\n",
       "       '13', '14', '15', '16', '17', '18', '19', '20', 'F', 'U', 'PU',\n",
       "       '21', 'RR', '22'], dtype=object)"
      ]
     },
     "execution_count": 603,
     "metadata": {},
     "output_type": "execute_result"
    }
   ],
   "source": [
    "yor1.Posn.unique()"
   ]
  },
  {
   "cell_type": "code",
   "execution_count": 605,
   "id": "56b80014-af27-4859-a6ec-d90670f423a0",
   "metadata": {},
   "outputs": [],
   "source": [
    "# did not finish implies nothing about draw bias\n",
    "yor1 = yor1[yor1.Posn.str.isnumeric()]"
   ]
  },
  {
   "cell_type": "code",
   "execution_count": 607,
   "id": "8e1ffa07-d069-41fc-aa6b-716844984e49",
   "metadata": {},
   "outputs": [],
   "source": [
    "# yor2 = pd.DataFrame({'FieldSize': yor1.FieldSize, 'Draw': yor1.Draw.apply(int), 'Index': yor1.Sp/yor1.Posn.apply(int)})"
   ]
  },
  {
   "cell_type": "code",
   "execution_count": 609,
   "id": "060d6f2e-466e-46bf-b742-fb784e5351bd",
   "metadata": {},
   "outputs": [],
   "source": [
    "# yor2 = pd.DataFrame({'FieldSize': yor1.FieldSize, 'Draw': yor1.Draw.apply(int), 'Index': yor1.Sp/(yor1.TotalBtn+1)})"
   ]
  },
  {
   "cell_type": "code",
   "execution_count": 611,
   "id": "410bc831-9329-49f8-bf65-307bf66b8229",
   "metadata": {},
   "outputs": [],
   "source": [
    "yor2 = pd.DataFrame({'FieldSize': yor1.FieldSize, 'Draw': yor1.Draw.apply(int), 'Index': yor1.ReturnPlace+yor1.ReturnWin})"
   ]
  },
  {
   "cell_type": "code",
   "execution_count": 613,
   "id": "03227086-3b91-4c4b-999e-187bc94d3ef2",
   "metadata": {},
   "outputs": [],
   "source": [
    "yor3a = yor2[['FieldSize','Draw','Index']].groupby(['FieldSize','Draw']).mean()\n",
    "yor3n = yor2[['FieldSize','Draw','Index']].groupby(['FieldSize','Draw']).count()"
   ]
  },
  {
   "cell_type": "code",
   "execution_count": 615,
   "id": "a6f42540-e494-4b2b-a217-934719a14916",
   "metadata": {
    "scrolled": true
   },
   "outputs": [],
   "source": [
    "yor4a = yor3a.reset_index().pivot_table(index='FieldSize',columns='Draw')\n",
    "yor4n = yor3n.reset_index().pivot_table(index='FieldSize',columns='Draw')"
   ]
  },
  {
   "cell_type": "code",
   "execution_count": 617,
   "id": "5feadf11-dbb1-4d90-92b7-6ebdd912ff55",
   "metadata": {},
   "outputs": [],
   "source": [
    "# yor4a.fillna(0, inplace=True) # NAs are automatically masked in heatmap\n",
    "yor4n.fillna(0, inplace=True)"
   ]
  },
  {
   "cell_type": "code",
   "execution_count": 619,
   "id": "b1adccee-ae32-4912-abd1-702b16f0b9d6",
   "metadata": {},
   "outputs": [],
   "source": [
    "yor5a = yor4a.to_numpy()\n",
    "yor5n = yor4n.to_numpy()"
   ]
  },
  {
   "cell_type": "code",
   "execution_count": 621,
   "id": "036973c6-20ea-45fd-857e-a5583f94933c",
   "metadata": {},
   "outputs": [],
   "source": [
    "# log-scale support (n)\n",
    "yor5n = np.round(np.log(yor5n+1))"
   ]
  },
  {
   "cell_type": "code",
   "execution_count": 623,
   "id": "01cf5a38-2c7a-4f6a-8cb5-b29e81ab27a4",
   "metadata": {},
   "outputs": [],
   "source": [
    "i1 = (yor5.shape[1] - (yor5!=0).sum(axis=1))//2\n",
    "i2 = (yor5!=0).sum(axis=1)"
   ]
  },
  {
   "cell_type": "code",
   "execution_count": 625,
   "id": "83852d0b-bdc7-4a5f-914f-b30215f28cde",
   "metadata": {},
   "outputs": [],
   "source": [
    "# i1 = (yor5.shape[1] - yor4a.index.values)//2\n",
    "# i2 = (yor5!=0).sum(axis=1)"
   ]
  },
  {
   "cell_type": "code",
   "execution_count": 627,
   "id": "8791dbd4-9dfd-430d-90e1-0f2974671d97",
   "metadata": {},
   "outputs": [],
   "source": [
    "yor6a = np.zeros(yor5a.shape)\n",
    "yor6n = np.empty(yor5n.shape, dtype=str)"
   ]
  },
  {
   "cell_type": "code",
   "execution_count": 629,
   "id": "37cfa658-075f-4703-90e6-db7c3f2a8394",
   "metadata": {},
   "outputs": [],
   "source": [
    "for i in range(yor5.shape[0]):\n",
    "    yor6a[ i, i1[i]:(i1[i]+i2[i]) ] = yor5a[ i, :i2[i]] \n",
    "    yor6n[ i, i1[i]:(i1[i]+i2[i]) ] = yor5n[ i, :i2[i]] "
   ]
  },
  {
   "cell_type": "code",
   "execution_count": 667,
   "id": "0992981c-d87f-4ae0-9ef1-630828c87440",
   "metadata": {},
   "outputs": [
    {
     "data": {
      "text/plain": [
       "Text(0.5, 1.0, 'E/W Return Draw Bias, York (all races)')"
      ]
     },
     "execution_count": 667,
     "metadata": {},
     "output_type": "execute_result"
    }
   ],
   "source": [
    "%matplotlib inline\n",
    "from matplotlib import pyplot as plt\n",
    "plt.figure()\n",
    "plt.title('E/W Return Draw Bias, York (all races)')"
   ]
  },
  {
   "cell_type": "code",
   "execution_count": 669,
   "id": "8a6e13aa-2fa3-4709-88e5-b6918375b61a",
   "metadata": {},
   "outputs": [],
   "source": [
    "sns.heatmap(pd.DataFrame(yor6a, index=yor4a.index, columns=yor4a.columns.get_level_values(1).rename('Draw (low to high, centered)')),\n",
    "            cmap='gist_earth_r', robust=True, annot=yor6n, fmt='', annot_kws={'fontsize': 'xx-small'},\n",
    "            xticklabels=False, yticklabels=2)\n",
    "plt.savefig('image.png')"
   ]
  },
  {
   "cell_type": "code",
   "execution_count": 653,
   "id": "fe33f049-5942-40fc-a5e6-d378f9957db6",
   "metadata": {},
   "outputs": [
    {
     "data": {
      "image/png": "[encoded data removed]",
      "text/plain": [
       "<Figure size 640x480 with 2 Axes>"
      ]
     },
     "metadata": {},
     "output_type": "display_data"
    }
   ],
   "source": [
    "plt.show()"
   ]
  },
  {
   "cell_type": "code",
   "execution_count": 657,
   "id": "e3fd026b-90ff-4712-a4ac-784497b44048",
   "metadata": {},
   "outputs": [],
   "source": []
  }
 ],
 "metadata": {
  "kernelspec": {
   "display_name": "Python [conda env:base] *",
   "language": "python",
   "name": "conda-base-py"
  },
  "language_info": {
   "codemirror_mode": {
    "name": "ipython",
    "version": 3
   },
   "file_extension": ".py",
   "mimetype": "text/x-python",
   "name": "python",
   "nbconvert_exporter": "python",
   "pygments_lexer": "ipython3",
   "version": "3.12.7"
  }
 },
 "nbformat": 4,
 "nbformat_minor": 5
}
